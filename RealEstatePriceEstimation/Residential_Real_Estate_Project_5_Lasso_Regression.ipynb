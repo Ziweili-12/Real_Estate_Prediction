{
 "cells": [
  {
   "cell_type": "markdown",
   "metadata": {},
   "source": [
    "# Project 5: Feature Selection and LASSO"
   ]
  },
  {
   "cell_type": "markdown",
   "metadata": {},
   "source": [
    "In this notebook, you will use LASSO to select features, building on a pre-implemented solver for LASSO. You will:\n",
    "* Run LASSO with different L1 penalties.\n",
    "* Choose best L1 penalty using a validation set.\n",
    "* Choose best L1 penalty using a validation set, with additional constraint on the size of subset.\n",
    "In the second part, you will implement your own LASSO solver, using coordinate descent.\n",
    "\n",
    "We will continue to use the House data from Redfin."
   ]
  },
  {
   "cell_type": "code",
   "execution_count": 1,
   "metadata": {},
   "outputs": [],
   "source": [
    "import numpy as np\n",
    "import pandas as pd"
   ]
  },
  {
   "cell_type": "markdown",
   "metadata": {},
   "source": [
    "# Load in house sales data"
   ]
  },
  {
   "cell_type": "code",
   "execution_count": 279,
   "metadata": {},
   "outputs": [],
   "source": [
    "df = pd.read_csv('merged.csv')"
   ]
  },
  {
   "cell_type": "markdown",
   "metadata": {},
   "source": [
    "# Create new features"
   ]
  },
  {
   "cell_type": "markdown",
   "metadata": {},
   "source": [
    "Recall in Project 2, we consider features that are some transformations of inputs.\n",
    "Create square root of SQUARE FEET, square root of LOT SIZE, SQUARE of BEDS, and SQUARE of BATHS\n",
    "* Squaring bedrooms will increase the separation between not many bedrooms (e.g. 1) and lots of bedrooms (e.g. 4) since 1^2 = 1 but 4^2 = 16. Consequently this variable will mostly affect houses with many bedrooms.\n",
    "* On the other hand, taking square root of sqft_living will decrease the separation between big house and small house. The owner may not be exactly twice as happy for getting a house that is twice as big.\n"
   ]
  },
  {
   "cell_type": "code",
   "execution_count": 3,
   "metadata": {},
   "outputs": [],
   "source": [
    "from math import sqrt"
   ]
  },
  {
   "cell_type": "code",
   "execution_count": 280,
   "metadata": {},
   "outputs": [],
   "source": [
    "df['sqft_sqrt'] = df['SQUARE FEET'].apply(lambda x:sqrt(x))\n",
    "df['lot_sqrt'] = df['LOT SIZE'].apply(lambda x:sqrt(x))\n",
    "df['bedrooms_square'] = (df['BEDS']) * (df['BEDS'])\n",
    "df['bath_square'] = (df['BATHS']) * (df['BATHS'])"
   ]
  },
  {
   "cell_type": "code",
   "execution_count": 281,
   "metadata": {},
   "outputs": [
    {
     "data": {
      "text/plain": [
       "array(['SALE TYPE', 'SOLD DATE', 'PROPERTY TYPE', 'ADDRESS', 'CITY',\n",
       "       'STATE OR PROVINCE', 'ZIP OR POSTAL CODE', 'PRICE', 'BEDS',\n",
       "       'BATHS', 'LOCATION', 'SQUARE FEET', 'LOT SIZE', 'YEAR BUILT',\n",
       "       'DAYS ON MARKET', '$/SQUARE FEET', 'HOA/MONTH', 'STATUS',\n",
       "       'NEXT OPEN HOUSE START TIME', 'NEXT OPEN HOUSE END TIME',\n",
       "       'URL (SEE http://www.redfin.com/buy-a-home/comparative-market-analysis FOR INFO ON PRICING)',\n",
       "       'SOURCE', 'MLS#', 'FAVORITE', 'INTERESTED', 'LATITUDE',\n",
       "       'LONGITUDE', 'sqft_sqrt', 'lot_sqrt', 'bedrooms_square',\n",
       "       'bath_square'], dtype=object)"
      ]
     },
     "execution_count": 281,
     "metadata": {},
     "output_type": "execute_result"
    }
   ],
   "source": [
    "df.columns.values"
   ]
  },
  {
   "cell_type": "markdown",
   "metadata": {},
   "source": [
    "# Learn regression weights with L1 penalty\n"
   ]
  },
  {
   "cell_type": "markdown",
   "metadata": {},
   "source": [
    "Let us fit a model with all the features available ('SQUARE FEET', 'LOT SIZE', \n",
    "                'BEDS', 'BATHS', 'CITY', \n",
    "                'PROPERTY TYPE', 'ZIP OR POSTAL CODE', \n",
    "                'YEAR BUILT'), plus the features we just created above. \n",
    "                \n",
    "Note: For 'CITY' and 'PROPERTY TYPE' convert them to categorical features first then do label encoding."
   ]
  },
  {
   "cell_type": "code",
   "execution_count": 11,
   "metadata": {},
   "outputs": [],
   "source": [
    "from sklearn.preprocessing import LabelEncoder"
   ]
  },
  {
   "cell_type": "code",
   "execution_count": 14,
   "metadata": {},
   "outputs": [],
   "source": [
    "# Transform city columns to categorical features"
   ]
  },
  {
   "cell_type": "code",
   "execution_count": 282,
   "metadata": {},
   "outputs": [],
   "source": [
    "df['CITY'] = df.CITY.str.upper()"
   ]
  },
  {
   "cell_type": "code",
   "execution_count": 283,
   "metadata": {},
   "outputs": [],
   "source": [
    "labelencoder = LabelEncoder()"
   ]
  },
  {
   "cell_type": "code",
   "execution_count": 284,
   "metadata": {},
   "outputs": [],
   "source": [
    "df['CITY_cat'] = labelencoder.fit_transform(df['CITY'].astype(str))"
   ]
  },
  {
   "cell_type": "code",
   "execution_count": 285,
   "metadata": {},
   "outputs": [],
   "source": [
    "# Transform property type to categorical data"
   ]
  },
  {
   "cell_type": "code",
   "execution_count": 286,
   "metadata": {},
   "outputs": [],
   "source": [
    "df['PROPERTY TYPE_cat'] = labelencoder.fit_transform(df['PROPERTY TYPE'].astype(str))"
   ]
  },
  {
   "cell_type": "code",
   "execution_count": 287,
   "metadata": {},
   "outputs": [],
   "source": [
    "df['ZIP OR POSTAL CODE'] = labelencoder.fit_transform(df['ZIP OR POSTAL CODE'])"
   ]
  },
  {
   "cell_type": "code",
   "execution_count": 288,
   "metadata": {},
   "outputs": [],
   "source": [
    "all_features = ['SQUARE FEET', 'LOT SIZE', \n",
    "                'BEDS', 'BATHS', 'CITY_cat', \n",
    "                'PROPERTY TYPE_cat', 'ZIP OR POSTAL CODE', \n",
    "                'YEAR BUILT', 'sqft_sqrt','lot_sqrt','bedrooms_square','bath_square']"
   ]
  },
  {
   "cell_type": "markdown",
   "metadata": {},
   "source": [
    "Applying L1 penalty = 1e7 using lasso Regression."
   ]
  },
  {
   "cell_type": "code",
   "execution_count": 31,
   "metadata": {},
   "outputs": [],
   "source": [
    "from sklearn.linear_model import Lasso"
   ]
  },
  {
   "cell_type": "code",
   "execution_count": 289,
   "metadata": {},
   "outputs": [],
   "source": [
    "df2 = df[all_features+['PRICE']].dropna()"
   ]
  },
  {
   "cell_type": "code",
   "execution_count": 407,
   "metadata": {},
   "outputs": [],
   "source": [
    "y = df2['PRICE']\n",
    "X = df2[all_features]"
   ]
  },
  {
   "cell_type": "code",
   "execution_count": 408,
   "metadata": {},
   "outputs": [],
   "source": [
    "model = Lasso(alpha=1e7)"
   ]
  },
  {
   "cell_type": "code",
   "execution_count": 409,
   "metadata": {},
   "outputs": [],
   "source": [
    "model_1 = model.fit(X,y)"
   ]
  },
  {
   "cell_type": "markdown",
   "metadata": {},
   "source": [
    "Find what features had non-zero weight."
   ]
  },
  {
   "cell_type": "code",
   "execution_count": 410,
   "metadata": {},
   "outputs": [],
   "source": [
    "def print_outcome(coefficients,intercept,input_features):\n",
    "    for x in range(len(input_features)):\n",
    "        print('The coefficient for {} is {}'.format(input_features[x],coefficients[x]))\n",
    "    print('The intercept is {}'.format(intercept))"
   ]
  },
  {
   "cell_type": "code",
   "execution_count": 411,
   "metadata": {},
   "outputs": [
    {
     "name": "stdout",
     "output_type": "stream",
     "text": [
      "The coefficient for SQUARE FEET is 463.76165990713747\n",
      "The coefficient for LOT SIZE is -0.11077069410463157\n",
      "The coefficient for BEDS is 0.0\n",
      "The coefficient for BATHS is 0.0\n",
      "The coefficient for CITY_cat is -0.0\n",
      "The coefficient for PROPERTY TYPE_cat is -0.0\n",
      "The coefficient for ZIP OR POSTAL CODE is -0.0\n",
      "The coefficient for YEAR BUILT is 0.0\n",
      "The coefficient for sqft_sqrt is 0.0\n",
      "The coefficient for lot_sqrt is -0.0\n",
      "The coefficient for bedrooms_square is 0.0\n",
      "The coefficient for bath_square is 0.0\n",
      "The intercept is 221406.58328447246\n"
     ]
    }
   ],
   "source": [
    "print_outcome(model_1.coef_,model_1.intercept_,all_features)"
   ]
  },
  {
   "cell_type": "markdown",
   "metadata": {},
   "source": [
    "Note that a majority of the weights have been set to zero. So by setting an L1 penalty that's large enough, we are performing a subset selection.\n",
    "\n",
    "According to this list of weights, which of the features have been chosen?"
   ]
  },
  {
   "cell_type": "code",
   "execution_count": 412,
   "metadata": {},
   "outputs": [],
   "source": [
    "# From the previous test, I find that most of them's coefficients are 0.\n",
    "# After removing those features, I only have SQUARE FEET, LOT SIZE, ZIP OR POSTAL CODE"
   ]
  },
  {
   "cell_type": "markdown",
   "metadata": {},
   "source": [
    "# Selecting an L1 penalty"
   ]
  },
  {
   "cell_type": "markdown",
   "metadata": {},
   "source": [
    "To find a good L1 penalty, we will explore multiple values using a validation set. Let us do three way split into train, validation, and test sets with 45/45/10"
   ]
  },
  {
   "cell_type": "code",
   "execution_count": 413,
   "metadata": {},
   "outputs": [],
   "source": [
    "from sklearn.model_selection import train_test_split"
   ]
  },
  {
   "cell_type": "code",
   "execution_count": 448,
   "metadata": {},
   "outputs": [],
   "source": [
    "(train_valid,test) = train_test_split(df2,test_size=0.1)"
   ]
  },
  {
   "cell_type": "code",
   "execution_count": 449,
   "metadata": {},
   "outputs": [],
   "source": [
    "(training,validation) = train_test_split(train_valid,test_size=0.5)"
   ]
  },
  {
   "cell_type": "markdown",
   "metadata": {},
   "source": [
    "Next, we write a loop that does the following:\n",
    "For l1_penalty in [10^1, 10^1.5, 10^2, 10^2.5, ..., 10^8] (to get this in Python, type np.logspace(1, 8, num=15).)\n",
    "Fit a regression model with a given l1_penalty on TRAIN data. Specify alpha=l1_penalty in the parameter list.\n",
    "Compute the RSS on VALIDATION data for that l1_penalty\n",
    "Report which l1_penalty produced the lowest RSS on validation data."
   ]
  },
  {
   "cell_type": "code",
   "execution_count": 450,
   "metadata": {},
   "outputs": [],
   "source": [
    "training_X = training.drop(columns='PRICE')\n",
    "training_y = training['PRICE']"
   ]
  },
  {
   "cell_type": "code",
   "execution_count": 451,
   "metadata": {},
   "outputs": [],
   "source": [
    "validation_X = validation.drop(columns='PRICE')\n",
    "validation_y = validation['PRICE']"
   ]
  },
  {
   "cell_type": "code",
   "execution_count": 452,
   "metadata": {},
   "outputs": [],
   "source": [
    "l1_penalty_values = np.logspace(1, 8, num=15)"
   ]
  },
  {
   "cell_type": "code",
   "execution_count": 453,
   "metadata": {},
   "outputs": [
    {
     "name": "stdout",
     "output_type": "stream",
     "text": [
      "(10.0, 680072362506710.6)\n",
      "(31.622776601683793, 680050359867750.2)\n",
      "(100.0, 679981149290611.6)\n",
      "(316.22776601683796, 679765964992598.2)\n",
      "(1000.0, 679122280001194.5)\n",
      "(3162.2776601683795, 677008680858271.4)\n",
      "(10000.0, 670243965904292.0)\n",
      "(31622.776601683792, 664400280165486.0)\n",
      "(100000.0, 661078864492704.4)\n",
      "(316227.7660168379, 657037385097791.0)\n",
      "(1000000.0, 662315474719285.6)\n",
      "(3162277.6601683795, 666379368131746.8)\n",
      "(10000000.0, 667399161328158.1)\n",
      "(31622776.60168379, 671157594958296.2)\n",
      "(100000000.0, 688378449535456.8)\n"
     ]
    },
    {
     "name": "stderr",
     "output_type": "stream",
     "text": [
      "/Users/liziwei/anaconda3/lib/python3.7/site-packages/sklearn/linear_model/coordinate_descent.py:475: ConvergenceWarning: Objective did not converge. You might want to increase the number of iterations. Duality gap: 206749533062321.03, tolerance: 58819556939.98183\n",
      "  positive)\n",
      "/Users/liziwei/anaconda3/lib/python3.7/site-packages/sklearn/linear_model/coordinate_descent.py:475: ConvergenceWarning: Objective did not converge. You might want to increase the number of iterations. Duality gap: 170138211531970.44, tolerance: 58819556939.98183\n",
      "  positive)\n",
      "/Users/liziwei/anaconda3/lib/python3.7/site-packages/sklearn/linear_model/coordinate_descent.py:475: ConvergenceWarning: Objective did not converge. You might want to increase the number of iterations. Duality gap: 101291337115957.72, tolerance: 58819556939.98183\n",
      "  positive)\n",
      "/Users/liziwei/anaconda3/lib/python3.7/site-packages/sklearn/linear_model/coordinate_descent.py:475: ConvergenceWarning: Objective did not converge. You might want to increase the number of iterations. Duality gap: 33416023144078.78, tolerance: 58819556939.98183\n",
      "  positive)\n",
      "/Users/liziwei/anaconda3/lib/python3.7/site-packages/sklearn/linear_model/coordinate_descent.py:475: ConvergenceWarning: Objective did not converge. You might want to increase the number of iterations. Duality gap: 5549692851130.75, tolerance: 58819556939.98183\n",
      "  positive)\n",
      "/Users/liziwei/anaconda3/lib/python3.7/site-packages/sklearn/linear_model/coordinate_descent.py:475: ConvergenceWarning: Objective did not converge. You might want to increase the number of iterations. Duality gap: 383248525789.25, tolerance: 58819556939.98183\n",
      "  positive)\n"
     ]
    }
   ],
   "source": [
    "RSS = []\n",
    "penalty = []\n",
    "dataf = pd.DataFrame()\n",
    "for l1_penalty in l1_penalty_values:\n",
    "    model2 = Lasso(alpha = l1_penalty)\n",
    "    model2_new = model2.fit(training_X,training_y)\n",
    "    prediction = model2.predict(validation_X)\n",
    "    error_square = (prediction - validation_y)**2\n",
    "    sum_error_square = error_square.sum()\n",
    "    RSS.append(sum_error_square)\n",
    "    penalty.append(l1_penalty)\n",
    "    print((l1_penalty,sum_error_square))\n",
    "dataf['penalty'] = penalty\n",
    "dataf['RSS'] = RSS"
   ]
  },
  {
   "cell_type": "code",
   "execution_count": 454,
   "metadata": {},
   "outputs": [
    {
     "data": {
      "text/html": [
       "<div>\n",
       "<style scoped>\n",
       "    .dataframe tbody tr th:only-of-type {\n",
       "        vertical-align: middle;\n",
       "    }\n",
       "\n",
       "    .dataframe tbody tr th {\n",
       "        vertical-align: top;\n",
       "    }\n",
       "\n",
       "    .dataframe thead th {\n",
       "        text-align: right;\n",
       "    }\n",
       "</style>\n",
       "<table border=\"1\" class=\"dataframe\">\n",
       "  <thead>\n",
       "    <tr style=\"text-align: right;\">\n",
       "      <th></th>\n",
       "      <th>penalty</th>\n",
       "      <th>RSS</th>\n",
       "    </tr>\n",
       "  </thead>\n",
       "  <tbody>\n",
       "    <tr>\n",
       "      <th>0</th>\n",
       "      <td>1.000000e+01</td>\n",
       "      <td>6.800724e+14</td>\n",
       "    </tr>\n",
       "    <tr>\n",
       "      <th>1</th>\n",
       "      <td>3.162278e+01</td>\n",
       "      <td>6.800504e+14</td>\n",
       "    </tr>\n",
       "    <tr>\n",
       "      <th>2</th>\n",
       "      <td>1.000000e+02</td>\n",
       "      <td>6.799811e+14</td>\n",
       "    </tr>\n",
       "    <tr>\n",
       "      <th>3</th>\n",
       "      <td>3.162278e+02</td>\n",
       "      <td>6.797660e+14</td>\n",
       "    </tr>\n",
       "    <tr>\n",
       "      <th>4</th>\n",
       "      <td>1.000000e+03</td>\n",
       "      <td>6.791223e+14</td>\n",
       "    </tr>\n",
       "    <tr>\n",
       "      <th>5</th>\n",
       "      <td>3.162278e+03</td>\n",
       "      <td>6.770087e+14</td>\n",
       "    </tr>\n",
       "    <tr>\n",
       "      <th>6</th>\n",
       "      <td>1.000000e+04</td>\n",
       "      <td>6.702440e+14</td>\n",
       "    </tr>\n",
       "    <tr>\n",
       "      <th>7</th>\n",
       "      <td>3.162278e+04</td>\n",
       "      <td>6.644003e+14</td>\n",
       "    </tr>\n",
       "    <tr>\n",
       "      <th>8</th>\n",
       "      <td>1.000000e+05</td>\n",
       "      <td>6.610789e+14</td>\n",
       "    </tr>\n",
       "    <tr>\n",
       "      <th>9</th>\n",
       "      <td>3.162278e+05</td>\n",
       "      <td>6.570374e+14</td>\n",
       "    </tr>\n",
       "    <tr>\n",
       "      <th>10</th>\n",
       "      <td>1.000000e+06</td>\n",
       "      <td>6.623155e+14</td>\n",
       "    </tr>\n",
       "    <tr>\n",
       "      <th>11</th>\n",
       "      <td>3.162278e+06</td>\n",
       "      <td>6.663794e+14</td>\n",
       "    </tr>\n",
       "    <tr>\n",
       "      <th>12</th>\n",
       "      <td>1.000000e+07</td>\n",
       "      <td>6.673992e+14</td>\n",
       "    </tr>\n",
       "    <tr>\n",
       "      <th>13</th>\n",
       "      <td>3.162278e+07</td>\n",
       "      <td>6.711576e+14</td>\n",
       "    </tr>\n",
       "    <tr>\n",
       "      <th>14</th>\n",
       "      <td>1.000000e+08</td>\n",
       "      <td>6.883784e+14</td>\n",
       "    </tr>\n",
       "  </tbody>\n",
       "</table>\n",
       "</div>"
      ],
      "text/plain": [
       "         penalty           RSS\n",
       "0   1.000000e+01  6.800724e+14\n",
       "1   3.162278e+01  6.800504e+14\n",
       "2   1.000000e+02  6.799811e+14\n",
       "3   3.162278e+02  6.797660e+14\n",
       "4   1.000000e+03  6.791223e+14\n",
       "5   3.162278e+03  6.770087e+14\n",
       "6   1.000000e+04  6.702440e+14\n",
       "7   3.162278e+04  6.644003e+14\n",
       "8   1.000000e+05  6.610789e+14\n",
       "9   3.162278e+05  6.570374e+14\n",
       "10  1.000000e+06  6.623155e+14\n",
       "11  3.162278e+06  6.663794e+14\n",
       "12  1.000000e+07  6.673992e+14\n",
       "13  3.162278e+07  6.711576e+14\n",
       "14  1.000000e+08  6.883784e+14"
      ]
     },
     "execution_count": 454,
     "metadata": {},
     "output_type": "execute_result"
    }
   ],
   "source": [
    "dataf"
   ]
  },
  {
   "cell_type": "markdown",
   "metadata": {},
   "source": [
    "What was the best value for the l1_penalty? and use this value of L1 penalty, how many nonzero weights do you have?"
   ]
  },
  {
   "cell_type": "code",
   "execution_count": 455,
   "metadata": {},
   "outputs": [
    {
     "data": {
      "text/plain": [
       "penalty    3.162278e+05\n",
       "RSS        6.570374e+14\n",
       "Name: 9, dtype: float64"
      ]
     },
     "execution_count": 455,
     "metadata": {},
     "output_type": "execute_result"
    }
   ],
   "source": [
    "dataf.iloc[dataf['RSS'].idxmin()]"
   ]
  },
  {
   "cell_type": "code",
   "execution_count": 437,
   "metadata": {},
   "outputs": [],
   "source": [
    "# I find that the minimal RSS is when l1_penalty= 3.162278e+05.\n",
    "# Then, use this l1_penalty to fit the model."
   ]
  },
  {
   "cell_type": "code",
   "execution_count": 456,
   "metadata": {},
   "outputs": [],
   "source": [
    "model3 = Lasso(alpha=3.162278e+05)"
   ]
  },
  {
   "cell_type": "code",
   "execution_count": 457,
   "metadata": {},
   "outputs": [],
   "source": [
    "model3_new = model3.fit(X,y)"
   ]
  },
  {
   "cell_type": "code",
   "execution_count": 458,
   "metadata": {},
   "outputs": [
    {
     "name": "stdout",
     "output_type": "stream",
     "text": [
      "The coefficient for SQUARE FEET is 424.28852485257687\n",
      "The coefficient for LOT SIZE is -0.4388651859567507\n",
      "The coefficient for BEDS is 0.0\n",
      "The coefficient for BATHS is 0.0\n",
      "The coefficient for CITY_cat is -0.0\n",
      "The coefficient for PROPERTY TYPE_cat is 0.0\n",
      "The coefficient for ZIP OR POSTAL CODE is -7704.750049686064\n",
      "The coefficient for YEAR BUILT is 4004.935516793208\n",
      "The coefficient for sqft_sqrt is -0.0\n",
      "The coefficient for lot_sqrt is 0.0\n",
      "The coefficient for bedrooms_square is 0.0\n",
      "The coefficient for bath_square is 0.0\n",
      "The intercept is -7419034.349697219\n"
     ]
    }
   ],
   "source": [
    "print_outcome(model3_new.coef_,model3_new.intercept_,all_features)"
   ]
  },
  {
   "cell_type": "code",
   "execution_count": 459,
   "metadata": {},
   "outputs": [
    {
     "data": {
      "text/plain": [
       "4"
      ]
     },
     "execution_count": 459,
     "metadata": {},
     "output_type": "execute_result"
    }
   ],
   "source": [
    "np.count_nonzero(model3_new.coef_)"
   ]
  },
  {
   "cell_type": "code",
   "execution_count": 442,
   "metadata": {},
   "outputs": [],
   "source": [
    "# Then, I found that the number of non-zero coefficients is more than the previous model."
   ]
  },
  {
   "cell_type": "markdown",
   "metadata": {},
   "source": [
    "# Limit the number of nonzero weights"
   ]
  },
  {
   "cell_type": "markdown",
   "metadata": {},
   "source": [
    "In data industry, sometimes there are limitations to derive What if we want to derive \"a rule of thumb\" --- an interpretable model that has only a few features in them. Now let's consider the case where if we absolutely wanted to limit ourselves to, say, 7 features. \n",
    "\n",
    "In this section, you are going to implement a simple, two phase procedure to achive this goal:\n",
    "Explore a large range of l1_penalty values to find a narrow region of l1_penalty values where models are likely to have the desired number of non-zero weights.\n",
    "Further explore the narrow region you found to find a good value for l1_penalty that achieves the desired sparsity. Here, we will again use a validation set to choose the best value for l1_penalty."
   ]
  },
  {
   "cell_type": "code",
   "execution_count": 443,
   "metadata": {},
   "outputs": [],
   "source": [
    "max_nonzeros = 7"
   ]
  },
  {
   "cell_type": "markdown",
   "metadata": {},
   "source": [
    "## Exploring the larger range of values to find a narrow range with the desired sparsity"
   ]
  },
  {
   "cell_type": "markdown",
   "metadata": {},
   "source": [
    "Let's define a wide range of possible l1_penalty_values:"
   ]
  },
  {
   "cell_type": "code",
   "execution_count": 460,
   "metadata": {},
   "outputs": [],
   "source": [
    "l1_penalty_values = np.logspace(5, 6, num=20)"
   ]
  },
  {
   "cell_type": "markdown",
   "metadata": {},
   "source": [
    "Now, implement a loop that search through this space of possible l1_penalty values:\n",
    "For l1_penalty in np.logspace(5, 6, num=20):\n",
    "Fit a regression model with a given l1_penalty on TRAIN data. Specify alpha=l1_penalty. in the parameter list.\n",
    "Extract the weights of the model and count the number of nonzeros. Save the number of nonzeros to a list.\n"
   ]
  },
  {
   "cell_type": "code",
   "execution_count": 461,
   "metadata": {},
   "outputs": [
    {
     "name": "stdout",
     "output_type": "stream",
     "text": [
      "Current weight is: 100000.0\n",
      "Current RSS: 467366528224495.3\n",
      "Number of non-zero is 7\n",
      " \n",
      "Current weight is: 112883.78916846884\n",
      "Current RSS: 467612918954086.75\n",
      "Number of non-zero is 7\n",
      " \n",
      "Current weight is: 127427.49857031347\n",
      "Current RSS: 467926888301576.1\n",
      "Number of non-zero is 7\n",
      " \n",
      "Current weight is: 143844.9888287663\n",
      "Current RSS: 468326972184190.56\n",
      "Number of non-zero is 7\n",
      " \n",
      "Current weight is: 162377.67391887208\n",
      "Current RSS: 468836788527518.8\n",
      "Number of non-zero is 7\n",
      " \n",
      "Current weight is: 183298.07108324376\n",
      "Current RSS: 469486434724871.4\n",
      "Number of non-zero is 7\n",
      " \n",
      "Current weight is: 206913.808111479\n",
      "Current RSS: 470314262544727.5\n",
      "Number of non-zero is 7\n",
      " \n",
      "Current weight is: 233572.14690901214\n",
      "Current RSS: 471369143914464.9\n",
      "Number of non-zero is 7\n",
      " \n",
      "Current weight is: 263665.08987303555\n",
      "Current RSS: 472713352085270.4\n",
      "Number of non-zero is 7\n",
      " \n",
      "Current weight is: 297635.14416313195\n",
      "Current RSS: 474426242861672.06\n",
      "Number of non-zero is 7\n",
      " \n",
      "Current weight is: 335981.8286283781\n",
      "Current RSS: 476103934725074.94\n",
      "Number of non-zero is 6\n",
      " \n",
      "Current weight is: 379269.0190732254\n",
      "Current RSS: 478170818484205.0\n",
      "Number of non-zero is 6\n",
      " \n",
      "Current weight is: 428133.2398719396\n",
      "Current RSS: 479907727881167.9\n",
      "Number of non-zero is 5\n",
      " \n",
      "Current weight is: 483293.0238571752\n",
      "Current RSS: 480437332356691.4\n",
      "Number of non-zero is 4\n",
      " \n",
      "Current weight is: 545559.4781168514\n",
      "Current RSS: 480903519979415.75\n",
      "Number of non-zero is 4\n",
      " \n",
      "Current weight is: 615848.2110660267\n",
      "Current RSS: 481497570514240.94\n",
      "Number of non-zero is 4\n",
      " \n",
      "Current weight is: 695192.7961775606\n",
      "Current RSS: 482254553470469.6\n",
      "Number of non-zero is 4\n",
      " \n",
      "Current weight is: 784759.9703514606\n",
      "Current RSS: 483219157035089.4\n",
      "Number of non-zero is 4\n",
      " \n",
      "Current weight is: 885866.7904100833\n",
      "Current RSS: 484448326233978.8\n",
      "Number of non-zero is 4\n",
      " \n",
      "Current weight is: 1000000.0\n",
      "Current RSS: 486014624674548.8\n",
      "Number of non-zero is 4\n",
      " \n"
     ]
    }
   ],
   "source": [
    "non_zero = []\n",
    "RSS = []\n",
    "weights = []\n",
    "dataf2 = pd.DataFrame()\n",
    "for l1_penalty in l1_penalty_values:\n",
    "    model4 = Lasso(alpha=l1_penalty)\n",
    "    model4_new = model4.fit(training_X,training_y)\n",
    "    number = np.count_nonzero(model4_new.coef_)\n",
    "    predictions = model4_new.predict(training_X)\n",
    "    square_error = (predictions - training_y) * (predictions - training_y)\n",
    "    sum_square_error = square_error.sum()\n",
    "    non_zero.append(number)\n",
    "    RSS.append(sum_square_error)\n",
    "    weights.append(l1_penalty)\n",
    "    print(\"Current weight is:\",l1_penalty)\n",
    "    print(\"Current RSS:\",sum_square_error)\n",
    "    print(\"Number of non-zero is\",number)\n",
    "    print(\" \")\n",
    "dataf2['Weights'] = weights\n",
    "dataf2['Non_Zero'] = non_zero\n",
    "dataf2['RSS'] = RSS"
   ]
  },
  {
   "cell_type": "code",
   "execution_count": 462,
   "metadata": {},
   "outputs": [
    {
     "data": {
      "text/html": [
       "<div>\n",
       "<style scoped>\n",
       "    .dataframe tbody tr th:only-of-type {\n",
       "        vertical-align: middle;\n",
       "    }\n",
       "\n",
       "    .dataframe tbody tr th {\n",
       "        vertical-align: top;\n",
       "    }\n",
       "\n",
       "    .dataframe thead th {\n",
       "        text-align: right;\n",
       "    }\n",
       "</style>\n",
       "<table border=\"1\" class=\"dataframe\">\n",
       "  <thead>\n",
       "    <tr style=\"text-align: right;\">\n",
       "      <th></th>\n",
       "      <th>Weights</th>\n",
       "      <th>Non_Zero</th>\n",
       "      <th>RSS</th>\n",
       "    </tr>\n",
       "  </thead>\n",
       "  <tbody>\n",
       "    <tr>\n",
       "      <th>0</th>\n",
       "      <td>100000.000000</td>\n",
       "      <td>7</td>\n",
       "      <td>4.673665e+14</td>\n",
       "    </tr>\n",
       "    <tr>\n",
       "      <th>1</th>\n",
       "      <td>112883.789168</td>\n",
       "      <td>7</td>\n",
       "      <td>4.676129e+14</td>\n",
       "    </tr>\n",
       "    <tr>\n",
       "      <th>2</th>\n",
       "      <td>127427.498570</td>\n",
       "      <td>7</td>\n",
       "      <td>4.679269e+14</td>\n",
       "    </tr>\n",
       "    <tr>\n",
       "      <th>3</th>\n",
       "      <td>143844.988829</td>\n",
       "      <td>7</td>\n",
       "      <td>4.683270e+14</td>\n",
       "    </tr>\n",
       "    <tr>\n",
       "      <th>4</th>\n",
       "      <td>162377.673919</td>\n",
       "      <td>7</td>\n",
       "      <td>4.688368e+14</td>\n",
       "    </tr>\n",
       "    <tr>\n",
       "      <th>5</th>\n",
       "      <td>183298.071083</td>\n",
       "      <td>7</td>\n",
       "      <td>4.694864e+14</td>\n",
       "    </tr>\n",
       "    <tr>\n",
       "      <th>6</th>\n",
       "      <td>206913.808111</td>\n",
       "      <td>7</td>\n",
       "      <td>4.703143e+14</td>\n",
       "    </tr>\n",
       "    <tr>\n",
       "      <th>7</th>\n",
       "      <td>233572.146909</td>\n",
       "      <td>7</td>\n",
       "      <td>4.713691e+14</td>\n",
       "    </tr>\n",
       "    <tr>\n",
       "      <th>8</th>\n",
       "      <td>263665.089873</td>\n",
       "      <td>7</td>\n",
       "      <td>4.727134e+14</td>\n",
       "    </tr>\n",
       "    <tr>\n",
       "      <th>9</th>\n",
       "      <td>297635.144163</td>\n",
       "      <td>7</td>\n",
       "      <td>4.744262e+14</td>\n",
       "    </tr>\n",
       "    <tr>\n",
       "      <th>10</th>\n",
       "      <td>335981.828628</td>\n",
       "      <td>6</td>\n",
       "      <td>4.761039e+14</td>\n",
       "    </tr>\n",
       "    <tr>\n",
       "      <th>11</th>\n",
       "      <td>379269.019073</td>\n",
       "      <td>6</td>\n",
       "      <td>4.781708e+14</td>\n",
       "    </tr>\n",
       "    <tr>\n",
       "      <th>12</th>\n",
       "      <td>428133.239872</td>\n",
       "      <td>5</td>\n",
       "      <td>4.799077e+14</td>\n",
       "    </tr>\n",
       "    <tr>\n",
       "      <th>13</th>\n",
       "      <td>483293.023857</td>\n",
       "      <td>4</td>\n",
       "      <td>4.804373e+14</td>\n",
       "    </tr>\n",
       "    <tr>\n",
       "      <th>14</th>\n",
       "      <td>545559.478117</td>\n",
       "      <td>4</td>\n",
       "      <td>4.809035e+14</td>\n",
       "    </tr>\n",
       "    <tr>\n",
       "      <th>15</th>\n",
       "      <td>615848.211066</td>\n",
       "      <td>4</td>\n",
       "      <td>4.814976e+14</td>\n",
       "    </tr>\n",
       "    <tr>\n",
       "      <th>16</th>\n",
       "      <td>695192.796178</td>\n",
       "      <td>4</td>\n",
       "      <td>4.822546e+14</td>\n",
       "    </tr>\n",
       "    <tr>\n",
       "      <th>17</th>\n",
       "      <td>784759.970351</td>\n",
       "      <td>4</td>\n",
       "      <td>4.832192e+14</td>\n",
       "    </tr>\n",
       "    <tr>\n",
       "      <th>18</th>\n",
       "      <td>885866.790410</td>\n",
       "      <td>4</td>\n",
       "      <td>4.844483e+14</td>\n",
       "    </tr>\n",
       "    <tr>\n",
       "      <th>19</th>\n",
       "      <td>1000000.000000</td>\n",
       "      <td>4</td>\n",
       "      <td>4.860146e+14</td>\n",
       "    </tr>\n",
       "  </tbody>\n",
       "</table>\n",
       "</div>"
      ],
      "text/plain": [
       "           Weights  Non_Zero           RSS\n",
       "0    100000.000000         7  4.673665e+14\n",
       "1    112883.789168         7  4.676129e+14\n",
       "2    127427.498570         7  4.679269e+14\n",
       "3    143844.988829         7  4.683270e+14\n",
       "4    162377.673919         7  4.688368e+14\n",
       "5    183298.071083         7  4.694864e+14\n",
       "6    206913.808111         7  4.703143e+14\n",
       "7    233572.146909         7  4.713691e+14\n",
       "8    263665.089873         7  4.727134e+14\n",
       "9    297635.144163         7  4.744262e+14\n",
       "10   335981.828628         6  4.761039e+14\n",
       "11   379269.019073         6  4.781708e+14\n",
       "12   428133.239872         5  4.799077e+14\n",
       "13   483293.023857         4  4.804373e+14\n",
       "14   545559.478117         4  4.809035e+14\n",
       "15   615848.211066         4  4.814976e+14\n",
       "16   695192.796178         4  4.822546e+14\n",
       "17   784759.970351         4  4.832192e+14\n",
       "18   885866.790410         4  4.844483e+14\n",
       "19  1000000.000000         4  4.860146e+14"
      ]
     },
     "execution_count": 462,
     "metadata": {},
     "output_type": "execute_result"
    }
   ],
   "source": [
    "dataf2"
   ]
  },
  {
   "cell_type": "markdown",
   "metadata": {},
   "source": [
    "Out of this large range, we want to find the two ends of our desired narrow range of `l1_penalty`.  At one end, we will have `l1_penalty` values that have too few non-zeros, and at the other end, we will have an `l1_penalty` that has too many non-zeros.  \n",
    "\n",
    "More formally, find:\n",
    "* The largest `l1_penalty` that has more non-zeros than `max_nonzeros` (if we pick a penalty smaller than this value, we will definitely have too many non-zero weights)\n",
    "    * Store this value in the variable `l1_penalty_min` (we will use it later)\n",
    "* The smallest `l1_penalty` that has fewer non-zeros than `max_nonzeros` (if we pick a penalty larger than this value, we will definitely have too few non-zero weights)\n",
    "    * Store this value in the variable `l1_penalty_max` (we will use it later)\n",
    "\n",
    "\n",
    "*Hint: there are many ways to do this, can you try to code it up with at least two ways:*\n",
    "* Programmatically within the loop above\n",
    "* Creating a list with the number of non-zeros for each value of `l1_penalty` and inspecting it to find the appropriate boundaries."
   ]
  },
  {
   "cell_type": "code",
   "execution_count": 463,
   "metadata": {},
   "outputs": [
    {
     "name": "stdout",
     "output_type": "stream",
     "text": [
      "nan\n",
      "335981.8286283781\n"
     ]
    }
   ],
   "source": [
    "l1_penalty_min = dataf2[dataf2['Non_Zero']>max_nonzeros].Weights.max()\n",
    "l1_penalty_max = dataf2[dataf2['Non_Zero']<max_nonzeros].Weights.min()\n",
    "print(l1_penalty_min)\n",
    "print(l1_penalty_max)"
   ]
  },
  {
   "cell_type": "markdown",
   "metadata": {},
   "source": [
    "What values did you find for l1_penalty_min and l1_penalty_max, respectively?"
   ]
  },
  {
   "cell_type": "markdown",
   "metadata": {},
   "source": [
    "## Exploring the narrow range of values to find the solution with the right number of non-zeros that has lowest RSS on the validation set \n",
    "\n",
    "We will now explore the narrow region of `l1_penalty` values we found:"
   ]
  },
  {
   "cell_type": "code",
   "execution_count": 134,
   "metadata": {},
   "outputs": [],
   "source": [
    "l1_penalty_values = np.linspace(l1_penalty_min,l1_penalty_max,20)"
   ]
  },
  {
   "cell_type": "markdown",
   "metadata": {},
   "source": [
    "* For `l1_penalty` in `np.linspace(l1_penalty_min,l1_penalty_max,20)`:\n",
    "    * Fit a regression model with a given `l1_penalty` on TRAIN data. Specify `alpah =l1_penalty` in the parameter list. \n",
    "    * Measure the RSS of the learned model on the VALIDATION set\n",
    "\n",
    "Find the model that the lowest RSS on the VALIDATION set and has sparsity *equal* to `max_nonzeros`."
   ]
  },
  {
   "cell_type": "code",
   "execution_count": 137,
   "metadata": {},
   "outputs": [
    {
     "data": {
      "text/html": [
       "<div>\n",
       "<style scoped>\n",
       "    .dataframe tbody tr th:only-of-type {\n",
       "        vertical-align: middle;\n",
       "    }\n",
       "\n",
       "    .dataframe tbody tr th {\n",
       "        vertical-align: top;\n",
       "    }\n",
       "\n",
       "    .dataframe thead th {\n",
       "        text-align: right;\n",
       "    }\n",
       "</style>\n",
       "<table border=\"1\" class=\"dataframe\">\n",
       "  <thead>\n",
       "    <tr style=\"text-align: right;\">\n",
       "      <th></th>\n",
       "      <th>Penalty</th>\n",
       "      <th>Non_Zero</th>\n",
       "      <th>RSS</th>\n",
       "    </tr>\n",
       "  </thead>\n",
       "  <tbody>\n",
       "    <tr>\n",
       "      <th>0</th>\n",
       "      <td>136068.282917</td>\n",
       "      <td>8</td>\n",
       "      <td>5.475356e+14</td>\n",
       "    </tr>\n",
       "    <tr>\n",
       "      <th>1</th>\n",
       "      <td>136341.149791</td>\n",
       "      <td>8</td>\n",
       "      <td>5.475437e+14</td>\n",
       "    </tr>\n",
       "    <tr>\n",
       "      <th>2</th>\n",
       "      <td>136614.016665</td>\n",
       "      <td>8</td>\n",
       "      <td>5.475518e+14</td>\n",
       "    </tr>\n",
       "    <tr>\n",
       "      <th>3</th>\n",
       "      <td>136886.883539</td>\n",
       "      <td>7</td>\n",
       "      <td>5.475600e+14</td>\n",
       "    </tr>\n",
       "    <tr>\n",
       "      <th>4</th>\n",
       "      <td>137159.750413</td>\n",
       "      <td>7</td>\n",
       "      <td>5.475684e+14</td>\n",
       "    </tr>\n",
       "    <tr>\n",
       "      <th>5</th>\n",
       "      <td>137432.617287</td>\n",
       "      <td>7</td>\n",
       "      <td>5.475769e+14</td>\n",
       "    </tr>\n",
       "    <tr>\n",
       "      <th>6</th>\n",
       "      <td>137705.484161</td>\n",
       "      <td>7</td>\n",
       "      <td>5.475854e+14</td>\n",
       "    </tr>\n",
       "    <tr>\n",
       "      <th>7</th>\n",
       "      <td>137978.351036</td>\n",
       "      <td>7</td>\n",
       "      <td>5.475939e+14</td>\n",
       "    </tr>\n",
       "    <tr>\n",
       "      <th>8</th>\n",
       "      <td>138251.217910</td>\n",
       "      <td>7</td>\n",
       "      <td>5.476026e+14</td>\n",
       "    </tr>\n",
       "    <tr>\n",
       "      <th>9</th>\n",
       "      <td>138524.084784</td>\n",
       "      <td>7</td>\n",
       "      <td>5.476112e+14</td>\n",
       "    </tr>\n",
       "    <tr>\n",
       "      <th>10</th>\n",
       "      <td>138796.951658</td>\n",
       "      <td>7</td>\n",
       "      <td>5.476199e+14</td>\n",
       "    </tr>\n",
       "    <tr>\n",
       "      <th>11</th>\n",
       "      <td>139069.818532</td>\n",
       "      <td>7</td>\n",
       "      <td>5.476287e+14</td>\n",
       "    </tr>\n",
       "    <tr>\n",
       "      <th>12</th>\n",
       "      <td>139342.685406</td>\n",
       "      <td>7</td>\n",
       "      <td>5.476375e+14</td>\n",
       "    </tr>\n",
       "    <tr>\n",
       "      <th>13</th>\n",
       "      <td>139615.552280</td>\n",
       "      <td>7</td>\n",
       "      <td>5.476464e+14</td>\n",
       "    </tr>\n",
       "    <tr>\n",
       "      <th>14</th>\n",
       "      <td>139888.419154</td>\n",
       "      <td>7</td>\n",
       "      <td>5.476553e+14</td>\n",
       "    </tr>\n",
       "    <tr>\n",
       "      <th>15</th>\n",
       "      <td>140161.286028</td>\n",
       "      <td>7</td>\n",
       "      <td>5.476643e+14</td>\n",
       "    </tr>\n",
       "    <tr>\n",
       "      <th>16</th>\n",
       "      <td>140434.152902</td>\n",
       "      <td>7</td>\n",
       "      <td>5.476733e+14</td>\n",
       "    </tr>\n",
       "    <tr>\n",
       "      <th>17</th>\n",
       "      <td>140707.019777</td>\n",
       "      <td>7</td>\n",
       "      <td>5.476824e+14</td>\n",
       "    </tr>\n",
       "    <tr>\n",
       "      <th>18</th>\n",
       "      <td>140979.886651</td>\n",
       "      <td>6</td>\n",
       "      <td>5.476909e+14</td>\n",
       "    </tr>\n",
       "    <tr>\n",
       "      <th>19</th>\n",
       "      <td>141252.753525</td>\n",
       "      <td>6</td>\n",
       "      <td>5.476974e+14</td>\n",
       "    </tr>\n",
       "  </tbody>\n",
       "</table>\n",
       "</div>"
      ],
      "text/plain": [
       "          Penalty  Non_Zero           RSS\n",
       "0   136068.282917         8  5.475356e+14\n",
       "1   136341.149791         8  5.475437e+14\n",
       "2   136614.016665         8  5.475518e+14\n",
       "3   136886.883539         7  5.475600e+14\n",
       "4   137159.750413         7  5.475684e+14\n",
       "5   137432.617287         7  5.475769e+14\n",
       "6   137705.484161         7  5.475854e+14\n",
       "7   137978.351036         7  5.475939e+14\n",
       "8   138251.217910         7  5.476026e+14\n",
       "9   138524.084784         7  5.476112e+14\n",
       "10  138796.951658         7  5.476199e+14\n",
       "11  139069.818532         7  5.476287e+14\n",
       "12  139342.685406         7  5.476375e+14\n",
       "13  139615.552280         7  5.476464e+14\n",
       "14  139888.419154         7  5.476553e+14\n",
       "15  140161.286028         7  5.476643e+14\n",
       "16  140434.152902         7  5.476733e+14\n",
       "17  140707.019777         7  5.476824e+14\n",
       "18  140979.886651         6  5.476909e+14\n",
       "19  141252.753525         6  5.476974e+14"
      ]
     },
     "execution_count": 137,
     "metadata": {},
     "output_type": "execute_result"
    }
   ],
   "source": [
    "penalty = []\n",
    "non_zero = []\n",
    "SSR = []\n",
    "dataf3 = pd.DataFrame()\n",
    "for l1_penalty in l1_penalty_values:\n",
    "    model5 = Lasso(alpha = l1_penalty)\n",
    "    model5_new = model5.fit(training_X,training_y)\n",
    "    non = np.count_nonzero(model5_new.coef_)\n",
    "    predictions = model5_new.predict(validation_X)\n",
    "    error_square = (predictions - validation_y) * (predictions - validation_y)\n",
    "    sum_square_error = error_square.sum()\n",
    "    penalty.append(l1_penalty)\n",
    "    non_zero.append(non)\n",
    "    SSR.append(sum_square_error)\n",
    "dataf3['Penalty'] = penalty\n",
    "dataf3['Non_Zero'] = non_zero\n",
    "dataf3['RSS'] = SSR\n",
    "dataf3"
   ]
  },
  {
   "cell_type": "markdown",
   "metadata": {},
   "source": [
    "You can try another round of fine tuning of the parameters. The main technique to learn here is how to tune the parameters using granular way as described here."
   ]
  },
  {
   "cell_type": "markdown",
   "metadata": {},
   "source": [
    "What value of l1_penalty in our narrow range has the lowest RSS on the VALIDATION set and has sparsity equal to max_nonzeros?\n",
    "\n",
    "What features in this model have non-zero coefficients?"
   ]
  },
  {
   "cell_type": "code",
   "execution_count": 142,
   "metadata": {},
   "outputs": [
    {
     "data": {
      "text/plain": [
       "Penalty     1.368869e+05\n",
       "Non_Zero    7.000000e+00\n",
       "RSS         5.475600e+14\n",
       "Name: 3, dtype: float64"
      ]
     },
     "execution_count": 142,
     "metadata": {},
     "output_type": "execute_result"
    }
   ],
   "source": [
    "dataf3.iloc[dataf3[dataf3['Non_Zero']==max_nonzeros].RSS.idxmin()]"
   ]
  },
  {
   "cell_type": "code",
   "execution_count": null,
   "metadata": {},
   "outputs": [],
   "source": [
    "# When the Non-zero is equal to 7, the lowest rss is 5.475600e+14, and its penalty \n",
    "# is 1.368869e+05."
   ]
  },
  {
   "cell_type": "code",
   "execution_count": 144,
   "metadata": {},
   "outputs": [],
   "source": [
    "model6 = Lasso(alpha=1.368869e+05)\n",
    "model6_new = model6.fit(X,y)"
   ]
  },
  {
   "cell_type": "code",
   "execution_count": 145,
   "metadata": {},
   "outputs": [
    {
     "name": "stdout",
     "output_type": "stream",
     "text": [
      "The coefficient for SQUARE FEET is 363.37773163183556\n",
      "The coefficient for LOT SIZE is -0.5914760576062719\n",
      "The coefficient for BEDS is 0.0\n",
      "The coefficient for BATHS is 0.0\n",
      "The coefficient for CITY_cat is -7063.627495546559\n",
      "The coefficient for PROPERTY TYPE_cat is 0.0\n",
      "The coefficient for ZIP OR POSTAL CODE is -331.87300731386034\n",
      "The coefficient for YEAR BUILT is 4665.145617623287\n",
      "The coefficient for sqft_sqrt is -0.0\n",
      "The coefficient for lot_sqrt is 0.0\n",
      "The coefficient for bedrooms_square is 890.5467738197087\n",
      "The coefficient for bath_square is 4715.595508991809\n",
      "The intercept is 22652160.79698676\n"
     ]
    }
   ],
   "source": [
    "print_outcome(model6_new.coef_,model6_new.intercept_,all_features)"
   ]
  },
  {
   "cell_type": "markdown",
   "metadata": {},
   "source": [
    "Does the non-zero coefficient makes sense to you? what does each of the parametere mean?"
   ]
  },
  {
   "cell_type": "code",
   "execution_count": null,
   "metadata": {},
   "outputs": [],
   "source": [
    "# I think in some way, these non-zero coefficients make sense. However, I do not think\n",
    "# that I should treat ZIP OR POSTAL CODE as a numerical type, because this column is \n",
    "# categorical data, and the number in this column may affect the final result.\n",
    "# Therefore, I think this variable should be exclueded."
   ]
  },
  {
   "cell_type": "markdown",
   "metadata": {},
   "source": [
    "# Coordinate Descent for Lasso Regression"
   ]
  },
  {
   "cell_type": "markdown",
   "metadata": {},
   "source": [
    "In this section, you will implement your very own LASSO solver via coordinate descent. You will:\n",
    "* Write a function to normalize features\n",
    "* Implement coordinate descent for LASSO\n",
    "* Explore effects of L1 penalty"
   ]
  },
  {
   "cell_type": "markdown",
   "metadata": {},
   "source": [
    "Let's reuse the get_num_data() and predict_output() function from Project 2. Copy them over."
   ]
  },
  {
   "cell_type": "code",
   "execution_count": 146,
   "metadata": {},
   "outputs": [],
   "source": [
    "def get_numpy_data(data, features, output):\n",
    "    data['Constant'] = 1\n",
    "    features = ['Constant'] + features\n",
    "    feature_matrix = data[features].values\n",
    "    output_array = data[output].values\n",
    "    return(feature_matrix, output_array)"
   ]
  },
  {
   "cell_type": "code",
   "execution_count": 147,
   "metadata": {},
   "outputs": [],
   "source": [
    "def predict_output(feature_matrix, weights):\n",
    "    # assume feature_matrix is a numpy matrix containing the features as columns and weights is a corresponding numpy array\n",
    "    # create the predictions vector by using np.dot()\n",
    "    predictions = np.dot(feature_matrix,weights)\n",
    "    return(predictions)"
   ]
  },
  {
   "cell_type": "markdown",
   "metadata": {},
   "source": [
    "# Normalize features\n",
    "In the house dataset, features vary wildly in their relative magnitude: `SQUARE FEET` is very large overall compared to `BEDS`, for instance. As a result, weight for `SQUARE FEET` would be much smaller than weight for `BEDS`. This is problematic because \"small\" weights are dropped first as `l1_penalty` goes up. \n",
    "\n",
    "To give equal considerations for all features, we need to **normalize features**: we divide each feature by its 2-norm so that the transformed feature has norm 1.\n",
    "\n",
    "Let's see how we can do this normalization easily with Numpy: let us first consider a small matrix."
   ]
  },
  {
   "cell_type": "code",
   "execution_count": 149,
   "metadata": {},
   "outputs": [
    {
     "name": "stdout",
     "output_type": "stream",
     "text": [
      "[[ 1.  3.  9.]\n",
      " [ 4. 12. 19.]]\n"
     ]
    }
   ],
   "source": [
    "X = np.array([[1.,3.,9.],[4.,12.,19.]])\n",
    "print (X)"
   ]
  },
  {
   "cell_type": "markdown",
   "metadata": {},
   "source": [
    "Numpy provides a shorthand for computing 2-norms of each column:"
   ]
  },
  {
   "cell_type": "code",
   "execution_count": 150,
   "metadata": {},
   "outputs": [
    {
     "name": "stdout",
     "output_type": "stream",
     "text": [
      "[ 4.12310563 12.36931688 21.02379604]\n"
     ]
    }
   ],
   "source": [
    "norms = np.linalg.norm(X, axis=0) # gives [norm(X[:,0]), norm(X[:,1]), norm(X[:,2])]\n",
    "print (norms)"
   ]
  },
  {
   "cell_type": "markdown",
   "metadata": {},
   "source": [
    "To normalize, apply element-wise division:"
   ]
  },
  {
   "cell_type": "code",
   "execution_count": 151,
   "metadata": {},
   "outputs": [
    {
     "name": "stdout",
     "output_type": "stream",
     "text": [
      "[[0.24253563 0.24253563 0.42808634]\n",
      " [0.9701425  0.9701425  0.90373784]]\n"
     ]
    }
   ],
   "source": [
    "print (X / norms) # gives [X[:,0]/norm(X[:,0]), X[:,1]/norm(X[:,1]), X[:,2]/norm(X[:,2])]"
   ]
  },
  {
   "cell_type": "markdown",
   "metadata": {},
   "source": [
    "Using the shorthand we just covered, write a short function called `normalize_features(feature_matrix)`, which normalizes columns of a given feature matrix. The function should return a pair `(normalized_features, norms)`, where the second item contains the norms of original features. We will use these norms to normalize the test data in the same way as we normalized the training data. "
   ]
  },
  {
   "cell_type": "code",
   "execution_count": 162,
   "metadata": {},
   "outputs": [],
   "source": [
    "def normalize_features(feature_matrix):\n",
    "    norms = np.linalg.norm(feature_matrix, axis=0)\n",
    "    features = feature_matrix / norms\n",
    "    \n",
    "    return(features,norms)"
   ]
  },
  {
   "cell_type": "markdown",
   "metadata": {},
   "source": [
    "To test your function, run the following:"
   ]
  },
  {
   "cell_type": "code",
   "execution_count": 166,
   "metadata": {},
   "outputs": [
    {
     "name": "stdout",
     "output_type": "stream",
     "text": [
      "[[0.6 0.6 0.6]\n",
      " [0.8 0.8 0.8]]\n",
      "[ 5. 10. 15.]\n"
     ]
    }
   ],
   "source": [
    "features, norms = normalize_features(np.array([[3.,6.,9.],[4.,8.,12.]]))\n",
    "print (features)\n",
    "# should print\n",
    "# [[ 0.6  0.6  0.6]\n",
    "#  [ 0.8  0.8  0.8]]\n",
    "print (norms)\n",
    "# should print\n",
    "# [5.  10.  15.]"
   ]
  },
  {
   "cell_type": "markdown",
   "metadata": {},
   "source": [
    "# Implementing Coordinate Descent with normalized features"
   ]
  },
  {
   "cell_type": "markdown",
   "metadata": {},
   "source": [
    "We seek to obtain a sparse set of weights by minimizing the LASSO cost function\n",
    "```\n",
    "SUM[ (prediction - output)^2 ] + lambda*( |w[1]| + ... + |w[k]|).\n",
    "```\n",
    "(By convention, we do not include `w[0]` in the L1 penalty term. We never want to push the intercept to zero.)\n",
    "\n",
    "The absolute value sign makes the cost function non-differentiable, so simple gradient descent is not viable (you would need to implement a method called subgradient descent). Instead, we will use **coordinate descent**: at each iteration, we will fix all weights but weight `i` and find the value of weight `i` that minimizes the objective. That is, we look for\n",
    "```\n",
    "argmin_{w[i]} [ SUM[ (prediction - output)^2 ] + lambda*( |w[1]| + ... + |w[k]|) ]\n",
    "```\n",
    "where all weights other than `w[i]` are held to be constant. We will optimize one `w[i]` at a time, circling through the weights multiple times.  \n",
    "  1. Pick a coordinate `i`\n",
    "  2. Compute `w[i]` that minimizes the cost function `SUM[ (prediction - output)^2 ] + lambda*( |w[1]| + ... + |w[k]|)`\n",
    "  3. Repeat Steps 1 and 2 for all coordinates, multiple times"
   ]
  },
  {
   "cell_type": "markdown",
   "metadata": {},
   "source": [
    "For this notebook, we use **cyclical coordinate descent with normalized features**, where we cycle through coordinates 0 to (d-1) in order, and assume the features were normalized as discussed above. The formula for optimizing each coordinate is as follows:\n",
    "```\n",
    "       ┌ (ro[i] + lambda/2)     if ro[i] < -lambda/2\n",
    "w[i] = ├ 0                      if -lambda/2 <= ro[i] <= lambda/2\n",
    "       └ (ro[i] - lambda/2)     if ro[i] > lambda/2\n",
    "```\n",
    "where\n",
    "```\n",
    "ro[i] = SUM[ [feature_i]*(output - prediction + w[i]*[feature_i]) ].\n",
    "```\n",
    "\n",
    "Note that we do not regularize the weight of the constant feature (intercept) `w[0]`, so, for this weight, the update is simply:\n",
    "```\n",
    "w[0] = ro[i]\n",
    "```"
   ]
  },
  {
   "cell_type": "markdown",
   "metadata": {},
   "source": [
    "## Effect of L1 penalty"
   ]
  },
  {
   "cell_type": "markdown",
   "metadata": {},
   "source": [
    "Let us consider a simple model with 2 features:"
   ]
  },
  {
   "cell_type": "code",
   "execution_count": 167,
   "metadata": {},
   "outputs": [],
   "source": [
    "simple_features = ['SQUARE FEET', 'BEDS']\n",
    "my_output = 'PRICE'\n",
    "(simple_feature_matrix, output) = get_numpy_data(df2, simple_features, my_output)"
   ]
  },
  {
   "cell_type": "markdown",
   "metadata": {},
   "source": [
    "Normalize the features first:"
   ]
  },
  {
   "cell_type": "code",
   "execution_count": 169,
   "metadata": {},
   "outputs": [],
   "source": [
    "normal_simple_fea = normalize_features(simple_feature_matrix)"
   ]
  },
  {
   "cell_type": "markdown",
   "metadata": {},
   "source": [
    "We assign some random set of initial weights and inspect the values of ro[i]:"
   ]
  },
  {
   "cell_type": "code",
   "execution_count": 170,
   "metadata": {},
   "outputs": [],
   "source": [
    "weights = np.array([1., 4., 1.])"
   ]
  },
  {
   "cell_type": "markdown",
   "metadata": {},
   "source": [
    "Use `predict_output()` to make predictions on this data."
   ]
  },
  {
   "cell_type": "code",
   "execution_count": 187,
   "metadata": {},
   "outputs": [],
   "source": [
    "predictions = predict_output(simple_feature_matrix,weights)"
   ]
  },
  {
   "cell_type": "code",
   "execution_count": 184,
   "metadata": {},
   "outputs": [
    {
     "data": {
      "text/plain": [
       "3"
      ]
     },
     "execution_count": 184,
     "metadata": {},
     "output_type": "execute_result"
    }
   ],
   "source": [
    "simple_feature_matrix.shape[]"
   ]
  },
  {
   "cell_type": "markdown",
   "metadata": {},
   "source": [
    "Compute the values of `ro[i]` for each feature in this simple model, using the formula given above, using the formula:\n",
    "```\n",
    "ro[i] = SUM[ [feature_i]*(output - prediction + w[i]*[feature_i]) ]\n",
    "```\n",
    "\n",
    "*Hint: You can get a Numpy vector for feature_i using:*\n",
    "```\n",
    "simple_feature_matrix[:,i]\n",
    "```"
   ]
  },
  {
   "cell_type": "code",
   "execution_count": 200,
   "metadata": {},
   "outputs": [
    {
     "name": "stdout",
     "output_type": "stream",
     "text": [
      "[1686990329.0, 3527203238868.0, 5874128372.0]\n"
     ]
    }
   ],
   "source": [
    "ro = []\n",
    "for i in range(simple_feature_matrix.shape[1]):\n",
    "    r1= (simple_feature_matrix[:,i]*(output - predictions + \n",
    "                                         (weights[i]*simple_feature_matrix[:,i]))).sum()\n",
    "    ro.append(r1)\n",
    "print(ro)"
   ]
  },
  {
   "cell_type": "markdown",
   "metadata": {},
   "source": [
    "Whenever ro[i] falls between -l1_penalty/2 and l1_penalty/2, the corresponding weight w[i] is sent to zero. Now suppose we were to take one step of coordinate descent on either feature 1 or feature 2. What range of values of l1_penalty would not set w[1] zero, but would set w[2] to zero, if we were to take a step in that coordinate?"
   ]
  },
  {
   "cell_type": "code",
   "execution_count": 201,
   "metadata": {},
   "outputs": [],
   "source": [
    "# For feature 1"
   ]
  },
  {
   "cell_type": "code",
   "execution_count": 203,
   "metadata": {},
   "outputs": [
    {
     "data": {
      "text/plain": [
       "7054406477736.0"
      ]
     },
     "execution_count": 203,
     "metadata": {},
     "output_type": "execute_result"
    }
   ],
   "source": [
    "2*ro[1]"
   ]
  },
  {
   "cell_type": "code",
   "execution_count": 204,
   "metadata": {},
   "outputs": [],
   "source": [
    "# For feature 2"
   ]
  },
  {
   "cell_type": "code",
   "execution_count": 205,
   "metadata": {},
   "outputs": [
    {
     "data": {
      "text/plain": [
       "11748256744.0"
      ]
     },
     "execution_count": 205,
     "metadata": {},
     "output_type": "execute_result"
    }
   ],
   "source": [
    "2*ro[2]"
   ]
  },
  {
   "cell_type": "code",
   "execution_count": null,
   "metadata": {},
   "outputs": [],
   "source": [
    "# If ro[i] > -lambda/2 and ro[i] < lambda/2, w[i]=0\n",
    "# If ro[i] < -lambda/2 or ro[i] > lambda , w[i]=0."
   ]
  },
  {
   "cell_type": "code",
   "execution_count": 120,
   "metadata": {},
   "outputs": [
    {
     "name": "stdout",
     "output_type": "stream",
     "text": [
      "-42182969.7294\n",
      "-43606098.0185\n"
     ]
    }
   ],
   "source": [
    "# your code"
   ]
  },
  {
   "cell_type": "markdown",
   "metadata": {},
   "source": [
    "What range of values of `l1_penalty` would set **both** `w[1]` and `w[2]` to zero, if we were to take a step in that coordinate? "
   ]
  },
  {
   "cell_type": "code",
   "execution_count": 121,
   "metadata": {
    "collapsed": true
   },
   "outputs": [],
   "source": [
    "# your code"
   ]
  },
  {
   "cell_type": "markdown",
   "metadata": {},
   "source": [
    "So we can say that `ro[i]` quantifies the significance of the i-th feature: the larger `ro[i]` is, the more likely it is for the i-th feature to be retained."
   ]
  },
  {
   "cell_type": "markdown",
   "metadata": {},
   "source": [
    "## Single Coordinate Descent Step"
   ]
  },
  {
   "cell_type": "markdown",
   "metadata": {},
   "source": [
    "Using the formula above, implement coordinate descent that minimizes the cost function over a single feature i. Note that the intercept (weight 0) is not regularized. The function should accept feature matrix, output, current weights, l1 penalty, and index of feature to optimize over. The function should return new weight for feature i."
   ]
  },
  {
   "cell_type": "code",
   "execution_count": 344,
   "metadata": {},
   "outputs": [],
   "source": [
    "def lasso_coordinate_descent_step(i, feature_matrix, output, weights, l1_penalty):\n",
    "    # compute prediction\n",
    "    predictions = predict_output(feature_matrix,weights)\n",
    "    # compute ro[i] = SUM[ [feature_i]*(output - prediction + weight[i]*[feature_i]) ]\n",
    "    ro_i = (feature_matrix[:,i]*(output - predictions + \n",
    "                                         (weights[i]*feature_matrix[:,i]))).sum()\n",
    "    if i == 0: # intercept -- do not regularize\n",
    "        new_weight_i = ro_i \n",
    "    elif ro_i < -l1_penalty/2:\n",
    "        new_weight_i = ro_i+l1_penalty/2\n",
    "    elif ro_i > l1_penalty/2:\n",
    "        new_weight_i = ro_i-l1_penalty/2\n",
    "    else:\n",
    "        new_weight_i = 0\n",
    "    \n",
    "    return new_weight_i"
   ]
  },
  {
   "cell_type": "markdown",
   "metadata": {},
   "source": [
    "To test the function, run the following cell:"
   ]
  },
  {
   "cell_type": "code",
   "execution_count": 342,
   "metadata": {},
   "outputs": [],
   "source": [
    "import math"
   ]
  },
  {
   "cell_type": "code",
   "execution_count": 345,
   "metadata": {},
   "outputs": [
    {
     "name": "stdout",
     "output_type": "stream",
     "text": [
      "0.4255588466910251\n"
     ]
    }
   ],
   "source": [
    "print (lasso_coordinate_descent_step(1, np.array([[3./math.sqrt(13),1./math.sqrt(10)],[2./math.sqrt(13),3./math.sqrt(10)]]), \n",
    "                                   np.array([1., 1.]), np.array([1., 4.]), 0.1))"
   ]
  },
  {
   "cell_type": "markdown",
   "metadata": {},
   "source": [
    "## Cyclical coordinate descent "
   ]
  },
  {
   "cell_type": "markdown",
   "metadata": {},
   "source": [
    "Now that we have a function that optimizes the cost function over a single coordinate, let us implement cyclical coordinate descent where we optimize coordinates 0, 1, ..., (d-1) in order and repeat.\n",
    "\n",
    "When do we know to stop? Each time we scan all the coordinates (features) once, we measure the change in weight for each coordinate. If no coordinate changes by more than a specified threshold, we stop."
   ]
  },
  {
   "cell_type": "markdown",
   "metadata": {},
   "source": [
    "For each iteration:\n",
    "1. As you loop over features in order and perform coordinate descent, measure how much each coordinate changes.\n",
    "2. After the loop, if the maximum change across all coordinates is falls below the tolerance, stop. Otherwise, go back to step 1.\n",
    "\n",
    "Return weights\n",
    "\n",
    "**IMPORTANT: when computing a new weight for coordinate i, make sure to incorporate the new weights for coordinates 0, 1, ..., i-1. One good way is to update your weights variable in-place. See following pseudocode for illustration.**\n",
    "```\n",
    "for i in range(len(weights)):\n",
    "    old_weights_i = weights[i] # remember old value of weight[i], as it will be overwritten\n",
    "    # the following line uses new values for weight[0], weight[1], ..., weight[i-1]\n",
    "    #     and old values for weight[i], ..., weight[d-1]\n",
    "    weights[i] = lasso_coordinate_descent_step(i, feature_matrix, output, weights, l1_penalty)\n",
    "    \n",
    "    # use old_weights_i to compute change in coordinate\n",
    "    ...\n",
    "```"
   ]
  },
  {
   "cell_type": "code",
   "execution_count": 323,
   "metadata": {},
   "outputs": [],
   "source": [
    "def lasso_cyclical_coordinate_descent(feature_matrix, output, initial_weights, l1_penalty, tolerance):\n",
    "    # your code #initialize weights\n",
    "    weights = np.array(initial_weights)\n",
    "    change_in_coordination = tolerance * np.ones(len(weights)) # define change_in_coordination\n",
    "    while max(change_in_coordination) >= tolerance: \n",
    "        #for loop\n",
    "        for i in range(len(weights)):\n",
    "            old_weights_i = weights[i]\n",
    "            weights[i] = lasso_coordinate_descent_step(i, feature_matrix, output, weights, l1_penalty)\n",
    "            change_in_coordination[i] = abs(old_weights_i - weights[i]) \n",
    "            \n",
    "        \n",
    "    return weights"
   ]
  },
  {
   "cell_type": "markdown",
   "metadata": {},
   "source": [
    "Using the following parameters, learn the weights on the sales dataset. "
   ]
  },
  {
   "cell_type": "code",
   "execution_count": 324,
   "metadata": {},
   "outputs": [],
   "source": [
    "simple_features = ['SQUARE FEET', 'BEDS']\n",
    "my_output = 'PRICE'\n",
    "initial_weights = np.zeros(3)\n",
    "l1_penalty = 5e6\n",
    "tolerance = 1.0"
   ]
  },
  {
   "cell_type": "markdown",
   "metadata": {},
   "source": [
    "First create a normalized version of the feature matrix, `normalized_simple_feature_matrix`."
   ]
  },
  {
   "cell_type": "code",
   "execution_count": 304,
   "metadata": {},
   "outputs": [],
   "source": [
    "(feature_matrix_2, output_2) = get_numpy_data(df2, simple_features, my_output)"
   ]
  },
  {
   "cell_type": "code",
   "execution_count": 305,
   "metadata": {},
   "outputs": [],
   "source": [
    "(normalized_simple_feature_matrix,norms) = normalize_features(feature_matrix_2)"
   ]
  },
  {
   "cell_type": "code",
   "execution_count": 306,
   "metadata": {},
   "outputs": [],
   "source": [
    "# your code\n",
    "# normalize features"
   ]
  },
  {
   "cell_type": "markdown",
   "metadata": {},
   "source": [
    "Then, run your implementation of LASSO coordinate descent:"
   ]
  },
  {
   "cell_type": "code",
   "execution_count": 307,
   "metadata": {},
   "outputs": [],
   "source": [
    "weights = lasso_cyclical_coordinate_descent(normalized_simple_feature_matrix, output_2, initial_weights, l1_penalty, tolerance)"
   ]
  },
  {
   "cell_type": "code",
   "execution_count": 308,
   "metadata": {},
   "outputs": [
    {
     "data": {
      "text/plain": [
       "array([21424074.34219058, 22753616.26260392,        0.        ])"
      ]
     },
     "execution_count": 308,
     "metadata": {},
     "output_type": "execute_result"
    }
   ],
   "source": [
    "weights"
   ]
  },
  {
   "cell_type": "code",
   "execution_count": null,
   "metadata": {},
   "outputs": [],
   "source": [
    "# The weight for SQUARE FEET is 21424074.34219058.\n",
    "# The weight for BEDS is 22753616.26260392."
   ]
  },
  {
   "cell_type": "markdown",
   "metadata": {},
   "source": [
    "***QUIZ QUESTIONS***\n",
    "1. What is the RSS of the learned model on the normalized dataset? (Hint: use the normalized feature matrix when you make predictions.)\n",
    "2. Which features had weight zero at convergence?"
   ]
  },
  {
   "cell_type": "code",
   "execution_count": 309,
   "metadata": {},
   "outputs": [
    {
     "data": {
      "text/plain": [
       "1342535140154268.0"
      ]
     },
     "execution_count": 309,
     "metadata": {},
     "output_type": "execute_result"
    }
   ],
   "source": [
    "predictions2 = predict_output(normalized_simple_feature_matrix,weights)\n",
    "square_error = (predictions2 - output_2) * (predictions2 - output_2)\n",
    "RSS = square_error.sum()\n",
    "RSS"
   ]
  },
  {
   "cell_type": "markdown",
   "metadata": {},
   "source": [
    "# Evaluating LASSO fit with more features"
   ]
  },
  {
   "cell_type": "markdown",
   "metadata": {},
   "source": [
    "Let us split the sales dataset into training and test sets using 80/20"
   ]
  },
  {
   "cell_type": "code",
   "execution_count": 346,
   "metadata": {},
   "outputs": [],
   "source": [
    "(training,test) = train_test_split(df2,test_size=0.2)"
   ]
  },
  {
   "cell_type": "markdown",
   "metadata": {},
   "source": [
    "Let's use all features as used previously.\n",
    "\n",
    "First, create a normalized feature matrix from the TRAINING data with these features.  (Make you store the norms for the normalization, since we'll use them later)"
   ]
  },
  {
   "cell_type": "code",
   "execution_count": 349,
   "metadata": {},
   "outputs": [],
   "source": [
    "all_features = ['SQUARE FEET', 'LOT SIZE', \n",
    "                'BEDS', 'BATHS', 'CITY_cat', \n",
    "                'PROPERTY TYPE_cat', 'ZIP OR POSTAL CODE', \n",
    "                'YEAR BUILT', 'sqft_sqrt','lot_sqrt','bedrooms_square','bath_square']\n",
    "my_output = 'PRICE'"
   ]
  },
  {
   "cell_type": "code",
   "execution_count": 350,
   "metadata": {},
   "outputs": [
    {
     "name": "stderr",
     "output_type": "stream",
     "text": [
      "/Users/liziwei/anaconda3/lib/python3.7/site-packages/ipykernel_launcher.py:2: SettingWithCopyWarning: \n",
      "A value is trying to be set on a copy of a slice from a DataFrame.\n",
      "Try using .loc[row_indexer,col_indexer] = value instead\n",
      "\n",
      "See the caveats in the documentation: http://pandas.pydata.org/pandas-docs/stable/user_guide/indexing.html#returning-a-view-versus-a-copy\n",
      "  \n"
     ]
    }
   ],
   "source": [
    "(feature_matrix_3, output_3) = get_numpy_data(training, all_features, my_output)"
   ]
  },
  {
   "cell_type": "code",
   "execution_count": 351,
   "metadata": {},
   "outputs": [],
   "source": [
    "(normalized_all_feature_matrix,norms_3) = normalize_features(feature_matrix_3)"
   ]
  },
  {
   "cell_type": "code",
   "execution_count": 352,
   "metadata": {},
   "outputs": [],
   "source": [
    "# your code"
   ]
  },
  {
   "cell_type": "markdown",
   "metadata": {},
   "source": [
    "First, learn the weights with `l1_penalty=1e6`, on the training data. Initialize weights to all zeros, and set the `tolerance=1`.  Call resulting weights `weights1e6`, you will need them later."
   ]
  },
  {
   "cell_type": "code",
   "execution_count": 353,
   "metadata": {},
   "outputs": [],
   "source": [
    "l1_penalty=1e6\n",
    "initial_weights = np.zeros(len(all_features)+1)\n",
    "tolerance=1"
   ]
  },
  {
   "cell_type": "code",
   "execution_count": 355,
   "metadata": {},
   "outputs": [],
   "source": [
    "weights1e6 = lasso_cyclical_coordinate_descent(normalized_all_feature_matrix, output_3, initial_weights, l1_penalty, tolerance)"
   ]
  },
  {
   "cell_type": "code",
   "execution_count": 361,
   "metadata": {},
   "outputs": [
    {
     "name": "stdout",
     "output_type": "stream",
     "text": [
      "The coefficient for SQUARE FEET is 19948574.259020492\n",
      "The coefficient for LOT SIZE is 23952733.02246711\n",
      "The coefficient for BEDS is 0.0\n",
      "The coefficient for BATHS is 0.0\n",
      "The coefficient for CITY_cat is 0.0\n",
      "The coefficient for PROPERTY TYPE_cat is -3547168.3455931563\n",
      "The coefficient for ZIP OR POSTAL CODE is 0.0\n",
      "The coefficient for YEAR BUILT is -4706901.418796752\n",
      "The coefficient for sqft_sqrt is 0.0\n",
      "The coefficient for lot_sqrt is 0.0\n",
      "The coefficient for bedrooms_square is 0.0\n",
      "The coefficient for bath_square is 0.0\n",
      "The intercept is 3420184.6384816905\n"
     ]
    }
   ],
   "source": [
    "print_outcome(weights1e6,weights1e6[len(all_features)],all_features)"
   ]
  },
  {
   "cell_type": "code",
   "execution_count": null,
   "metadata": {},
   "outputs": [],
   "source": [
    "# I find that the BEDS, BATHS, CITY_cat, ZIP OR POSTAL CODE, sqft_sqrt, lot_sqrt,\n",
    "# bedrooms_square and bath_square have 0 weights when penalty = 1e6."
   ]
  },
  {
   "cell_type": "markdown",
   "metadata": {},
   "source": [
    "What features had non-zero weight in this case?\n",
    "\n",
    "Next, learn the weights with `l1_penalty=5e6`, on the training data. Initialize weights to all zeros, and set the `tolerance=1`.  Call resulting weights `weights5e6`, you will need them later."
   ]
  },
  {
   "cell_type": "code",
   "execution_count": 363,
   "metadata": {},
   "outputs": [],
   "source": [
    "l1_penalty=5e6\n",
    "initial_weights = np.zeros(len(all_features)+1)\n",
    "tolerance=1"
   ]
  },
  {
   "cell_type": "code",
   "execution_count": 364,
   "metadata": {},
   "outputs": [],
   "source": [
    "weights5e6 = lasso_cyclical_coordinate_descent(normalized_all_feature_matrix, output_3, initial_weights, l1_penalty, tolerance)"
   ]
  },
  {
   "cell_type": "code",
   "execution_count": 366,
   "metadata": {},
   "outputs": [
    {
     "data": {
      "text/plain": [
       "array([23327446.91713883, 10821464.71629212,        0.        ,\n",
       "              0.        ,        0.        ,        0.        ,\n",
       "              0.        ,  -422101.41552693,        0.        ,\n",
       "              0.        ,        0.        ,        0.        ,\n",
       "        5659183.48675774])"
      ]
     },
     "execution_count": 366,
     "metadata": {},
     "output_type": "execute_result"
    }
   ],
   "source": [
    "weights5e6"
   ]
  },
  {
   "cell_type": "code",
   "execution_count": 365,
   "metadata": {},
   "outputs": [
    {
     "name": "stdout",
     "output_type": "stream",
     "text": [
      "The coefficient for SQUARE FEET is 23327446.917138826\n",
      "The coefficient for LOT SIZE is 10821464.716292117\n",
      "The coefficient for BEDS is 0.0\n",
      "The coefficient for BATHS is 0.0\n",
      "The coefficient for CITY_cat is 0.0\n",
      "The coefficient for PROPERTY TYPE_cat is 0.0\n",
      "The coefficient for ZIP OR POSTAL CODE is 0.0\n",
      "The coefficient for YEAR BUILT is -422101.41552693024\n",
      "The coefficient for sqft_sqrt is 0.0\n",
      "The coefficient for lot_sqrt is 0.0\n",
      "The coefficient for bedrooms_square is 0.0\n",
      "The coefficient for bath_square is 0.0\n",
      "The intercept is 5659183.486757736\n"
     ]
    }
   ],
   "source": [
    "print_outcome(weights5e6,weights5e6[len(all_features)],all_features)"
   ]
  },
  {
   "cell_type": "code",
   "execution_count": 367,
   "metadata": {},
   "outputs": [],
   "source": [
    "# I find that the BEDS, BATHS, CITY_cat, PROPERTY TYPE_cat,\n",
    "# ZIP OR POSTAL CODE, sqft_sqrt, lot_sqrt,\n",
    "# bedrooms_square and bath_square have 0 weights when penalty = 5e6."
   ]
  },
  {
   "cell_type": "markdown",
   "metadata": {},
   "source": [
    "What features had non-zero weight in this case?"
   ]
  },
  {
   "cell_type": "markdown",
   "metadata": {},
   "source": [
    "Finally, learn the weights with `l1_penalty=1e4`, on the training data. Initialize weights to all zeros, and set the `tolerance=1e2`.  Call resulting weights `weights1e4`, you will need them later.  (This case will take quite a bit longer to converge than the others above.)"
   ]
  },
  {
   "cell_type": "code",
   "execution_count": 368,
   "metadata": {},
   "outputs": [],
   "source": [
    "l1_penalty=1e4\n",
    "initial_weights = np.zeros(len(all_features)+1)\n",
    "tolerance=1e2"
   ]
  },
  {
   "cell_type": "code",
   "execution_count": 369,
   "metadata": {},
   "outputs": [],
   "source": [
    "weights1e4 = lasso_cyclical_coordinate_descent(normalized_all_feature_matrix, output_3, initial_weights, l1_penalty, tolerance)"
   ]
  },
  {
   "cell_type": "code",
   "execution_count": 370,
   "metadata": {},
   "outputs": [
    {
     "name": "stdout",
     "output_type": "stream",
     "text": [
      "The coefficient for SQUARE FEET is -296119560.5260999\n",
      "The coefficient for LOT SIZE is 37793724.92172788\n",
      "The coefficient for BEDS is -1075505.8672239594\n",
      "The coefficient for BATHS is 2869645.003249021\n",
      "The coefficient for CITY_cat is 6813803.634347554\n",
      "The coefficient for PROPERTY TYPE_cat is -5365627.589544139\n",
      "The coefficient for ZIP OR POSTAL CODE is 725621.0642663033\n",
      "The coefficient for YEAR BUILT is -7032823.134882799\n",
      "The coefficient for sqft_sqrt is 326987258.9888274\n",
      "The coefficient for lot_sqrt is -27476626.754277505\n",
      "The coefficient for bedrooms_square is 2391378.5429834533\n",
      "The coefficient for bath_square is 714261.5400839491\n",
      "The intercept is -3174135.635059706\n"
     ]
    }
   ],
   "source": [
    "print_outcome(weights1e4,weights1e4[len(all_features)],all_features)"
   ]
  },
  {
   "cell_type": "code",
   "execution_count": 371,
   "metadata": {},
   "outputs": [
    {
     "data": {
      "text/plain": [
       "array([-2.96119561e+08,  3.77937249e+07, -1.07550587e+06,  2.86964500e+06,\n",
       "        6.81380363e+06, -5.36562759e+06,  7.25621064e+05, -7.03282313e+06,\n",
       "        3.26987259e+08, -2.74766268e+07,  2.39137854e+06,  7.14261540e+05,\n",
       "       -3.17413564e+06])"
      ]
     },
     "execution_count": 371,
     "metadata": {},
     "output_type": "execute_result"
    }
   ],
   "source": [
    "weights1e4"
   ]
  },
  {
   "cell_type": "code",
   "execution_count": 372,
   "metadata": {},
   "outputs": [],
   "source": [
    "# I find that all features have non-zero weights when penalty = 1e4 and tolerance = 1e2."
   ]
  },
  {
   "cell_type": "markdown",
   "metadata": {},
   "source": [
    "What features had non-zero weight in this case?"
   ]
  },
  {
   "cell_type": "markdown",
   "metadata": {},
   "source": [
    "## Rescaling learned weights"
   ]
  },
  {
   "cell_type": "markdown",
   "metadata": {},
   "source": [
    "Recall that we normalized our feature matrix, before learning the weights.  To use these weights on a test set, we must normalize the test data in the same way.\n",
    "\n",
    "Alternatively, we can rescale the learned weights to include the normalization, so we never have to worry about normalizing the test data: \n",
    "\n",
    "In this case, we must scale the resulting weights so that we can make predictions with *original* features:\n",
    " 1. Store the norms of the original features to a vector called `norms`:\n",
    "```\n",
    "features, norms = normalize_features(features)\n",
    "```\n",
    " 2. Run Lasso on the normalized features and obtain a `weights` vector\n",
    " 3. Compute the weights for the original features by performing element-wise division, i.e.\n",
    "```\n",
    "weights_normalized = weights / norms\n",
    "```\n",
    "Now, we can apply `weights_normalized` to the test data, without normalizing it!"
   ]
  },
  {
   "cell_type": "code",
   "execution_count": 373,
   "metadata": {},
   "outputs": [
    {
     "name": "stderr",
     "output_type": "stream",
     "text": [
      "/Users/liziwei/anaconda3/lib/python3.7/site-packages/ipykernel_launcher.py:2: SettingWithCopyWarning: \n",
      "A value is trying to be set on a copy of a slice from a DataFrame.\n",
      "Try using .loc[row_indexer,col_indexer] = value instead\n",
      "\n",
      "See the caveats in the documentation: http://pandas.pydata.org/pandas-docs/stable/user_guide/indexing.html#returning-a-view-versus-a-copy\n",
      "  \n"
     ]
    }
   ],
   "source": [
    "(feature_matrix, output) = get_numpy_data(training, all_features, my_output)"
   ]
  },
  {
   "cell_type": "code",
   "execution_count": 375,
   "metadata": {},
   "outputs": [],
   "source": [
    "(features, norms) = normalize_features(feature_matrix)"
   ]
  },
  {
   "cell_type": "markdown",
   "metadata": {},
   "source": [
    "Create a normalized version of each of the weights learned above. (`weights1e6`, `weights5e6`, `weights1e4`)."
   ]
  },
  {
   "cell_type": "code",
   "execution_count": 377,
   "metadata": {},
   "outputs": [],
   "source": [
    "weights_normalized1e6 = weights1e6 / norms"
   ]
  },
  {
   "cell_type": "code",
   "execution_count": 378,
   "metadata": {},
   "outputs": [],
   "source": [
    "weights_normalized5e6 = weights5e6 / norms"
   ]
  },
  {
   "cell_type": "code",
   "execution_count": 379,
   "metadata": {},
   "outputs": [],
   "source": [
    "weights_normalized1e4 = weights1e4 / norms"
   ]
  },
  {
   "cell_type": "markdown",
   "metadata": {},
   "source": [
    "To check your results, if you call `normalized_weights1e6` the normalized version of `weights1e6`, should return 11.22951655151892"
   ]
  },
  {
   "cell_type": "code",
   "execution_count": 192,
   "metadata": {},
   "outputs": [
    {
     "data": {
      "text/plain": [
       "11.22951655151892"
      ]
     },
     "execution_count": 192,
     "metadata": {},
     "output_type": "execute_result"
    }
   ],
   "source": [
    "weights1e6_normalized[2]"
   ]
  },
  {
   "cell_type": "markdown",
   "metadata": {},
   "source": [
    "## Evaluating each of the learned models on the test data"
   ]
  },
  {
   "cell_type": "markdown",
   "metadata": {},
   "source": [
    "Let's now evaluate the three models on the test data:"
   ]
  },
  {
   "cell_type": "code",
   "execution_count": 385,
   "metadata": {},
   "outputs": [
    {
     "name": "stderr",
     "output_type": "stream",
     "text": [
      "/Users/liziwei/anaconda3/lib/python3.7/site-packages/ipykernel_launcher.py:2: SettingWithCopyWarning: \n",
      "A value is trying to be set on a copy of a slice from a DataFrame.\n",
      "Try using .loc[row_indexer,col_indexer] = value instead\n",
      "\n",
      "See the caveats in the documentation: http://pandas.pydata.org/pandas-docs/stable/user_guide/indexing.html#returning-a-view-versus-a-copy\n",
      "  \n"
     ]
    }
   ],
   "source": [
    "(feature_matrix_test, output_test) = get_numpy_data(test, all_features, my_output)"
   ]
  },
  {
   "cell_type": "code",
   "execution_count": 386,
   "metadata": {},
   "outputs": [],
   "source": [
    "# for penalty = 1e6"
   ]
  },
  {
   "cell_type": "code",
   "execution_count": 387,
   "metadata": {},
   "outputs": [
    {
     "name": "stdout",
     "output_type": "stream",
     "text": [
      "264852018130349.75\n"
     ]
    }
   ],
   "source": [
    "prediction1 = predict_output(feature_matrix_test,weights_normalized1e6 )\n",
    "error_1_square = (prediction1-output_test) * (prediction1-output_test)\n",
    "RSS_1 = error_1_square.sum()\n",
    "print(RSS_1)"
   ]
  },
  {
   "cell_type": "code",
   "execution_count": null,
   "metadata": {},
   "outputs": [],
   "source": [
    "# for penalty = 5e6"
   ]
  },
  {
   "cell_type": "code",
   "execution_count": 388,
   "metadata": {},
   "outputs": [
    {
     "name": "stdout",
     "output_type": "stream",
     "text": [
      "275228248833321.66\n"
     ]
    }
   ],
   "source": [
    "prediction2 = predict_output(feature_matrix_test,weights_normalized5e6 )\n",
    "error_2_square = (prediction2-output_test) * (prediction2-output_test)\n",
    "RSS_2 = error_2_square.sum()\n",
    "print(RSS_2)"
   ]
  },
  {
   "cell_type": "code",
   "execution_count": null,
   "metadata": {},
   "outputs": [],
   "source": [
    "# for penalty = 1e4"
   ]
  },
  {
   "cell_type": "code",
   "execution_count": 389,
   "metadata": {},
   "outputs": [
    {
     "name": "stdout",
     "output_type": "stream",
     "text": [
      "268359048168217.5\n"
     ]
    }
   ],
   "source": [
    "prediction3 = predict_output(feature_matrix_test,weights_normalized1e4 )\n",
    "error_3_square = (prediction3-output_test) * (prediction3-output_test)\n",
    "RSS_3 = error_3_square.sum()\n",
    "print(RSS_3)"
   ]
  },
  {
   "cell_type": "markdown",
   "metadata": {},
   "source": [
    "Compute the RSS of each of the three normalized weights on the (unnormalized) `test_feature_matrix`:"
   ]
  },
  {
   "cell_type": "markdown",
   "metadata": {},
   "source": [
    "Which model performed best on the test data? What is your interpretation on the results?"
   ]
  },
  {
   "cell_type": "code",
   "execution_count": null,
   "metadata": {
    "collapsed": true
   },
   "outputs": [],
   "source": [
    "# Based on the previous results, I find that when penalty equals to 1e6, the \n",
    "# RSS is the lowest compared to the rest. \n",
    "# Therefore, I think that the penalty 1e6 performs the best."
   ]
  }
 ],
 "metadata": {
  "kernelspec": {
   "display_name": "Python 3",
   "language": "python",
   "name": "python3"
  },
  "language_info": {
   "codemirror_mode": {
    "name": "ipython",
    "version": 3
   },
   "file_extension": ".py",
   "mimetype": "text/x-python",
   "name": "python",
   "nbconvert_exporter": "python",
   "pygments_lexer": "ipython3",
   "version": "3.7.5"
  }
 },
 "nbformat": 4,
 "nbformat_minor": 1
}
