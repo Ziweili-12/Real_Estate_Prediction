{
 "cells": [
  {
   "cell_type": "markdown",
   "metadata": {},
   "source": [
    "# Project 3: Polynomial Regression"
   ]
  },
  {
   "cell_type": "markdown",
   "metadata": {},
   "source": [
    "In this project you will compare different regression models in order to assess which model fits best. We will be using polynomial regression as a means to examine this topic. In particular you will:\n",
    "* Write a function to take an array and a degree and return a dataframe where each column is the array to a polynomial value up to the total degree e.g. degree = 3 then column 1 is the array column 2 is the array squared and column 3 is the array cubed\n",
    "* Use matplotlib to visualize polynomial regressions\n",
    "* Use matplotlib to visualize the same polynomial degree on different subsets of the data\n",
    "* Use a validation set to select a polynomial degree\n",
    "* Assess the final fit using test data\n",
    "\n",
    "We will continue to use the House data from previous projects."
   ]
  },
  {
   "cell_type": "markdown",
   "metadata": {},
   "source": [
    "# Write a polynomial function"
   ]
  },
  {
   "cell_type": "markdown",
   "metadata": {},
   "source": [
    "we're going to write a polynomial function that takes an array and a maximal degree and returns a dataframe with columns containing the array to all the powers up to the maximal degree."
   ]
  },
  {
   "cell_type": "code",
   "execution_count": 1,
   "metadata": {},
   "outputs": [
    {
     "name": "stdout",
     "output_type": "stream",
     "text": [
      "[1. 2. 3.]\n",
      "[ 1.  8. 27.]\n"
     ]
    }
   ],
   "source": [
    "import numpy as np\n",
    "import pandas as pd\n",
    "\n",
    "tmp = np.array([1., 2., 3.])\n",
    "tmp_cubed = tmp**3\n",
    "print (tmp)\n",
    "print (tmp_cubed)"
   ]
  },
  {
   "cell_type": "markdown",
   "metadata": {},
   "source": [
    "We can create an empty datarame using pd.DataFrame() and then add any columns to it with ex_df['column_name'] = value. For example we create an empty dataframe and make the column 'power_1' to be the first power of tmp (i.e. tmp itself)."
   ]
  },
  {
   "cell_type": "code",
   "execution_count": 2,
   "metadata": {},
   "outputs": [
    {
     "name": "stdout",
     "output_type": "stream",
     "text": [
      "   power_1\n",
      "0      1.0\n",
      "1      2.0\n",
      "2      3.0\n"
     ]
    }
   ],
   "source": [
    "ex_df = pd.DataFrame()\n",
    "ex_df['power_1'] = tmp\n",
    "print (ex_df)"
   ]
  },
  {
   "cell_type": "markdown",
   "metadata": {},
   "source": [
    "Using the hints above complete the following function to create a dataframe consisting of the powers of an array up to a specific degree:"
   ]
  },
  {
   "cell_type": "code",
   "execution_count": 3,
   "metadata": {},
   "outputs": [],
   "source": [
    "def polynomial_df(feature, degree):\n",
    "    # assume that degree >= 1\n",
    "    # initialize the dataframe:\n",
    "    poly_df = pd.DataFrame()\n",
    "    # and set poly_df['power_1'] equal to the passed feature\n",
    "    poly_df['power_1'] = feature\n",
    "    # first check if degree > 1\n",
    "    if degree > 1:\n",
    "        # then loop over the remaining degrees:\n",
    "        # range usually starts at 0 and stops at the endpoint-1. We want it to start at 2 and stop at degree\n",
    "        for i in range(2,degree+1):\n",
    "            # first we'll give the column a name:\n",
    "            column_name = 'power_'+str(i)\n",
    "            # then assign poly_sframe[name] to the appropriate power of feature\n",
    "            poly_df[column_name] = poly_df['power_1'] ** i\n",
    "    return poly_df"
   ]
  },
  {
   "cell_type": "markdown",
   "metadata": {},
   "source": [
    "To test your function consider the smaller tmp variable and what you would expect the outcome of the following call:"
   ]
  },
  {
   "cell_type": "code",
   "execution_count": 4,
   "metadata": {},
   "outputs": [
    {
     "name": "stdout",
     "output_type": "stream",
     "text": [
      "   power_1  power_2  power_3\n",
      "0      1.0      1.0      1.0\n",
      "1      2.0      4.0      8.0\n",
      "2      3.0      9.0     27.0\n"
     ]
    }
   ],
   "source": [
    "print (polynomial_df(tmp, 3))"
   ]
  },
  {
   "cell_type": "markdown",
   "metadata": {},
   "source": [
    "# Visualizing polynomial regression"
   ]
  },
  {
   "cell_type": "markdown",
   "metadata": {},
   "source": [
    "Let's use matplotlib to visualize what a polynomial regression looks like on some real data."
   ]
  },
  {
   "cell_type": "code",
   "execution_count": 5,
   "metadata": {},
   "outputs": [],
   "source": [
    "import matplotlib.pyplot as plt\n",
    "import seaborn as sns\n",
    "%matplotlib inline\n",
    "# load the data, preprocess it as what you did before"
   ]
  },
  {
   "cell_type": "code",
   "execution_count": 6,
   "metadata": {},
   "outputs": [],
   "source": [
    "df = pd.read_csv('merged.csv')"
   ]
  },
  {
   "cell_type": "code",
   "execution_count": 7,
   "metadata": {},
   "outputs": [],
   "source": [
    "df1 = df[['SQUARE FEET','PRICE']]"
   ]
  },
  {
   "cell_type": "markdown",
   "metadata": {},
   "source": [
    "To demonstrate polynomial regression, we use ['SQUARE FEET'] as the feature. Later, for plotting purposes (connecting the dots), you'll need to sort by the values of SQUARE FEET. For houses with identical square footage, we break the tie by their prices."
   ]
  },
  {
   "cell_type": "code",
   "execution_count": 8,
   "metadata": {},
   "outputs": [],
   "source": [
    "df2 = df1.dropna()\n",
    "df3 = df2.sort_values(['SQUARE FEET','PRICE'])"
   ]
  },
  {
   "cell_type": "code",
   "execution_count": 9,
   "metadata": {},
   "outputs": [],
   "source": [
    "# And also there is a outlier which has extremely big square_feet and extremely high prices.\n",
    "# It has minimal usage for our anaysis.\n",
    "# Therefore, we have to remove it."
   ]
  },
  {
   "cell_type": "code",
   "execution_count": 10,
   "metadata": {},
   "outputs": [],
   "source": [
    "df4 = df3.drop(df3['SQUARE FEET'].idxmax())"
   ]
  },
  {
   "cell_type": "markdown",
   "metadata": {},
   "source": [
    "Let's start with a degree 1 polynomial using 'SQUARE FEET' (i.e. a line) to predict 'PRICE' and plot what it looks like (same as simple regression)"
   ]
  },
  {
   "cell_type": "code",
   "execution_count": 11,
   "metadata": {},
   "outputs": [],
   "source": [
    "poly1_data = polynomial_df(df4['SQUARE FEET'], 1)\n",
    "my_features = list(poly1_data.columns.values)\n",
    "poly1_data['PRICE'] = df4['PRICE']"
   ]
  },
  {
   "cell_type": "code",
   "execution_count": 12,
   "metadata": {},
   "outputs": [],
   "source": [
    "from sklearn.linear_model import LinearRegression\n",
    "model = LinearRegression()"
   ]
  },
  {
   "cell_type": "code",
   "execution_count": 13,
   "metadata": {},
   "outputs": [],
   "source": [
    "model_1 = model.fit(poly1_data[my_features],poly1_data['PRICE'])"
   ]
  },
  {
   "cell_type": "code",
   "execution_count": 14,
   "metadata": {},
   "outputs": [],
   "source": [
    "# Print the coefficients and intercept"
   ]
  },
  {
   "cell_type": "code",
   "execution_count": 15,
   "metadata": {},
   "outputs": [],
   "source": [
    "def coef(coefficients,intercept,input_features):\n",
    "    for x in range(len(input_features)):\n",
    "        print('The coefficient for {} is {}'.format(input_features[x],coefficients[x]))\n",
    "    print('The intercept is {}'.format(intercept))"
   ]
  },
  {
   "cell_type": "code",
   "execution_count": 16,
   "metadata": {},
   "outputs": [
    {
     "name": "stdout",
     "output_type": "stream",
     "text": [
      "The coefficient for power_1 is 383.68268475802864\n",
      "The intercept is 315813.2857847649\n"
     ]
    }
   ],
   "source": [
    "coef(model_1.coef_,model_1.intercept_,my_features)"
   ]
  },
  {
   "cell_type": "markdown",
   "metadata": {},
   "source": [
    "Use matplotlib to plot the raw data and the fitting curve for model_1. Let's unpack that plt.plot() command. The first pair of arrays we passed are the 1st power of sqft and the actual price we then ask it to print these as dots '.'. The next pair we pass is the 1st power of sqft and the predicted values from the linear model. We ask these to be plotted as a line '-'."
   ]
  },
  {
   "cell_type": "code",
   "execution_count": 17,
   "metadata": {},
   "outputs": [
    {
     "data": {
      "text/plain": [
       "[<matplotlib.lines.Line2D at 0x11cf265d0>]"
      ]
     },
     "execution_count": 17,
     "metadata": {},
     "output_type": "execute_result"
    },
    {
     "data": {
      "image/png": "[encoded data removed]",
      "text/plain": [
       "<Figure size 432x288 with 1 Axes>"
      ]
     },
     "metadata": {
      "needs_background": "light"
     },
     "output_type": "display_data"
    }
   ],
   "source": [
    "plt.plot(poly1_data['power_1'],poly1_data['PRICE'],'.')\n",
    "plt.plot(poly1_data['power_1'], model_1.predict(poly1_data[my_features]),'-')"
   ]
  },
  {
   "cell_type": "markdown",
   "metadata": {},
   "source": [
    "We can see, not surprisingly, that the predicted values all fall on a line. What if we wanted to plot a second degree polynomial?"
   ]
  },
  {
   "cell_type": "code",
   "execution_count": 18,
   "metadata": {},
   "outputs": [],
   "source": [
    "# Try degree = 2"
   ]
  },
  {
   "cell_type": "code",
   "execution_count": 19,
   "metadata": {},
   "outputs": [],
   "source": [
    "poly2_data = polynomial_df(df4['SQUARE FEET'], 2)\n",
    "my_features = list(poly2_data.columns.values)\n",
    "poly2_data['PRICE'] = df4['PRICE'] # add price to the data since it's the target\n",
    "model_2 = model.fit(poly2_data[my_features], poly2_data['PRICE'])"
   ]
  },
  {
   "cell_type": "code",
   "execution_count": 20,
   "metadata": {},
   "outputs": [
    {
     "data": {
      "text/plain": [
       "[<matplotlib.lines.Line2D at 0x1a255d5fd0>]"
      ]
     },
     "execution_count": 20,
     "metadata": {},
     "output_type": "execute_result"
    },
    {
     "data": {
      "image/png": "[encoded data removed]",
      "text/plain": [
       "<Figure size 432x288 with 1 Axes>"
      ]
     },
     "metadata": {
      "needs_background": "light"
     },
     "output_type": "display_data"
    }
   ],
   "source": [
    "plt.plot(poly2_data['power_1'],poly2_data['PRICE'],'.')\n",
    "plt.plot(poly2_data['power_1'], model_2.predict(poly2_data[my_features]),'-')"
   ]
  },
  {
   "cell_type": "markdown",
   "metadata": {},
   "source": [
    "The resulting model looks like half a parabola. Try on your own to see what the cubic looks like:"
   ]
  },
  {
   "cell_type": "code",
   "execution_count": 21,
   "metadata": {},
   "outputs": [],
   "source": [
    "# Try degree = 3"
   ]
  },
  {
   "cell_type": "code",
   "execution_count": 22,
   "metadata": {},
   "outputs": [],
   "source": [
    "poly3_data = polynomial_df(df4['SQUARE FEET'], 3)\n",
    "my_features = list(poly3_data.columns.values)\n",
    "poly3_data['PRICE'] = df4['PRICE'] # add price to the data since it's the target\n",
    "model_3 = model.fit(poly3_data[my_features], poly3_data['PRICE'])"
   ]
  },
  {
   "cell_type": "code",
   "execution_count": 23,
   "metadata": {},
   "outputs": [
    {
     "data": {
      "text/plain": [
       "[<matplotlib.lines.Line2D at 0x1a2573d610>]"
      ]
     },
     "execution_count": 23,
     "metadata": {},
     "output_type": "execute_result"
    },
    {
     "data": {
      "image/png": "[encoded data removed]",
      "text/plain": [
       "<Figure size 432x288 with 1 Axes>"
      ]
     },
     "metadata": {
      "needs_background": "light"
     },
     "output_type": "display_data"
    }
   ],
   "source": [
    "plt.plot(poly3_data['power_1'],poly3_data['PRICE'],'.')\n",
    "plt.plot(poly3_data['power_1'], model_3.predict(poly3_data[my_features]),'-')"
   ]
  },
  {
   "cell_type": "markdown",
   "metadata": {},
   "source": [
    "Now try a 15th degree polynomial:"
   ]
  },
  {
   "cell_type": "code",
   "execution_count": 24,
   "metadata": {},
   "outputs": [],
   "source": [
    "poly15_data = polynomial_df(df4['SQUARE FEET'], 15)\n",
    "my_features = list(poly15_data.columns.values)\n",
    "poly15_data['PRICE'] = df4['PRICE'] # add price to the data since it's the target\n",
    "model_15 = model.fit(poly15_data[my_features], poly15_data['PRICE'])"
   ]
  },
  {
   "cell_type": "code",
   "execution_count": 25,
   "metadata": {},
   "outputs": [
    {
     "data": {
      "text/plain": [
       "[<matplotlib.lines.Line2D at 0x1a25835610>]"
      ]
     },
     "execution_count": 25,
     "metadata": {},
     "output_type": "execute_result"
    },
    {
     "data": {
      "image/png": "[encoded data removed]",
      "text/plain": [
       "<Figure size 432x288 with 1 Axes>"
      ]
     },
     "metadata": {
      "needs_background": "light"
     },
     "output_type": "display_data"
    }
   ],
   "source": [
    "plt.plot(poly15_data['power_1'],poly15_data['PRICE'],'.')\n",
    "plt.plot(poly15_data['power_1'], model_15.predict(poly15_data[my_features]),'-')"
   ]
  },
  {
   "cell_type": "markdown",
   "metadata": {},
   "source": [
    "What do you think of the 15th degree polynomial? Do you think this is appropriate? If we were to change the data do you think you'd get pretty much the same curve? Let's take a look."
   ]
  },
  {
   "cell_type": "markdown",
   "metadata": {},
   "source": [
    "# Changing the data and re-learning"
   ]
  },
  {
   "cell_type": "markdown",
   "metadata": {},
   "source": [
    "We're going to split the sales data into four subsets of roughly equal size. Then you will estimate a 15th degree polynomial model on all four subsets of the data. Print the coefficients and plot the resulting fit (as we did above). \n",
    "\n",
    "To split the sales data into four subsets, we perform the following steps:\n",
    "First split sales into 2 subsets with 50/50 split.\n",
    "Next split the resulting subsets into 2 more subsets each with 50/50.\n",
    "You should end up with 4 subsets (set_1, set_2, set_3, set_4) of approximately equal size. Sort them as you did for the intial dataframe."
   ]
  },
  {
   "cell_type": "code",
   "execution_count": 26,
   "metadata": {},
   "outputs": [],
   "source": [
    "from sklearn.model_selection import train_test_split"
   ]
  },
  {
   "cell_type": "code",
   "execution_count": 27,
   "metadata": {},
   "outputs": [],
   "source": [
    "data1,data2 = train_test_split(df4,test_size = 0.5)"
   ]
  },
  {
   "cell_type": "code",
   "execution_count": 28,
   "metadata": {},
   "outputs": [],
   "source": [
    "set_1, set_2 = train_test_split(data1,test_size = 0.5)"
   ]
  },
  {
   "cell_type": "code",
   "execution_count": 29,
   "metadata": {},
   "outputs": [],
   "source": [
    "set_3, set_4 = train_test_split(data2,test_size = 0.5)"
   ]
  },
  {
   "cell_type": "code",
   "execution_count": 30,
   "metadata": {},
   "outputs": [],
   "source": [
    "set_1 = set_1.sort_values(['SQUARE FEET','PRICE'])\n",
    "set_2 = set_2.sort_values(['SQUARE FEET','PRICE'])\n",
    "set_3 = set_3.sort_values(['SQUARE FEET','PRICE'])\n",
    "set_4 = set_4.sort_values(['SQUARE FEET','PRICE'])"
   ]
  },
  {
   "cell_type": "markdown",
   "metadata": {},
   "source": [
    "Fit a 15th degree polynomial on set_1, set_2, set_3, and set_4 using sqft_living to predict prices. Print the coefficients and make a plot of the resulting model."
   ]
  },
  {
   "cell_type": "code",
   "execution_count": 31,
   "metadata": {},
   "outputs": [],
   "source": [
    "# Set_1"
   ]
  },
  {
   "cell_type": "code",
   "execution_count": 32,
   "metadata": {},
   "outputs": [
    {
     "name": "stdout",
     "output_type": "stream",
     "text": [
      "The coefficient for power_1 is -1.0390989034749652e-90\n",
      "The coefficient for power_2 is 2.0195402257390024e-49\n",
      "The coefficient for power_3 is -3.5810233310932445e-54\n",
      "The coefficient for power_4 is -1.9779483389104007e-92\n",
      "The coefficient for power_5 is -2.838551251395056e-75\n",
      "The coefficient for power_6 is -8.610012346575916e-72\n",
      "The coefficient for power_7 is -4.909181804766889e-68\n",
      "The coefficient for power_8 is -2.7900563771011828e-64\n",
      "The coefficient for power_9 is -1.5713219141454315e-60\n",
      "The coefficient for power_10 is -8.652156475549943e-57\n",
      "The coefficient for power_11 is -4.519885416572534e-53\n",
      "The coefficient for power_12 is -2.083967458694698e-49\n",
      "The coefficient for power_13 is -6.797575671848372e-46\n",
      "The coefficient for power_14 is 8.990042290246234e-50\n",
      "The coefficient for power_15 is -2.9601089806702985e-54\n",
      "The intercept is 1077463.5241318296\n"
     ]
    },
    {
     "data": {
      "text/plain": [
       "[<matplotlib.lines.Line2D at 0x1a25809050>]"
      ]
     },
     "execution_count": 32,
     "metadata": {},
     "output_type": "execute_result"
    },
    {
     "data": {
      "image/png": "[encoded data removed]",
      "text/plain": [
       "<Figure size 432x288 with 1 Axes>"
      ]
     },
     "metadata": {
      "needs_background": "light"
     },
     "output_type": "display_data"
    }
   ],
   "source": [
    "set1_data = polynomial_df(set_1['SQUARE FEET'], 15)\n",
    "my_features = list(set1_data.columns.values)\n",
    "set1_data['PRICE'] = set_1['PRICE'] # add price to the data since it's the target\n",
    "model_set1 = model.fit(set1_data[my_features], set1_data['PRICE'])\n",
    "coef(model_set1.coef_,model_set1.intercept_,my_features)\n",
    "plt.plot(set1_data['power_1'],set1_data['PRICE'],'.')\n",
    "plt.plot(set1_data['power_1'], model_set1.predict(set1_data[my_features]),'-')"
   ]
  },
  {
   "cell_type": "code",
   "execution_count": 33,
   "metadata": {},
   "outputs": [],
   "source": [
    "# Set_2"
   ]
  },
  {
   "cell_type": "code",
   "execution_count": 34,
   "metadata": {},
   "outputs": [
    {
     "name": "stdout",
     "output_type": "stream",
     "text": [
      "The coefficient for power_1 is 4.4924276333642914e-92\n",
      "The coefficient for power_2 is -1.7851028137087284e-48\n",
      "The coefficient for power_3 is -4.533560298000313e-54\n",
      "The coefficient for power_4 is -6.223015277861142e-61\n",
      "The coefficient for power_5 is 4.999074988879257e-76\n",
      "The coefficient for power_6 is 3.607769018449462e-72\n",
      "The coefficient for power_7 is 3.289365746472036e-68\n",
      "The coefficient for power_8 is 2.96543981257449e-64\n",
      "The coefficient for power_9 is 2.618026622559815e-60\n",
      "The coefficient for power_10 is 2.22365798394836e-56\n",
      "The coefficient for power_11 is 1.7556269265029738e-52\n",
      "The coefficient for power_12 is 1.1944789072579544e-48\n",
      "The coefficient for power_13 is 5.604547417902867e-45\n",
      "The coefficient for power_14 is -5.9271708711541816e-49\n",
      "The coefficient for power_15 is 1.5447557224453385e-53\n",
      "The intercept is 994427.4689203954\n"
     ]
    },
    {
     "data": {
      "text/plain": [
       "[<matplotlib.lines.Line2D at 0x109115650>]"
      ]
     },
     "execution_count": 34,
     "metadata": {},
     "output_type": "execute_result"
    },
    {
     "data": {
      "image/png": "[encoded data removed]",
      "text/plain": [
       "<Figure size 432x288 with 1 Axes>"
      ]
     },
     "metadata": {
      "needs_background": "light"
     },
     "output_type": "display_data"
    }
   ],
   "source": [
    "set2_data = polynomial_df(set_2['SQUARE FEET'], 15)\n",
    "my_features = list(set2_data.columns.values)\n",
    "set2_data['PRICE'] = set_2['PRICE'] # add price to the data since it's the target\n",
    "model_set2 = model.fit(set2_data[my_features], set2_data['PRICE'])\n",
    "coef(model_set2.coef_,model_set2.intercept_,my_features)\n",
    "plt.plot(set2_data['power_1'],set2_data['PRICE'],'.')\n",
    "plt.plot(set2_data['power_1'], model_set2.predict(set2_data[my_features]),'-')"
   ]
  },
  {
   "cell_type": "code",
   "execution_count": 35,
   "metadata": {},
   "outputs": [],
   "source": [
    "# Set_3"
   ]
  },
  {
   "cell_type": "code",
   "execution_count": 36,
   "metadata": {},
   "outputs": [
    {
     "name": "stdout",
     "output_type": "stream",
     "text": [
      "The coefficient for power_1 is -3.5035521605490435e-88\n",
      "The coefficient for power_2 is 5.760812239643239e-47\n",
      "The coefficient for power_3 is 2.3681686195654394e-54\n",
      "The coefficient for power_4 is 4.916687666486428e-88\n",
      "The coefficient for power_5 is -1.008386547673412e-71\n",
      "The coefficient for power_6 is -4.832025126476078e-69\n",
      "The coefficient for power_7 is -3.1795961542893457e-65\n",
      "The coefficient for power_8 is -2.0524468788866793e-61\n",
      "The coefficient for power_9 is -1.2791223878506995e-57\n",
      "The coefficient for power_10 is -7.526666803404665e-54\n",
      "The coefficient for power_11 is -4.027791337395932e-50\n",
      "The coefficient for power_12 is -1.814203924783124e-46\n",
      "The coefficient for power_13 is -5.5022074043316134e-43\n",
      "The coefficient for power_14 is 1.1281761513312958e-46\n",
      "The coefficient for power_15 is -5.521035753951567e-51\n",
      "The intercept is 919658.9470667737\n"
     ]
    },
    {
     "data": {
      "text/plain": [
       "[<matplotlib.lines.Line2D at 0x1a1f521810>]"
      ]
     },
     "execution_count": 36,
     "metadata": {},
     "output_type": "execute_result"
    },
    {
     "data": {
      "image/png": "[encoded data removed]",
      "text/plain": [
       "<Figure size 432x288 with 1 Axes>"
      ]
     },
     "metadata": {
      "needs_background": "light"
     },
     "output_type": "display_data"
    }
   ],
   "source": [
    "set3_data = polynomial_df(set_3['SQUARE FEET'], 15)\n",
    "my_features = list(set3_data.columns.values)\n",
    "set3_data['PRICE'] = set_3['PRICE'] # add price to the data since it's the target\n",
    "model_set3= model.fit(set3_data[my_features], set3_data['PRICE'])\n",
    "coef(model_set3.coef_,model_set3.intercept_,my_features)\n",
    "plt.plot(set3_data['power_1'],set3_data['PRICE'],'.')\n",
    "plt.plot(set3_data['power_1'], model_set3.predict(set3_data[my_features]),'-')"
   ]
  },
  {
   "cell_type": "code",
   "execution_count": 37,
   "metadata": {},
   "outputs": [],
   "source": [
    "# Set_4"
   ]
  },
  {
   "cell_type": "code",
   "execution_count": 38,
   "metadata": {},
   "outputs": [
    {
     "name": "stdout",
     "output_type": "stream",
     "text": [
      "The coefficient for power_1 is 1.558163362431337e-73\n",
      "The coefficient for power_2 is -8.769783601575408e-38\n",
      "The coefficient for power_3 is -1.9545234815748662e-43\n",
      "The coefficient for power_4 is 3.657455340348364e-48\n",
      "The coefficient for power_5 is 1.336382355046098e-51\n",
      "The coefficient for power_6 is 1.3093096024784795e-55\n",
      "The coefficient for power_7 is 2.4079165000575007e-52\n",
      "The coefficient for power_8 is 6.716368322821173e-49\n",
      "The coefficient for power_9 is 1.7290963086383104e-45\n",
      "The coefficient for power_10 is 3.9307223996861394e-42\n",
      "The coefficient for power_11 is 7.20995353622848e-39\n",
      "The coefficient for power_12 is 8.331428664160557e-36\n",
      "The coefficient for power_13 is -4.8943500992109385e-39\n",
      "The coefficient for power_14 is 9.601516574397595e-43\n",
      "The coefficient for power_15 is -6.287201333897262e-47\n",
      "The intercept is 931878.1288779882\n"
     ]
    },
    {
     "data": {
      "text/plain": [
       "[<matplotlib.lines.Line2D at 0x1a1f600ed0>]"
      ]
     },
     "execution_count": 38,
     "metadata": {},
     "output_type": "execute_result"
    },
    {
     "data": {
      "image/png": "[encoded data removed]",
      "text/plain": [
       "<Figure size 432x288 with 1 Axes>"
      ]
     },
     "metadata": {
      "needs_background": "light"
     },
     "output_type": "display_data"
    }
   ],
   "source": [
    "set4_data = polynomial_df(set_4['SQUARE FEET'], 15)\n",
    "my_features = list(set4_data.columns.values)\n",
    "set4_data['PRICE'] = set_4['PRICE'] # add price to the data since it's the target\n",
    "model_set4= model.fit(set4_data[my_features], set4_data['PRICE'])\n",
    "coef(model_set4.coef_,model_set4.intercept_,my_features)\n",
    "plt.plot(set4_data['power_1'],set4_data['PRICE'],'.')\n",
    "plt.plot(set4_data['power_1'], model_set4.predict(set4_data[my_features]),'-')"
   ]
  },
  {
   "cell_type": "markdown",
   "metadata": {},
   "source": [
    "Now plot all 4 sets of data and fitting together."
   ]
  },
  {
   "cell_type": "code",
   "execution_count": 39,
   "metadata": {},
   "outputs": [
    {
     "data": {
      "text/plain": [
       "[<matplotlib.lines.Line2D at 0x1a28291d50>]"
      ]
     },
     "execution_count": 39,
     "metadata": {},
     "output_type": "execute_result"
    },
    {
     "data": {
      "image/png": "[encoded data removed]",
      "text/plain": [
       "<Figure size 432x288 with 1 Axes>"
      ]
     },
     "metadata": {
      "needs_background": "light"
     },
     "output_type": "display_data"
    }
   ],
   "source": [
    "plt.plot(set1_data['power_1'],set1_data['PRICE'],'.')\n",
    "plt.plot(set1_data['power_1'], model_set1.predict(set1_data[my_features]),'-')\n",
    "plt.plot(set2_data['power_1'],set2_data['PRICE'],'.')\n",
    "plt.plot(set2_data['power_1'], model_set2.predict(set2_data[my_features]),'-')\n",
    "plt.plot(set3_data['power_1'],set3_data['PRICE'],'.')\n",
    "plt.plot(set3_data['power_1'], model_set3.predict(set3_data[my_features]),'-')\n",
    "plt.plot(set4_data['power_1'],set4_data['PRICE'],'.')\n",
    "plt.plot(set4_data['power_1'], model_set4.predict(set4_data[my_features]),'-')"
   ]
  },
  {
   "cell_type": "markdown",
   "metadata": {},
   "source": [
    "What do you think of the model?"
   ]
  },
  {
   "cell_type": "code",
   "execution_count": null,
   "metadata": {},
   "outputs": [],
   "source": [
    "# We can see that all these models show different plots.\n",
    "# And I cannot say that all these model can well fit the dataset."
   ]
  },
  {
   "cell_type": "markdown",
   "metadata": {},
   "source": [
    "# Selecting a Polynomial Degree"
   ]
  },
  {
   "cell_type": "markdown",
   "metadata": {},
   "source": [
    "Whenever we have a \"magic\" parameter like the degree of the polynomial there is one well-known way to select these parameters: validation set (we will practice on other ways in later projects).\n",
    "\n",
    "We split the sales dataset 3-way into training set, test set, and validation set as follows:\n",
    "* Split our sales data into 2 sets: training_and_validation and testing. Use 90/10 split.\n",
    "* Further split our training data into two sets: training and validation. Use 50/50 split."
   ]
  },
  {
   "cell_type": "code",
   "execution_count": 41,
   "metadata": {},
   "outputs": [],
   "source": [
    "training_and_validation,testing = train_test_split(df4,test_size = 0.1)"
   ]
  },
  {
   "cell_type": "code",
   "execution_count": 44,
   "metadata": {},
   "outputs": [],
   "source": [
    "training,validation = train_test_split(training_and_validation,test_size = 0.5)"
   ]
  },
  {
   "cell_type": "code",
   "execution_count": 49,
   "metadata": {},
   "outputs": [
    {
     "data": {
      "text/html": [
       "<div>\n",
       "<style scoped>\n",
       "    .dataframe tbody tr th:only-of-type {\n",
       "        vertical-align: middle;\n",
       "    }\n",
       "\n",
       "    .dataframe tbody tr th {\n",
       "        vertical-align: top;\n",
       "    }\n",
       "\n",
       "    .dataframe thead th {\n",
       "        text-align: right;\n",
       "    }\n",
       "</style>\n",
       "<table border=\"1\" class=\"dataframe\">\n",
       "  <thead>\n",
       "    <tr style=\"text-align: right;\">\n",
       "      <th></th>\n",
       "      <th>SQUARE FEET</th>\n",
       "      <th>PRICE</th>\n",
       "    </tr>\n",
       "  </thead>\n",
       "  <tbody>\n",
       "    <tr>\n",
       "      <th>1653</th>\n",
       "      <td>1550.0</td>\n",
       "      <td>260000.0</td>\n",
       "    </tr>\n",
       "    <tr>\n",
       "      <th>1391</th>\n",
       "      <td>2540.0</td>\n",
       "      <td>3334000.0</td>\n",
       "    </tr>\n",
       "    <tr>\n",
       "      <th>971</th>\n",
       "      <td>3442.0</td>\n",
       "      <td>467000.0</td>\n",
       "    </tr>\n",
       "    <tr>\n",
       "      <th>1562</th>\n",
       "      <td>1580.0</td>\n",
       "      <td>267500.0</td>\n",
       "    </tr>\n",
       "    <tr>\n",
       "      <th>1307</th>\n",
       "      <td>1743.0</td>\n",
       "      <td>155000.0</td>\n",
       "    </tr>\n",
       "    <tr>\n",
       "      <th>...</th>\n",
       "      <td>...</td>\n",
       "      <td>...</td>\n",
       "    </tr>\n",
       "    <tr>\n",
       "      <th>927</th>\n",
       "      <td>784.0</td>\n",
       "      <td>640000.0</td>\n",
       "    </tr>\n",
       "    <tr>\n",
       "      <th>1063</th>\n",
       "      <td>814.0</td>\n",
       "      <td>625000.0</td>\n",
       "    </tr>\n",
       "    <tr>\n",
       "      <th>2238</th>\n",
       "      <td>1320.0</td>\n",
       "      <td>435000.0</td>\n",
       "    </tr>\n",
       "    <tr>\n",
       "      <th>1612</th>\n",
       "      <td>2660.0</td>\n",
       "      <td>1420000.0</td>\n",
       "    </tr>\n",
       "    <tr>\n",
       "      <th>1720</th>\n",
       "      <td>1160.0</td>\n",
       "      <td>640000.0</td>\n",
       "    </tr>\n",
       "  </tbody>\n",
       "</table>\n",
       "<p>819 rows × 2 columns</p>\n",
       "</div>"
      ],
      "text/plain": [
       "      SQUARE FEET      PRICE\n",
       "1653       1550.0   260000.0\n",
       "1391       2540.0  3334000.0\n",
       "971        3442.0   467000.0\n",
       "1562       1580.0   267500.0\n",
       "1307       1743.0   155000.0\n",
       "...           ...        ...\n",
       "927         784.0   640000.0\n",
       "1063        814.0   625000.0\n",
       "2238       1320.0   435000.0\n",
       "1612       2660.0  1420000.0\n",
       "1720       1160.0   640000.0\n",
       "\n",
       "[819 rows x 2 columns]"
      ]
     },
     "execution_count": 49,
     "metadata": {},
     "output_type": "execute_result"
    }
   ],
   "source": [
    "validation"
   ]
  },
  {
   "cell_type": "markdown",
   "metadata": {},
   "source": [
    "Next you should write a loop that does the following:\n",
    "* For degree in [1, 2, 3, 4, 5, 6, 7, 8, 9, 10, 11, 12, 13, 14, 15] (to get this in python use range(1, 15+1))\n",
    "  * Build a dataframe of polynomial data of train_data['SQUARE FEET'] at the current degree\n",
    "  * hint: my_features = poly_data.column_names() gives you a list e.g. ['power_1', 'power_2', 'power_3'] which you might find useful for graphlab.linear_regression.create( features = my_features)\n",
    "  * Add train_data['PRICE'] to the polynomial dataframe\n",
    "  * Learn a polynomial regression model to sqft vs price with that degree on train_data\n",
    "  * Compute the RSS on valid_data for that degree and you will need to make a polynmial dataframe using validation data.\n",
    "* Report which degree had the lowest RSS on validation data (remember python indexes from 0)\n"
   ]
  },
  {
   "cell_type": "code",
   "execution_count": 64,
   "metadata": {},
   "outputs": [
    {
     "name": "stdout",
     "output_type": "stream",
     "text": [
      "(1, 665437035719551.0)\n",
      "(2, 667757786510654.8)\n",
      "(3, 651062135505390.6)\n",
      "(4, 651935809960163.0)\n",
      "(5, 710146137796317.5)\n",
      "(6, 932304867385188.0)\n",
      "(7, 1341433508395085.0)\n",
      "(8, 842324256347573.8)\n",
      "(9, 936194328826001.5)\n",
      "(10, 1054469620838170.0)\n",
      "(11, 1199678182820921.8)\n",
      "(12, 1373848066912561.5)\n",
      "(13, 1575774805288003.2)\n",
      "(14, 1799691458523830.2)\n",
      "(15, 2036044708175080.5)\n"
     ]
    }
   ],
   "source": [
    "degree = []\n",
    "RSS_1 = []\n",
    "\n",
    "for i in range(1,15+1):\n",
    "    poly_data = polynomial_df(training['SQUARE FEET'], i)\n",
    "    my_features = poly_data.columns.values\n",
    "    poly_data['PRICE'] = training['PRICE']\n",
    "    model = LinearRegression()\n",
    "    model_i = model.fit(poly_data[my_features],poly_data['PRICE'])\n",
    "    poly_valid_data =  polynomial_df(validation['SQUARE FEET'], i)\n",
    "    my_valid_features = poly_valid_data.columns.values\n",
    "    poly_valid_data['PRICE'] = validation['PRICE']\n",
    "    predictions = model_i.predict(poly_valid_data[my_valid_features])\n",
    "    difference = predictions - poly_valid_data['PRICE']\n",
    "    square_of_difference = difference * difference\n",
    "    RSS = square_of_difference.sum()\n",
    "    RSS_1.append(RSS)\n",
    "    print((i,RSS))\n",
    "    degree.append(i)\n",
    "    "
   ]
  },
  {
   "cell_type": "markdown",
   "metadata": {},
   "source": [
    "Now plot the result as RSS from validation data vs. degree of polynomial. "
   ]
  },
  {
   "cell_type": "code",
   "execution_count": 67,
   "metadata": {},
   "outputs": [
    {
     "data": {
      "text/plain": [
       "[<matplotlib.lines.Line2D at 0x1a292ca2d0>]"
      ]
     },
     "execution_count": 67,
     "metadata": {},
     "output_type": "execute_result"
    },
    {
     "data": {
      "image/png": "[encoded data removed]",
      "text/plain": [
       "<Figure size 432x288 with 1 Axes>"
      ]
     },
     "metadata": {
      "needs_background": "light"
     },
     "output_type": "display_data"
    }
   ],
   "source": [
    "plt.plot(degree,RSS_1)"
   ]
  },
  {
   "cell_type": "markdown",
   "metadata": {},
   "source": [
    "Which degree shows the lowest RSS from validation data set?\n",
    "\n",
    "Now that you have chosen the degree of your polynomial using validation data, compute the RSS of this model on TEST data. Report the RSS on test data."
   ]
  },
  {
   "cell_type": "code",
   "execution_count": 85,
   "metadata": {},
   "outputs": [
    {
     "data": {
      "text/plain": [
       "0    2\n",
       "dtype: int64"
      ]
     },
     "execution_count": 85,
     "metadata": {},
     "output_type": "execute_result"
    }
   ],
   "source": [
    "pd.DataFrame(RSS_1).idxmin()"
   ]
  },
  {
   "cell_type": "code",
   "execution_count": 74,
   "metadata": {},
   "outputs": [],
   "source": [
    "# The lowest RSS from validation dataset is when degree=2."
   ]
  },
  {
   "cell_type": "code",
   "execution_count": 87,
   "metadata": {},
   "outputs": [],
   "source": [
    "poly_data = polynomial_df(training['SQUARE FEET'], 2)\n",
    "my_features = poly_data.columns.values\n",
    "poly_data['PRICE'] = training['PRICE']\n",
    "model = LinearRegression()\n",
    "model_i = model.fit(poly_data[my_features],poly_data['PRICE'])"
   ]
  },
  {
   "cell_type": "code",
   "execution_count": 89,
   "metadata": {},
   "outputs": [
    {
     "data": {
      "text/plain": [
       "154483100154404.2"
      ]
     },
     "execution_count": 89,
     "metadata": {},
     "output_type": "execute_result"
    }
   ],
   "source": [
    "poly_test_data =  polynomial_df(testing['SQUARE FEET'], 2)\n",
    "my_test_features = poly_test_data.columns.values\n",
    "poly_test_data['PRICE'] = testing['PRICE']\n",
    "predictions = model_i.predict(poly_test_data[my_test_features])\n",
    "difference = predictions - poly_test_data['PRICE']\n",
    "square_of_difference = difference * difference\n",
    "RSS = square_of_difference.sum()\n",
    "RSS"
   ]
  },
  {
   "cell_type": "code",
   "execution_count": null,
   "metadata": {
    "collapsed": true
   },
   "outputs": [],
   "source": [
    "# The rss for test dataset when degree=2 is 154483100154404.2."
   ]
  }
 ],
 "metadata": {
  "kernelspec": {
   "display_name": "Python 3",
   "language": "python",
   "name": "python3"
  },
  "language_info": {
   "codemirror_mode": {
    "name": "ipython",
    "version": 3
   },
   "file_extension": ".py",
   "mimetype": "text/x-python",
   "name": "python",
   "nbconvert_exporter": "python",
   "pygments_lexer": "ipython3",
   "version": "3.7.5"
  }
 },
 "nbformat": 4,
 "nbformat_minor": 1
}
