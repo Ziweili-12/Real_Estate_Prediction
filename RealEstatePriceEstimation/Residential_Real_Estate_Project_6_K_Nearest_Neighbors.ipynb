{
 "cells": [
  {
   "cell_type": "markdown",
   "metadata": {},
   "source": [
    "# Project 6: KNN Algorithm"
   ]
  },
  {
   "cell_type": "markdown",
   "metadata": {},
   "source": [
    "* Find the k-nearest neighbors of a given query input\n",
    "* Predict the output for the query input using the k-nearest neighbors\n",
    "* Choose the best value of k using a validation set"
   ]
  },
  {
   "cell_type": "code",
   "execution_count": 1,
   "metadata": {},
   "outputs": [],
   "source": [
    "import numpy as np"
   ]
  },
  {
   "cell_type": "code",
   "execution_count": 2,
   "metadata": {},
   "outputs": [],
   "source": [
    "import pandas as pd"
   ]
  },
  {
   "cell_type": "markdown",
   "metadata": {},
   "source": [
    "# Load in house sales data"
   ]
  },
  {
   "cell_type": "code",
   "execution_count": 3,
   "metadata": {},
   "outputs": [],
   "source": [
    "df = pd.read_csv('merged.csv')"
   ]
  },
  {
   "cell_type": "code",
   "execution_count": 4,
   "metadata": {},
   "outputs": [],
   "source": [
    "# Transform the numerical type to categorical type for some columns"
   ]
  },
  {
   "cell_type": "code",
   "execution_count": 5,
   "metadata": {},
   "outputs": [],
   "source": [
    "from sklearn.preprocessing import LabelEncoder"
   ]
  },
  {
   "cell_type": "code",
   "execution_count": 6,
   "metadata": {},
   "outputs": [],
   "source": [
    "labelencoder = LabelEncoder()"
   ]
  },
  {
   "cell_type": "code",
   "execution_count": 7,
   "metadata": {},
   "outputs": [],
   "source": [
    "df['CITY'] = df.CITY.str.upper()"
   ]
  },
  {
   "cell_type": "code",
   "execution_count": 8,
   "metadata": {},
   "outputs": [],
   "source": [
    "df['CITY_cat'] = labelencoder.fit_transform(df['CITY'].astype(str))"
   ]
  },
  {
   "cell_type": "code",
   "execution_count": 9,
   "metadata": {},
   "outputs": [],
   "source": [
    "df['PROPERTY TYPE_cat'] = labelencoder.fit_transform(df['PROPERTY TYPE'].astype(str))"
   ]
  },
  {
   "cell_type": "code",
   "execution_count": 10,
   "metadata": {},
   "outputs": [],
   "source": [
    "df['ZIP OR POSTAL CODE'] = labelencoder.fit_transform(df['ZIP OR POSTAL CODE'])"
   ]
  },
  {
   "cell_type": "code",
   "execution_count": 11,
   "metadata": {},
   "outputs": [],
   "source": [
    "# for feature we have as follows:"
   ]
  },
  {
   "cell_type": "code",
   "execution_count": 12,
   "metadata": {},
   "outputs": [],
   "source": [
    "all_features = ['SQUARE FEET', 'LOT SIZE', \n",
    "                'BEDS', 'BATHS', 'CITY_cat', \n",
    "                'PROPERTY TYPE_cat', 'ZIP OR POSTAL CODE', \n",
    "                'YEAR BUILT']"
   ]
  },
  {
   "cell_type": "code",
   "execution_count": 13,
   "metadata": {},
   "outputs": [],
   "source": [
    "my_output = 'PRICE'"
   ]
  },
  {
   "cell_type": "code",
   "execution_count": 14,
   "metadata": {},
   "outputs": [],
   "source": [
    "df2 = df[all_features+['PRICE']].dropna()"
   ]
  },
  {
   "cell_type": "markdown",
   "metadata": {},
   "source": [
    "# Normalize the feature_matrix"
   ]
  },
  {
   "cell_type": "code",
   "execution_count": 15,
   "metadata": {},
   "outputs": [],
   "source": [
    "# Copy normalizae function from project 5"
   ]
  },
  {
   "cell_type": "code",
   "execution_count": 16,
   "metadata": {},
   "outputs": [],
   "source": [
    "def get_numpy_data(data, features, output):\n",
    "    data['Constant'] = 1\n",
    "    features = ['Constant'] + features\n",
    "    feature_matrix = data[features].values\n",
    "    output_array = data[output].values\n",
    "    return(feature_matrix, output_array)"
   ]
  },
  {
   "cell_type": "code",
   "execution_count": 17,
   "metadata": {},
   "outputs": [],
   "source": [
    "def normalize_features(feature_matrix):\n",
    "    norms = np.linalg.norm(feature_matrix, axis=0)\n",
    "    features = feature_matrix / norms\n",
    "    \n",
    "    return(features,norms)"
   ]
  },
  {
   "cell_type": "markdown",
   "metadata": {},
   "source": [
    "# Split the data into training, validation and test set"
   ]
  },
  {
   "cell_type": "code",
   "execution_count": 18,
   "metadata": {},
   "outputs": [],
   "source": [
    "from sklearn.model_selection import train_test_split"
   ]
  },
  {
   "cell_type": "code",
   "execution_count": 19,
   "metadata": {},
   "outputs": [],
   "source": [
    "training_validation,testing = train_test_split(df2,test_size = 0.1)"
   ]
  },
  {
   "cell_type": "code",
   "execution_count": 20,
   "metadata": {},
   "outputs": [],
   "source": [
    "training,validation = train_test_split(training_validation,test_size = 0.5)"
   ]
  },
  {
   "cell_type": "markdown",
   "metadata": {},
   "source": [
    "# Transform numpy data to each set"
   ]
  },
  {
   "cell_type": "code",
   "execution_count": 21,
   "metadata": {},
   "outputs": [
    {
     "name": "stderr",
     "output_type": "stream",
     "text": [
      "/Users/liziwei/anaconda3/lib/python3.7/site-packages/ipykernel_launcher.py:2: SettingWithCopyWarning: \n",
      "A value is trying to be set on a copy of a slice from a DataFrame.\n",
      "Try using .loc[row_indexer,col_indexer] = value instead\n",
      "\n",
      "See the caveats in the documentation: http://pandas.pydata.org/pandas-docs/stable/user_guide/indexing.html#returning-a-view-versus-a-copy\n",
      "  \n"
     ]
    }
   ],
   "source": [
    "feature_matrix_train, output_array_train = get_numpy_data(training, all_features, my_output)"
   ]
  },
  {
   "cell_type": "code",
   "execution_count": 22,
   "metadata": {},
   "outputs": [
    {
     "name": "stderr",
     "output_type": "stream",
     "text": [
      "/Users/liziwei/anaconda3/lib/python3.7/site-packages/ipykernel_launcher.py:2: SettingWithCopyWarning: \n",
      "A value is trying to be set on a copy of a slice from a DataFrame.\n",
      "Try using .loc[row_indexer,col_indexer] = value instead\n",
      "\n",
      "See the caveats in the documentation: http://pandas.pydata.org/pandas-docs/stable/user_guide/indexing.html#returning-a-view-versus-a-copy\n",
      "  \n"
     ]
    }
   ],
   "source": [
    "feature_matrix_vali, output_array_vali = get_numpy_data(validation, all_features, my_output)"
   ]
  },
  {
   "cell_type": "code",
   "execution_count": 23,
   "metadata": {},
   "outputs": [
    {
     "name": "stderr",
     "output_type": "stream",
     "text": [
      "/Users/liziwei/anaconda3/lib/python3.7/site-packages/ipykernel_launcher.py:2: SettingWithCopyWarning: \n",
      "A value is trying to be set on a copy of a slice from a DataFrame.\n",
      "Try using .loc[row_indexer,col_indexer] = value instead\n",
      "\n",
      "See the caveats in the documentation: http://pandas.pydata.org/pandas-docs/stable/user_guide/indexing.html#returning-a-view-versus-a-copy\n",
      "  \n"
     ]
    }
   ],
   "source": [
    "feature_matrix_test, output_array_test = get_numpy_data(testing, all_features, my_output)"
   ]
  },
  {
   "cell_type": "markdown",
   "metadata": {},
   "source": [
    "# Normalize each set"
   ]
  },
  {
   "cell_type": "code",
   "execution_count": 24,
   "metadata": {},
   "outputs": [],
   "source": [
    "feature_train,norm_train = normalize_features(feature_matrix_train)"
   ]
  },
  {
   "cell_type": "code",
   "execution_count": 25,
   "metadata": {},
   "outputs": [],
   "source": [
    "feature_vali,norm_vali = normalize_features(feature_matrix_vali)"
   ]
  },
  {
   "cell_type": "code",
   "execution_count": 26,
   "metadata": {},
   "outputs": [],
   "source": [
    "feature_test,norm_test = normalize_features(feature_matrix_test)"
   ]
  },
  {
   "cell_type": "code",
   "execution_count": 27,
   "metadata": {},
   "outputs": [
    {
     "data": {
      "text/plain": [
       "array([0.07832604, 0.06182494, 0.09006516, 0.04708816, 0.03072925,\n",
       "       0.10116032, 0.08155185, 0.08436529, 0.07755679])"
      ]
     },
     "execution_count": 27,
     "metadata": {},
     "output_type": "execute_result"
    }
   ],
   "source": [
    "feature_test[0]"
   ]
  },
  {
   "cell_type": "markdown",
   "metadata": {},
   "source": [
    "# How KNN Algorithm works\n",
    "Calculate the Euclidean distance between the new point and the existing points\n",
    "\n",
    "Formula of Euclidean distance:\n",
    "\n",
    "Euclidean distance = sqrt [(x1-x2)^2+(y1-y2)^2+(z1-z2)^2+.....+(n1-n2)^2)]\n",
    "\n",
    "After getting the distance, we need to find the number of smallest distance.\n",
    "\n",
    "K equals to how many smallest distance you'd like to choose.\n",
    "\n",
    "And then compare these numbers and make predictions."
   ]
  },
  {
   "cell_type": "markdown",
   "metadata": {},
   "source": [
    "#\n",
    "First I would like to try to find two observation's distance in training set.\n",
    "\n",
    "I randomly select two numbers from training set and calculate the distance."
   ]
  },
  {
   "cell_type": "code",
   "execution_count": 28,
   "metadata": {},
   "outputs": [],
   "source": [
    "a = np.random.randint(0,100,1)\n",
    "b = np.random.randint(0,100,1)"
   ]
  },
  {
   "cell_type": "code",
   "execution_count": 29,
   "metadata": {},
   "outputs": [],
   "source": [
    "a_1 = feature_train[a]\n",
    "b_1 = feature_train[b]"
   ]
  },
  {
   "cell_type": "code",
   "execution_count": 32,
   "metadata": {},
   "outputs": [],
   "source": [
    "from math import sqrt"
   ]
  },
  {
   "cell_type": "code",
   "execution_count": 33,
   "metadata": {},
   "outputs": [
    {
     "name": "stdout",
     "output_type": "stream",
     "text": [
      "0.0467216450029469\n"
     ]
    }
   ],
   "source": [
    "diff_square = (a_1 - b_1) * (a_1 - b_1)\n",
    "sum_diff_square = diff_square.sum()\n",
    "distance = sqrt(sum_diff_square)\n",
    "print(distance)"
   ]
  },
  {
   "cell_type": "code",
   "execution_count": 31,
   "metadata": {},
   "outputs": [],
   "source": [
    "# Then this two points difference is 0.0467216450029469"
   ]
  },
  {
   "cell_type": "code",
   "execution_count": 34,
   "metadata": {},
   "outputs": [],
   "source": [
    "# After calculating two points distance, try to calculating one point to multiple points."
   ]
  },
  {
   "cell_type": "code",
   "execution_count": null,
   "metadata": {},
   "outputs": [],
   "source": [
    "# Set a random point as c, and multiple points as d."
   ]
  },
  {
   "cell_type": "code",
   "execution_count": 36,
   "metadata": {},
   "outputs": [],
   "source": [
    "c = np.random.randint(0,100,1)\n",
    "c_1 = feature_train[c]"
   ]
  },
  {
   "cell_type": "code",
   "execution_count": 39,
   "metadata": {},
   "outputs": [],
   "source": [
    "d = feature_train[0:15]"
   ]
  },
  {
   "cell_type": "code",
   "execution_count": 81,
   "metadata": {},
   "outputs": [
    {
     "data": {
      "text/plain": [
       "array([ 720000.,  878888.,  865000.,  240000.,  267500.,  354540.,\n",
       "        342000.,  505000., 1025000., 2475000., 1410000.,  304545.,\n",
       "        475000., 1545000.,  849000.])"
      ]
     },
     "execution_count": 81,
     "metadata": {},
     "output_type": "execute_result"
    }
   ],
   "source": [
    "d_v = output_array_train[0:15]\n",
    "d_v"
   ]
  },
  {
   "cell_type": "code",
   "execution_count": 40,
   "metadata": {},
   "outputs": [
    {
     "name": "stdout",
     "output_type": "stream",
     "text": [
      "0.1585340043558751\n"
     ]
    }
   ],
   "source": [
    "multi_diff_square = (c_1-d) * (c_1-d)\n",
    "multi_sum_diff_square = multi_diff_square.sum()\n",
    "multi_distance = sqrt(multi_sum_diff_square)\n",
    "print(multi_distance)"
   ]
  },
  {
   "cell_type": "code",
   "execution_count": 82,
   "metadata": {},
   "outputs": [
    {
     "data": {
      "text/html": [
       "<div>\n",
       "<style scoped>\n",
       "    .dataframe tbody tr th:only-of-type {\n",
       "        vertical-align: middle;\n",
       "    }\n",
       "\n",
       "    .dataframe tbody tr th {\n",
       "        vertical-align: top;\n",
       "    }\n",
       "\n",
       "    .dataframe thead th {\n",
       "        text-align: right;\n",
       "    }\n",
       "</style>\n",
       "<table border=\"1\" class=\"dataframe\">\n",
       "  <thead>\n",
       "    <tr style=\"text-align: right;\">\n",
       "      <th></th>\n",
       "      <th>index</th>\n",
       "      <th>distance</th>\n",
       "      <th>value</th>\n",
       "    </tr>\n",
       "  </thead>\n",
       "  <tbody>\n",
       "    <tr>\n",
       "      <th>0</th>\n",
       "      <td>0</td>\n",
       "      <td>0.061107</td>\n",
       "      <td>720000.0</td>\n",
       "    </tr>\n",
       "    <tr>\n",
       "      <th>1</th>\n",
       "      <td>1</td>\n",
       "      <td>0.054506</td>\n",
       "      <td>878888.0</td>\n",
       "    </tr>\n",
       "    <tr>\n",
       "      <th>2</th>\n",
       "      <td>2</td>\n",
       "      <td>0.047017</td>\n",
       "      <td>865000.0</td>\n",
       "    </tr>\n",
       "    <tr>\n",
       "      <th>3</th>\n",
       "      <td>3</td>\n",
       "      <td>0.037986</td>\n",
       "      <td>240000.0</td>\n",
       "    </tr>\n",
       "    <tr>\n",
       "      <th>4</th>\n",
       "      <td>4</td>\n",
       "      <td>0.023080</td>\n",
       "      <td>267500.0</td>\n",
       "    </tr>\n",
       "    <tr>\n",
       "      <th>5</th>\n",
       "      <td>5</td>\n",
       "      <td>0.037532</td>\n",
       "      <td>354540.0</td>\n",
       "    </tr>\n",
       "    <tr>\n",
       "      <th>6</th>\n",
       "      <td>6</td>\n",
       "      <td>0.019364</td>\n",
       "      <td>342000.0</td>\n",
       "    </tr>\n",
       "    <tr>\n",
       "      <th>7</th>\n",
       "      <td>7</td>\n",
       "      <td>0.052047</td>\n",
       "      <td>505000.0</td>\n",
       "    </tr>\n",
       "    <tr>\n",
       "      <th>8</th>\n",
       "      <td>8</td>\n",
       "      <td>0.051272</td>\n",
       "      <td>1025000.0</td>\n",
       "    </tr>\n",
       "    <tr>\n",
       "      <th>9</th>\n",
       "      <td>9</td>\n",
       "      <td>0.023355</td>\n",
       "      <td>2475000.0</td>\n",
       "    </tr>\n",
       "    <tr>\n",
       "      <th>10</th>\n",
       "      <td>10</td>\n",
       "      <td>0.032648</td>\n",
       "      <td>1410000.0</td>\n",
       "    </tr>\n",
       "    <tr>\n",
       "      <th>11</th>\n",
       "      <td>11</td>\n",
       "      <td>0.016314</td>\n",
       "      <td>304545.0</td>\n",
       "    </tr>\n",
       "    <tr>\n",
       "      <th>12</th>\n",
       "      <td>12</td>\n",
       "      <td>0.025607</td>\n",
       "      <td>475000.0</td>\n",
       "    </tr>\n",
       "    <tr>\n",
       "      <th>13</th>\n",
       "      <td>13</td>\n",
       "      <td>0.042176</td>\n",
       "      <td>1545000.0</td>\n",
       "    </tr>\n",
       "    <tr>\n",
       "      <th>14</th>\n",
       "      <td>14</td>\n",
       "      <td>0.052996</td>\n",
       "      <td>849000.0</td>\n",
       "    </tr>\n",
       "  </tbody>\n",
       "</table>\n",
       "</div>"
      ],
      "text/plain": [
       "    index  distance      value\n",
       "0       0  0.061107   720000.0\n",
       "1       1  0.054506   878888.0\n",
       "2       2  0.047017   865000.0\n",
       "3       3  0.037986   240000.0\n",
       "4       4  0.023080   267500.0\n",
       "5       5  0.037532   354540.0\n",
       "6       6  0.019364   342000.0\n",
       "7       7  0.052047   505000.0\n",
       "8       8  0.051272  1025000.0\n",
       "9       9  0.023355  2475000.0\n",
       "10     10  0.032648  1410000.0\n",
       "11     11  0.016314   304545.0\n",
       "12     12  0.025607   475000.0\n",
       "13     13  0.042176  1545000.0\n",
       "14     14  0.052996   849000.0"
      ]
     },
     "execution_count": 82,
     "metadata": {},
     "output_type": "execute_result"
    }
   ],
   "source": [
    "ind = []\n",
    "dist = []\n",
    "value = []\n",
    "dataf = pd.DataFrame()\n",
    "for i in range(len(d)):\n",
    "    multi_sum_diff_square = multi_diff_square[i].sum()\n",
    "    multi_distance = sqrt(multi_sum_diff_square)\n",
    "    value.append(output_array_train[i])\n",
    "    dist.append(multi_distance)\n",
    "    ind.append(i)\n",
    "dataf['index'] = ind\n",
    "dataf['distance'] = dist\n",
    "dataf['value'] = value\n",
    "dataf"
   ]
  },
  {
   "cell_type": "code",
   "execution_count": 61,
   "metadata": {},
   "outputs": [],
   "source": [
    "# After getting these results, we can creat two lists and make them to a data frame.\n",
    "# It will be convenient to see the smallest distance."
   ]
  },
  {
   "cell_type": "code",
   "execution_count": 62,
   "metadata": {},
   "outputs": [
    {
     "data": {
      "text/plain": [
       "0.016314446350458343"
      ]
     },
     "execution_count": 62,
     "metadata": {},
     "output_type": "execute_result"
    }
   ],
   "source": [
    "dataf['distance'].min()"
   ]
  },
  {
   "cell_type": "markdown",
   "metadata": {},
   "source": [
    "# Create a function to calculate the distance."
   ]
  },
  {
   "cell_type": "code",
   "execution_count": 83,
   "metadata": {},
   "outputs": [],
   "source": [
    "def distance(point,matrix_feature,value_matrix):\n",
    "    ind = []\n",
    "    dist = []\n",
    "    value = []\n",
    "    dataf_1 = pd.DataFrame()\n",
    "    diff_square_1 = (point-matrix_feature) * (point-matrix_feature)\n",
    "    for i in range(len(matrix_feature)):\n",
    "        sum_diff_square_1 = diff_square_1[i].sum()\n",
    "        distance_1 = sqrt(sum_diff_square_1)\n",
    "        value.append(value_matrix[i])\n",
    "        dist.append(distance_1)\n",
    "        ind.append(i)\n",
    "    dataf_1['index'] = ind\n",
    "    dataf_1['distance'] = dist\n",
    "    dataf_1['value'] = value\n",
    "    return dataf_1"
   ]
  },
  {
   "cell_type": "code",
   "execution_count": 65,
   "metadata": {},
   "outputs": [],
   "source": [
    "# Run a test on previous one data points and multiple data points"
   ]
  },
  {
   "cell_type": "code",
   "execution_count": 84,
   "metadata": {},
   "outputs": [
    {
     "name": "stdout",
     "output_type": "stream",
     "text": [
      "    index  distance      value\n",
      "0       0  0.061107   720000.0\n",
      "1       1  0.054506   878888.0\n",
      "2       2  0.047017   865000.0\n",
      "3       3  0.037986   240000.0\n",
      "4       4  0.023080   267500.0\n",
      "5       5  0.037532   354540.0\n",
      "6       6  0.019364   342000.0\n",
      "7       7  0.052047   505000.0\n",
      "8       8  0.051272  1025000.0\n",
      "9       9  0.023355  2475000.0\n",
      "10     10  0.032648  1410000.0\n",
      "11     11  0.016314   304545.0\n",
      "12     12  0.025607   475000.0\n",
      "13     13  0.042176  1545000.0\n",
      "14     14  0.052996   849000.0\n"
     ]
    }
   ],
   "source": [
    "print(distance(c_1,d,output_array_train[0:15]))"
   ]
  },
  {
   "cell_type": "code",
   "execution_count": 86,
   "metadata": {},
   "outputs": [],
   "source": [
    "# Then, grab a data from test set and calculate distance from data from train set.\n",
    "# Using K=1 to predict the price."
   ]
  },
  {
   "cell_type": "code",
   "execution_count": 89,
   "metadata": {},
   "outputs": [],
   "source": [
    "f = np.random.randint(0,100,1)\n",
    "f_1 = feature_test[f]"
   ]
  },
  {
   "cell_type": "code",
   "execution_count": 116,
   "metadata": {},
   "outputs": [],
   "source": [
    "f_2 = output_array_test[f]"
   ]
  },
  {
   "cell_type": "code",
   "execution_count": 91,
   "metadata": {},
   "outputs": [],
   "source": [
    "x = distance(f_1,feature_train,output_array_train)"
   ]
  },
  {
   "cell_type": "code",
   "execution_count": 95,
   "metadata": {},
   "outputs": [
    {
     "data": {
      "text/plain": [
       "index       9.300000e+01\n",
       "distance    1.240239e-01\n",
       "value       1.950000e+06\n",
       "Name: 93, dtype: float64"
      ]
     },
     "execution_count": 95,
     "metadata": {},
     "output_type": "execute_result"
    }
   ],
   "source": [
    "x.iloc[x['distance'].idxmin()]"
   ]
  },
  {
   "cell_type": "code",
   "execution_count": 96,
   "metadata": {},
   "outputs": [],
   "source": [
    "# Then, we may see that this point has the smallest distance, and its price might be\n",
    "# 1.950000e+06."
   ]
  },
  {
   "cell_type": "markdown",
   "metadata": {},
   "source": [
    "# Choose the K value"
   ]
  },
  {
   "cell_type": "markdown",
   "metadata": {},
   "source": [
    "In my opinion, k-value means how many smallest value that may be helpful to see their\n",
    "features and make a better decision on which 'Label' this number might be.\n",
    "\n",
    "Before doing that, we need to sort the dataframe I have created in the previous function based on the \"Distance\" column.\n",
    "\n",
    "And also, with the help of dataframe, we can see the first k values using dataframe."
   ]
  },
  {
   "cell_type": "code",
   "execution_count": 108,
   "metadata": {},
   "outputs": [],
   "source": [
    "def distance_sort(point,matrix_feature,value_matrix,k):\n",
    "    ind = []\n",
    "    dist = []\n",
    "    value = []\n",
    "    dataf_1 = pd.DataFrame()\n",
    "    diff_square_1 = (point-matrix_feature) * (point-matrix_feature)\n",
    "    for i in range(len(matrix_feature)):\n",
    "        sum_diff_square_1 = diff_square_1[i].sum()\n",
    "        distance_1 = sqrt(sum_diff_square_1)\n",
    "        value.append(value_matrix[i])\n",
    "        dist.append(distance_1)\n",
    "        ind.append(i)\n",
    "    dataf_1['index'] = ind\n",
    "    dataf_1['distance'] = dist\n",
    "    dataf_1['value'] = value\n",
    "    dataf_2 = dataf_1.sort_values(by='distance',ascending=True)\n",
    "    pre = dataf_2.head(k)\n",
    "    return pre"
   ]
  },
  {
   "cell_type": "code",
   "execution_count": 110,
   "metadata": {},
   "outputs": [
    {
     "data": {
      "text/html": [
       "<div>\n",
       "<style scoped>\n",
       "    .dataframe tbody tr th:only-of-type {\n",
       "        vertical-align: middle;\n",
       "    }\n",
       "\n",
       "    .dataframe tbody tr th {\n",
       "        vertical-align: top;\n",
       "    }\n",
       "\n",
       "    .dataframe thead th {\n",
       "        text-align: right;\n",
       "    }\n",
       "</style>\n",
       "<table border=\"1\" class=\"dataframe\">\n",
       "  <thead>\n",
       "    <tr style=\"text-align: right;\">\n",
       "      <th></th>\n",
       "      <th>index</th>\n",
       "      <th>distance</th>\n",
       "      <th>value</th>\n",
       "    </tr>\n",
       "  </thead>\n",
       "  <tbody>\n",
       "    <tr>\n",
       "      <th>93</th>\n",
       "      <td>93</td>\n",
       "      <td>0.124024</td>\n",
       "      <td>1950000.0</td>\n",
       "    </tr>\n",
       "    <tr>\n",
       "      <th>453</th>\n",
       "      <td>453</td>\n",
       "      <td>0.126418</td>\n",
       "      <td>2000000.0</td>\n",
       "    </tr>\n",
       "    <tr>\n",
       "      <th>348</th>\n",
       "      <td>348</td>\n",
       "      <td>0.129389</td>\n",
       "      <td>480000.0</td>\n",
       "    </tr>\n",
       "    <tr>\n",
       "      <th>728</th>\n",
       "      <td>728</td>\n",
       "      <td>0.131364</td>\n",
       "      <td>2150000.0</td>\n",
       "    </tr>\n",
       "    <tr>\n",
       "      <th>339</th>\n",
       "      <td>339</td>\n",
       "      <td>0.131479</td>\n",
       "      <td>1017500.0</td>\n",
       "    </tr>\n",
       "    <tr>\n",
       "      <th>589</th>\n",
       "      <td>589</td>\n",
       "      <td>0.133527</td>\n",
       "      <td>1590000.0</td>\n",
       "    </tr>\n",
       "  </tbody>\n",
       "</table>\n",
       "</div>"
      ],
      "text/plain": [
       "     index  distance      value\n",
       "93      93  0.124024  1950000.0\n",
       "453    453  0.126418  2000000.0\n",
       "348    348  0.129389   480000.0\n",
       "728    728  0.131364  2150000.0\n",
       "339    339  0.131479  1017500.0\n",
       "589    589  0.133527  1590000.0"
      ]
     },
     "execution_count": 110,
     "metadata": {},
     "output_type": "execute_result"
    }
   ],
   "source": [
    "y = distance_sort(f_1,feature_train,output_array_train,k = 6)\n",
    "y"
   ]
  },
  {
   "cell_type": "code",
   "execution_count": 113,
   "metadata": {},
   "outputs": [
    {
     "data": {
      "text/plain": [
       "480000.0"
      ]
     },
     "execution_count": 113,
     "metadata": {},
     "output_type": "execute_result"
    }
   ],
   "source": [
    "distance_sort(f_1,feature_train,output_array_train,k = 6)['value'].min()"
   ]
  },
  {
   "cell_type": "markdown",
   "metadata": {},
   "source": [
    "To choose the best value K, we need to calculate the RSS for each value k.\n",
    "\n",
    "To make the test faster, make a range of K.\n",
    "\n",
    "Set k is from 1 to 10.\n",
    "\n",
    "Besides, I think after getting the first k results, it is better to use the mean values than use the smallest value. In this way, the price will be more balanced and no to absolute."
   ]
  },
  {
   "cell_type": "markdown",
   "metadata": {},
   "source": [
    "Make the test_point's index is a random number. Then, we can get its feature and actual value."
   ]
  },
  {
   "cell_type": "code",
   "execution_count": 127,
   "metadata": {},
   "outputs": [],
   "source": [
    "e = np.random.randint(1,100,1)\n",
    "e_point = feature_test[e]\n",
    "e_actual = output_array_test[e]"
   ]
  },
  {
   "cell_type": "code",
   "execution_count": 119,
   "metadata": {},
   "outputs": [
    {
     "name": "stdout",
     "output_type": "stream",
     "text": [
      "                    SS  K\n",
      "0      [40000000000.0]  1\n",
      "1      [50625000000.0]  2\n",
      "2  [74711111111.11107]  3\n",
      "3      [11025000000.0]  4\n",
      "4      [53130250000.0]  5\n"
     ]
    }
   ],
   "source": [
    "ss = []\n",
    "ints = []\n",
    "dataf4 = pd.DataFrame()\n",
    "for k in range(1,6):\n",
    "    prediction = distance_sort(f_1,feature_train,output_array_train,k)['value'].mean()\n",
    "    square_error = (prediction - f_2)**2\n",
    "    ss.append(square_error)\n",
    "    ints.append(k)\n",
    "dataf4['SS'] = ss\n",
    "dataf4['K'] = ints\n",
    "print(dataf4)"
   ]
  },
  {
   "cell_type": "code",
   "execution_count": 136,
   "metadata": {},
   "outputs": [],
   "source": [
    "def ss_print(point,matrix_feature,value_matrix,k,actual_value):\n",
    "    ss = []\n",
    "    ints = []\n",
    "    dataf5 = pd.DataFrame()\n",
    "    for i in range(1,k+1):\n",
    "        prediction = distance_sort(point,matrix_feature,value_matrix,i)['value'].mean()\n",
    "        square_error = (prediction - actual_value)**2\n",
    "        ss.append(square_error)\n",
    "        ints.append(i)\n",
    "    dataf5['SS'] = ss\n",
    "    dataf5['K'] = ints\n",
    "    return dataf5"
   ]
  },
  {
   "cell_type": "code",
   "execution_count": 130,
   "metadata": {},
   "outputs": [],
   "source": [
    "# Using the points and value to calculate the rss."
   ]
  },
  {
   "cell_type": "code",
   "execution_count": 143,
   "metadata": {},
   "outputs": [
    {
     "data": {
      "text/html": [
       "<div>\n",
       "<style scoped>\n",
       "    .dataframe tbody tr th:only-of-type {\n",
       "        vertical-align: middle;\n",
       "    }\n",
       "\n",
       "    .dataframe tbody tr th {\n",
       "        vertical-align: top;\n",
       "    }\n",
       "\n",
       "    .dataframe thead th {\n",
       "        text-align: right;\n",
       "    }\n",
       "</style>\n",
       "<table border=\"1\" class=\"dataframe\">\n",
       "  <thead>\n",
       "    <tr style=\"text-align: right;\">\n",
       "      <th></th>\n",
       "      <th>SS</th>\n",
       "      <th>K</th>\n",
       "    </tr>\n",
       "  </thead>\n",
       "  <tbody>\n",
       "    <tr>\n",
       "      <th>0</th>\n",
       "      <td>2.116000e+11</td>\n",
       "      <td>1</td>\n",
       "    </tr>\n",
       "    <tr>\n",
       "      <th>1</th>\n",
       "      <td>5.062500e+10</td>\n",
       "      <td>2</td>\n",
       "    </tr>\n",
       "    <tr>\n",
       "      <th>2</th>\n",
       "      <td>5.601111e+10</td>\n",
       "      <td>3</td>\n",
       "    </tr>\n",
       "    <tr>\n",
       "      <th>3</th>\n",
       "      <td>3.330625e+10</td>\n",
       "      <td>4</td>\n",
       "    </tr>\n",
       "    <tr>\n",
       "      <th>4</th>\n",
       "      <td>2.722500e+10</td>\n",
       "      <td>5</td>\n",
       "    </tr>\n",
       "    <tr>\n",
       "      <th>5</th>\n",
       "      <td>2.695069e+10</td>\n",
       "      <td>6</td>\n",
       "    </tr>\n",
       "    <tr>\n",
       "      <th>6</th>\n",
       "      <td>1.562500e+10</td>\n",
       "      <td>7</td>\n",
       "    </tr>\n",
       "    <tr>\n",
       "      <th>7</th>\n",
       "      <td>1.519056e+10</td>\n",
       "      <td>8</td>\n",
       "    </tr>\n",
       "    <tr>\n",
       "      <th>8</th>\n",
       "      <td>4.093878e+10</td>\n",
       "      <td>9</td>\n",
       "    </tr>\n",
       "    <tr>\n",
       "      <th>9</th>\n",
       "      <td>3.884841e+10</td>\n",
       "      <td>10</td>\n",
       "    </tr>\n",
       "  </tbody>\n",
       "</table>\n",
       "</div>"
      ],
      "text/plain": [
       "             SS   K\n",
       "0  2.116000e+11   1\n",
       "1  5.062500e+10   2\n",
       "2  5.601111e+10   3\n",
       "3  3.330625e+10   4\n",
       "4  2.722500e+10   5\n",
       "5  2.695069e+10   6\n",
       "6  1.562500e+10   7\n",
       "7  1.519056e+10   8\n",
       "8  4.093878e+10   9\n",
       "9  3.884841e+10  10"
      ]
     },
     "execution_count": 143,
     "metadata": {},
     "output_type": "execute_result"
    }
   ],
   "source": [
    "ew = ss_print(feature_test[50],feature_train,output_array_train,10,output_array_test[50])\n",
    "ew"
   ]
  },
  {
   "cell_type": "code",
   "execution_count": 144,
   "metadata": {},
   "outputs": [
    {
     "data": {
      "text/plain": [
       "SS    1.519056e+10\n",
       "K     8.000000e+00\n",
       "Name: 7, dtype: float64"
      ]
     },
     "execution_count": 144,
     "metadata": {},
     "output_type": "execute_result"
    }
   ],
   "source": [
    "ew.iloc[ew['SS'].idxmin()]"
   ]
  },
  {
   "cell_type": "code",
   "execution_count": 145,
   "metadata": {},
   "outputs": [],
   "source": [
    "# We can see, if K = 8, the SS is the lowest."
   ]
  },
  {
   "cell_type": "code",
   "execution_count": null,
   "metadata": {},
   "outputs": [],
   "source": []
  }
 ],
 "metadata": {
  "kernelspec": {
   "display_name": "Python 3",
   "language": "python",
   "name": "python3"
  },
  "language_info": {
   "codemirror_mode": {
    "name": "ipython",
    "version": 3
   },
   "file_extension": ".py",
   "mimetype": "text/x-python",
   "name": "python",
   "nbconvert_exporter": "python",
   "pygments_lexer": "ipython3",
   "version": "3.7.5"
  }
 },
 "nbformat": 4,
 "nbformat_minor": 2
}
