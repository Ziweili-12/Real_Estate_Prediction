{
 "cells": [
  {
   "cell_type": "markdown",
   "metadata": {},
   "source": [
    "# Residential Real Estate Project 1: Simple Linear Regression"
   ]
  },
  {
   "cell_type": "markdown",
   "metadata": {},
   "source": [
    "In this notebook we will use data on house sales we downloaded from project 0 to predict house prices using simple (one input) linear regression. You will:\n",
    "* Use python functions to compute important summary statistics\n",
    "* Write a function to compute the Simple Linear Regression weights using the closed form solution\n",
    "* Write a function to make predictions of the output given the input feature\n",
    "* Turn the regression around to predict the input given the output\n",
    "* Compare two different models for predicting house prices\n",
    "\n",
    "In this notebook you will be provided with some already complete code as well as some code that you should complete yourself to finish Project 1. The code we provide to complte is optional and is there to assist you with solving the problems but feel free to ignore the helper code and write your own."
   ]
  },
  {
   "cell_type": "code",
   "execution_count": 1,
   "metadata": {},
   "outputs": [],
   "source": [
    "import numpy as np\n",
    "import pandas as pd"
   ]
  },
  {
   "cell_type": "code",
   "execution_count": 2,
   "metadata": {},
   "outputs": [],
   "source": [
    "import matplotlib.pyplot as plt\n",
    "import seaborn as sns\n",
    "%matplotlib inline"
   ]
  },
  {
   "cell_type": "markdown",
   "metadata": {},
   "source": [
    "# Load house sales data"
   ]
  },
  {
   "cell_type": "markdown",
   "metadata": {},
   "source": [
    "Dataset is from house sales in Santa Clara County, Palo Alto. "
   ]
  },
  {
   "cell_type": "code",
   "execution_count": 3,
   "metadata": {},
   "outputs": [],
   "source": [
    "df = pd.read_csv('merged.csv')"
   ]
  },
  {
   "cell_type": "code",
   "execution_count": 8,
   "metadata": {},
   "outputs": [
    {
     "data": {
      "text/html": [
       "<div>\n",
       "<style scoped>\n",
       "    .dataframe tbody tr th:only-of-type {\n",
       "        vertical-align: middle;\n",
       "    }\n",
       "\n",
       "    .dataframe tbody tr th {\n",
       "        vertical-align: top;\n",
       "    }\n",
       "\n",
       "    .dataframe thead th {\n",
       "        text-align: right;\n",
       "    }\n",
       "</style>\n",
       "<table border=\"1\" class=\"dataframe\">\n",
       "  <thead>\n",
       "    <tr style=\"text-align: right;\">\n",
       "      <th></th>\n",
       "      <th>SALE TYPE</th>\n",
       "      <th>SOLD DATE</th>\n",
       "      <th>PROPERTY TYPE</th>\n",
       "      <th>ADDRESS</th>\n",
       "      <th>CITY</th>\n",
       "      <th>STATE OR PROVINCE</th>\n",
       "      <th>ZIP OR POSTAL CODE</th>\n",
       "      <th>PRICE</th>\n",
       "      <th>BEDS</th>\n",
       "      <th>BATHS</th>\n",
       "      <th>...</th>\n",
       "      <th>STATUS</th>\n",
       "      <th>NEXT OPEN HOUSE START TIME</th>\n",
       "      <th>NEXT OPEN HOUSE END TIME</th>\n",
       "      <th>URL (SEE http://www.redfin.com/buy-a-home/comparative-market-analysis FOR INFO ON PRICING)</th>\n",
       "      <th>SOURCE</th>\n",
       "      <th>MLS#</th>\n",
       "      <th>FAVORITE</th>\n",
       "      <th>INTERESTED</th>\n",
       "      <th>LATITUDE</th>\n",
       "      <th>LONGITUDE</th>\n",
       "    </tr>\n",
       "  </thead>\n",
       "  <tbody>\n",
       "    <tr>\n",
       "      <th>0</th>\n",
       "      <td>PAST SALE</td>\n",
       "      <td>March-13-2015</td>\n",
       "      <td>Single Family Residential</td>\n",
       "      <td>1157 S Stelling Rd</td>\n",
       "      <td>CUPERTINO</td>\n",
       "      <td>CA</td>\n",
       "      <td>95014.0</td>\n",
       "      <td>1500000.0</td>\n",
       "      <td>3.0</td>\n",
       "      <td>2.0</td>\n",
       "      <td>...</td>\n",
       "      <td>Sold</td>\n",
       "      <td>NaN</td>\n",
       "      <td>NaN</td>\n",
       "      <td>http://www.redfin.com/CA/Cupertino/1157-S-Stel...</td>\n",
       "      <td>MLSListings</td>\n",
       "      <td>ML81448134</td>\n",
       "      <td>N</td>\n",
       "      <td>Y</td>\n",
       "      <td>37.303816</td>\n",
       "      <td>-122.041727</td>\n",
       "    </tr>\n",
       "    <tr>\n",
       "      <th>1</th>\n",
       "      <td>PAST SALE</td>\n",
       "      <td>April-17-2018</td>\n",
       "      <td>Single Family Residential</td>\n",
       "      <td>10340 Las Ondas Way</td>\n",
       "      <td>CUPERTINO</td>\n",
       "      <td>CA</td>\n",
       "      <td>95014.0</td>\n",
       "      <td>2798000.0</td>\n",
       "      <td>4.0</td>\n",
       "      <td>2.5</td>\n",
       "      <td>...</td>\n",
       "      <td>Sold</td>\n",
       "      <td>NaN</td>\n",
       "      <td>NaN</td>\n",
       "      <td>http://www.redfin.com/CA/Cupertino/10340-Las-O...</td>\n",
       "      <td>MLSListings</td>\n",
       "      <td>ML81695379</td>\n",
       "      <td>N</td>\n",
       "      <td>Y</td>\n",
       "      <td>37.317957</td>\n",
       "      <td>-122.024231</td>\n",
       "    </tr>\n",
       "    <tr>\n",
       "      <th>2</th>\n",
       "      <td>PAST SALE</td>\n",
       "      <td>February-4-2019</td>\n",
       "      <td>Single Family Residential</td>\n",
       "      <td>1035 W Homestead Rd</td>\n",
       "      <td>SUNNYVALE</td>\n",
       "      <td>CA</td>\n",
       "      <td>94087.0</td>\n",
       "      <td>2200000.0</td>\n",
       "      <td>4.0</td>\n",
       "      <td>3.0</td>\n",
       "      <td>...</td>\n",
       "      <td>Sold</td>\n",
       "      <td>NaN</td>\n",
       "      <td>NaN</td>\n",
       "      <td>http://www.redfin.com/CA/Sunnyvale/1035-W-Home...</td>\n",
       "      <td>MLSListings</td>\n",
       "      <td>ML81733182</td>\n",
       "      <td>N</td>\n",
       "      <td>Y</td>\n",
       "      <td>37.337792</td>\n",
       "      <td>-122.056622</td>\n",
       "    </tr>\n",
       "    <tr>\n",
       "      <th>3</th>\n",
       "      <td>PAST SALE</td>\n",
       "      <td>July-9-2018</td>\n",
       "      <td>Townhouse</td>\n",
       "      <td>11030 Firethorne Dr</td>\n",
       "      <td>CUPERTINO</td>\n",
       "      <td>CA</td>\n",
       "      <td>95014.0</td>\n",
       "      <td>1307000.0</td>\n",
       "      <td>2.0</td>\n",
       "      <td>2.5</td>\n",
       "      <td>...</td>\n",
       "      <td>Sold</td>\n",
       "      <td>NaN</td>\n",
       "      <td>NaN</td>\n",
       "      <td>http://www.redfin.com/CA/Cupertino/11030-Firet...</td>\n",
       "      <td>MLSListings</td>\n",
       "      <td>ML81708624</td>\n",
       "      <td>N</td>\n",
       "      <td>Y</td>\n",
       "      <td>37.338270</td>\n",
       "      <td>-122.032713</td>\n",
       "    </tr>\n",
       "    <tr>\n",
       "      <th>4</th>\n",
       "      <td>PAST SALE</td>\n",
       "      <td>July-12-2019</td>\n",
       "      <td>Single Family Residential</td>\n",
       "      <td>10590 S Tantau Ave</td>\n",
       "      <td>CUPERTINO</td>\n",
       "      <td>CA</td>\n",
       "      <td>95014.0</td>\n",
       "      <td>2090000.0</td>\n",
       "      <td>3.0</td>\n",
       "      <td>3.0</td>\n",
       "      <td>...</td>\n",
       "      <td>Sold</td>\n",
       "      <td>NaN</td>\n",
       "      <td>NaN</td>\n",
       "      <td>http://www.redfin.com/CA/Cupertino/10590-S-Tan...</td>\n",
       "      <td>MLSListings</td>\n",
       "      <td>ML81753390</td>\n",
       "      <td>N</td>\n",
       "      <td>Y</td>\n",
       "      <td>37.314344</td>\n",
       "      <td>-122.007310</td>\n",
       "    </tr>\n",
       "  </tbody>\n",
       "</table>\n",
       "<p>5 rows × 27 columns</p>\n",
       "</div>"
      ],
      "text/plain": [
       "   SALE TYPE        SOLD DATE              PROPERTY TYPE              ADDRESS  \\\n",
       "0  PAST SALE    March-13-2015  Single Family Residential   1157 S Stelling Rd   \n",
       "1  PAST SALE    April-17-2018  Single Family Residential  10340 Las Ondas Way   \n",
       "2  PAST SALE  February-4-2019  Single Family Residential  1035 W Homestead Rd   \n",
       "3  PAST SALE      July-9-2018                  Townhouse  11030 Firethorne Dr   \n",
       "4  PAST SALE     July-12-2019  Single Family Residential   10590 S Tantau Ave   \n",
       "\n",
       "        CITY STATE OR PROVINCE  ZIP OR POSTAL CODE      PRICE  BEDS  BATHS  \\\n",
       "0  CUPERTINO                CA             95014.0  1500000.0   3.0    2.0   \n",
       "1  CUPERTINO                CA             95014.0  2798000.0   4.0    2.5   \n",
       "2  SUNNYVALE                CA             94087.0  2200000.0   4.0    3.0   \n",
       "3  CUPERTINO                CA             95014.0  1307000.0   2.0    2.5   \n",
       "4  CUPERTINO                CA             95014.0  2090000.0   3.0    3.0   \n",
       "\n",
       "   ... STATUS  NEXT OPEN HOUSE START TIME  NEXT OPEN HOUSE END TIME  \\\n",
       "0  ...   Sold                         NaN                       NaN   \n",
       "1  ...   Sold                         NaN                       NaN   \n",
       "2  ...   Sold                         NaN                       NaN   \n",
       "3  ...   Sold                         NaN                       NaN   \n",
       "4  ...   Sold                         NaN                       NaN   \n",
       "\n",
       "   URL (SEE http://www.redfin.com/buy-a-home/comparative-market-analysis FOR INFO ON PRICING)  \\\n",
       "0  http://www.redfin.com/CA/Cupertino/1157-S-Stel...                                            \n",
       "1  http://www.redfin.com/CA/Cupertino/10340-Las-O...                                            \n",
       "2  http://www.redfin.com/CA/Sunnyvale/1035-W-Home...                                            \n",
       "3  http://www.redfin.com/CA/Cupertino/11030-Firet...                                            \n",
       "4  http://www.redfin.com/CA/Cupertino/10590-S-Tan...                                            \n",
       "\n",
       "        SOURCE        MLS#  FAVORITE INTERESTED   LATITUDE   LONGITUDE  \n",
       "0  MLSListings  ML81448134         N          Y  37.303816 -122.041727  \n",
       "1  MLSListings  ML81695379         N          Y  37.317957 -122.024231  \n",
       "2  MLSListings  ML81733182         N          Y  37.337792 -122.056622  \n",
       "3  MLSListings  ML81708624         N          Y  37.338270 -122.032713  \n",
       "4  MLSListings  ML81753390         N          Y  37.314344 -122.007310  \n",
       "\n",
       "[5 rows x 27 columns]"
      ]
     },
     "execution_count": 8,
     "metadata": {},
     "output_type": "execute_result"
    }
   ],
   "source": [
    "df.head()"
   ]
  },
  {
   "cell_type": "markdown",
   "metadata": {},
   "source": [
    "check how many houses' sales data you have in the dataset. "
   ]
  },
  {
   "cell_type": "code",
   "execution_count": 30,
   "metadata": {
    "scrolled": true
   },
   "outputs": [
    {
     "data": {
      "text/plain": [
       "2450"
      ]
     },
     "execution_count": 30,
     "metadata": {},
     "output_type": "execute_result"
    }
   ],
   "source": [
    "len(df.index)"
   ]
  },
  {
   "cell_type": "code",
   "execution_count": 31,
   "metadata": {},
   "outputs": [],
   "source": [
    "# We have 2450 data in this dataset, to count the unique house's number, using the ADDRESS column."
   ]
  },
  {
   "cell_type": "code",
   "execution_count": 32,
   "metadata": {},
   "outputs": [
    {
     "data": {
      "text/plain": [
       "2425"
      ]
     },
     "execution_count": 32,
     "metadata": {},
     "output_type": "execute_result"
    }
   ],
   "source": [
    "df['ADDRESS'].nunique()"
   ]
  },
  {
   "cell_type": "markdown",
   "metadata": {},
   "source": [
    "check what columns are there in this data set."
   ]
  },
  {
   "cell_type": "code",
   "execution_count": 35,
   "metadata": {},
   "outputs": [
    {
     "data": {
      "text/plain": [
       "Index(['SALE TYPE', 'SOLD DATE', 'PROPERTY TYPE', 'ADDRESS', 'CITY',\n",
       "       'STATE OR PROVINCE', 'ZIP OR POSTAL CODE', 'PRICE', 'BEDS', 'BATHS',\n",
       "       'LOCATION', 'SQUARE FEET', 'LOT SIZE', 'YEAR BUILT', 'DAYS ON MARKET',\n",
       "       '$/SQUARE FEET', 'HOA/MONTH', 'STATUS', 'NEXT OPEN HOUSE START TIME',\n",
       "       'NEXT OPEN HOUSE END TIME',\n",
       "       'URL (SEE http://www.redfin.com/buy-a-home/comparative-market-analysis FOR INFO ON PRICING)',\n",
       "       'SOURCE', 'MLS#', 'FAVORITE', 'INTERESTED', 'LATITUDE', 'LONGITUDE'],\n",
       "      dtype='object')"
      ]
     },
     "execution_count": 35,
     "metadata": {},
     "output_type": "execute_result"
    }
   ],
   "source": [
    "df.columns"
   ]
  },
  {
   "cell_type": "markdown",
   "metadata": {},
   "source": [
    "# Split data into training and testing"
   ]
  },
  {
   "cell_type": "markdown",
   "metadata": {},
   "source": [
    "There are many ways to split data into training/validation/test sets. One way is to use random split and another common way is to use train_test_split in sklearn. To start with, you can do a 80/20 split. "
   ]
  },
  {
   "cell_type": "code",
   "execution_count": 37,
   "metadata": {},
   "outputs": [],
   "source": [
    "y = df.PRICE"
   ]
  },
  {
   "cell_type": "code",
   "execution_count": 40,
   "metadata": {},
   "outputs": [],
   "source": [
    "X = df.drop('PRICE',axis=1)"
   ]
  },
  {
   "cell_type": "code",
   "execution_count": 96,
   "metadata": {
    "scrolled": true
   },
   "outputs": [],
   "source": [
    "from sklearn.model_selection import train_test_split\n",
    "X_train,X_test,y_train,y_test = train_test_split(X,y,test_size = 0.2)"
   ]
  },
  {
   "cell_type": "markdown",
   "metadata": {},
   "source": [
    "Check how many hosues are in the training dataset and how many houses are in the test dataset."
   ]
  },
  {
   "cell_type": "code",
   "execution_count": 198,
   "metadata": {},
   "outputs": [
    {
     "name": "stdout",
     "output_type": "stream",
     "text": [
      "There are 1960 houses in training dataset\n",
      "There are 490 houses in test dataset\n"
     ]
    }
   ],
   "source": [
    "print('There are %d houses in training dataset'%len(X_train))\n",
    "print('There are %d houses in test dataset'%len(y_test))"
   ]
  },
  {
   "cell_type": "markdown",
   "metadata": {},
   "source": [
    "# Useful python summary functions"
   ]
  },
  {
   "cell_type": "markdown",
   "metadata": {},
   "source": [
    "In order to make use of the closed form solution as well as take advantage of python's built in functions we will review some important ones. In particular:\n",
    "* computing the sum of one column in dataframe.\n",
    "* computing the arithmetic average (mean) of one column in dataframe.\n",
    "* multiplying column by constants\n",
    "* multiplying column by other column"
   ]
  },
  {
   "cell_type": "code",
   "execution_count": 61,
   "metadata": {},
   "outputs": [
    {
     "name": "stdout",
     "output_type": "stream",
     "text": [
      "The average price via method 1: 1044735.0284334763\n",
      "The average price via method 1: 1044735.0284334763\n"
     ]
    }
   ],
   "source": [
    "# Let's compute the mean of the House Prices in Palo Alto in 2 different ways.\n",
    "# extract the price column of the sales dataframe\n",
    "# first method to calcualte the average price: recall that the arithmetic average (the mean) is the sum of the prices divided by the total number of houses:\n",
    "# notice there are houses with price nan. you need to figure out a way to exclude those houses.\n",
    "# your code\n",
    "price = df['PRICE']\n",
    "price = price.dropna()\n",
    "pravg1 = price.sum()/len(price.index)\n",
    "print('The average price via method 1:',pravg1)\n",
    "\n",
    "\n",
    "# second method to calcuate the average price, the .mean() function\n",
    "pravg2 = price.mean()\n",
    "# print results of both methods, they should be exactly the same\n",
    "print('The average price via method 1:',pravg2)"
   ]
  },
  {
   "cell_type": "markdown",
   "metadata": {},
   "source": [
    "As you see, we get the same answer both ways."
   ]
  },
  {
   "cell_type": "code",
   "execution_count": 72,
   "metadata": {},
   "outputs": [
    {
     "data": {
      "text/plain": [
       "9709856654632820.0"
      ]
     },
     "execution_count": 72,
     "metadata": {},
     "output_type": "execute_result"
    }
   ],
   "source": [
    "price_squared =df['PRICE'] * df['PRICE']"
   ]
  },
  {
   "cell_type": "code",
   "execution_count": 73,
   "metadata": {
    "scrolled": true
   },
   "outputs": [
    {
     "name": "stdout",
     "output_type": "stream",
     "text": [
      "The sum of price squared is: 9709856654632820.0\n"
     ]
    }
   ],
   "source": [
    "# if we want to multiply every price by 0.5 and output it to variable half_prices\n",
    "half_prices = 0.5 * price\n",
    "# Let's compute the sum of squares of price. First multiply two columns of the same length elementwise with *\n",
    "price_squared =df['PRICE'] * df['PRICE']\n",
    "# price_squared is a variable of the squares and we want to add them up and save as sum_prices_squared.\n",
    "sum_prices_squared = price_squared.sum()\n",
    "# print the result\n",
    "print(\"The sum of price squared is:\",sum_prices_squared)"
   ]
  },
  {
   "cell_type": "markdown",
   "metadata": {},
   "source": [
    "Aside: The python notation x.xxe+yy means x.xx \\* 10^(yy). e.g 100 = 10^2 = 1*10^2 = 1e2 "
   ]
  },
  {
   "cell_type": "markdown",
   "metadata": {},
   "source": [
    "# Build a generic simple linear regression function"
   ]
  },
  {
   "cell_type": "markdown",
   "metadata": {},
   "source": [
    "Armed with these python functions we can use the closed form solution to compute the slope and intercept for a simple linear regression on observations stored as SArrays: input_feature, output.\n",
    "Complete the following function (or write your own) to compute the simple linear regression slope and intercept:"
   ]
  },
  {
   "cell_type": "code",
   "execution_count": 178,
   "metadata": {},
   "outputs": [],
   "source": [
    "def simple_linear_regression(input_feature, output):\n",
    "    # compute the sum of input_feature and output\n",
    "    sum_input_feature = input_feature.sum()\n",
    "    sum_output = output.sum()\n",
    "    \n",
    "    # compute the product of the output and the input_feature and its sum\n",
    "    product = output * input_feature\n",
    "    sum_product = product.sum()\n",
    "    \n",
    "    # compute the squared value of the input_feature and its sum\n",
    "    squared_input_feature = input_feature * input_feature\n",
    "    sum_squared_input_feature = squared_input_feature.sum()\n",
    "    \n",
    "    # derive the formula for the slope\n",
    "    slope = sum_product/sum_squared_input_feature\n",
    "    \n",
    "    # derive the formula for the intercept\n",
    "    intercept = sum_output - slope * sum_input_feature\n",
    "    \n",
    "    return (intercept, slope)"
   ]
  },
  {
   "cell_type": "code",
   "execution_count": null,
   "metadata": {},
   "outputs": [],
   "source": [
    "## The above function does not work well. Therefore, I wrote my own function as follows:"
   ]
  },
  {
   "cell_type": "code",
   "execution_count": 14,
   "metadata": {},
   "outputs": [],
   "source": [
    "def simple_linear_regression(input_feature, output):\n",
    "    # Calculate the average of the input_feature and output\n",
    "    mean_input_feature = input_feature.mean()\n",
    "    mean_output = output.mean()\n",
    "    \n",
    "    # Calcuate the difference between the xi and intput_feature's average, between yi and output's average.\n",
    "    # Calculate its product and sum\n",
    "    xi_xmean = input_feature-mean_input_feature\n",
    "    yi_ymean = output - mean_output\n",
    "    product = xi_xmean * yi_ymean\n",
    "    sum_product = product.sum()\n",
    "    \n",
    "    # Calculate the sum of the difference between xi and intput_feature's average and its sum.\n",
    "    xi_xmean_squared = xi_xmean * xi_xmean\n",
    "    xi_xmean_squared_sum = xi_xmean_squared.sum()\n",
    "    \n",
    "    #derive the formula for the slope\n",
    "    slope = xi_xmean_squared_sum/sum_product\n",
    "    \n",
    "    #derive the formula for the intercept\n",
    "    intercept = mean_output - slope * mean_input_feature\n",
    "    \n",
    "    return (intercept, slope)"
   ]
  },
  {
   "cell_type": "markdown",
   "metadata": {},
   "source": [
    "We can test that our function works by passing it something where we know the answer. In particular we can generate a feature and then put the output exactly on a line: output = 1 + 1*input_feature then we know both our slope and intercept should be 1"
   ]
  },
  {
   "cell_type": "code",
   "execution_count": 15,
   "metadata": {
    "scrolled": true
   },
   "outputs": [
    {
     "name": "stdout",
     "output_type": "stream",
     "text": [
      "Intercept: 1.0\n",
      "Slope: 1.0\n"
     ]
    }
   ],
   "source": [
    "test_feature = np.array(range(5))\n",
    "test_output = 1 + 1*test_feature\n",
    "(test_intercept, test_slope) =  simple_linear_regression(test_feature, test_output)\n",
    "print (\"Intercept: \" + str(test_intercept))\n",
    "print (\"Slope: \" + str(test_slope))"
   ]
  },
  {
   "cell_type": "markdown",
   "metadata": {},
   "source": [
    "Now that we know it works let's build a regression model for predicting price based on square feet. Rembember that we train on train_data!"
   ]
  },
  {
   "cell_type": "code",
   "execution_count": 89,
   "metadata": {},
   "outputs": [],
   "source": [
    "y = df.PRICE\n",
    "X = df['SQUARE FEET']"
   ]
  },
  {
   "cell_type": "code",
   "execution_count": 98,
   "metadata": {},
   "outputs": [],
   "source": [
    "X_train,X_test,y_train,y_test = train_test_split(X,y,test_size = 0.2)"
   ]
  },
  {
   "cell_type": "code",
   "execution_count": 187,
   "metadata": {},
   "outputs": [],
   "source": [
    "(sqft_intercept,sqft_slope) = simple_linear_regression(X_train,y_train)"
   ]
  },
  {
   "cell_type": "code",
   "execution_count": 188,
   "metadata": {},
   "outputs": [
    {
     "name": "stdout",
     "output_type": "stream",
     "text": [
      "Intercept: 1014940.9653516368\n",
      "Slope: 0.0029433340243944705\n"
     ]
    }
   ],
   "source": [
    "print (\"Intercept: \" + str(sqft_intercept))\n",
    "print (\"Slope: \" + str(sqft_slope))"
   ]
  },
  {
   "cell_type": "markdown",
   "metadata": {},
   "source": [
    "# Predicting Values"
   ]
  },
  {
   "cell_type": "markdown",
   "metadata": {},
   "source": [
    "Now that we have the model parameters: intercept & slope we can make predictions. Using np.array it's easy to multiply an np array by a constant and add a constant value. Complete the following function to return the predicted output given the input_feature, slope and intercept:"
   ]
  },
  {
   "cell_type": "code",
   "execution_count": 110,
   "metadata": {},
   "outputs": [],
   "source": [
    "def get_regression_predictions(input_feature, intercept, slope):\n",
    "    # calculate the predicted values:\n",
    "    predicted_values = slope * input_feature + intercept\n",
    "    return predicted_values"
   ]
  },
  {
   "cell_type": "markdown",
   "metadata": {},
   "source": [
    "Now that we can calculate a prediction given the slope and intercept let's make a prediction. Use (or alter) the following to find out the estimated price for a house with 2000 squarefeet according to the squarefeet model we estiamted above"
   ]
  },
  {
   "cell_type": "code",
   "execution_count": 114,
   "metadata": {
    "scrolled": true
   },
   "outputs": [
    {
     "name": "stdout",
     "output_type": "stream",
     "text": [
      "The estimated price for a house with 2000 squarefeet is $1014946.85\n"
     ]
    }
   ],
   "source": [
    "my_house_sqft = 2000\n",
    "estimated_price = get_regression_predictions(2000,1014940.9653516368,0.0029433340243944705)\n",
    "print (\"The estimated price for a house with %d squarefeet is $%.2f\" % (my_house_sqft, estimated_price))"
   ]
  },
  {
   "cell_type": "markdown",
   "metadata": {},
   "source": [
    "# Residual Sum of Squares"
   ]
  },
  {
   "cell_type": "markdown",
   "metadata": {},
   "source": [
    "Now that we have a model and can make predictions let's evaluate our model using Residual Sum of Squares (RSS). Recall that RSS is the sum of the squares of the residuals and the residuals is just a fancy word for the difference between the predicted output and the true output.\n",
    "\n",
    "Complete the following (or write your own) function to compute the RSS of a simple linear regression model given the input_feature, output, intercept and slope:"
   ]
  },
  {
   "cell_type": "code",
   "execution_count": 67,
   "metadata": {},
   "outputs": [],
   "source": [
    "def get_residual_sum_of_squares(input_feature, output, intercept, slope):\n",
    "    # First get the predictions\n",
    "    prediction = input_feature * slope + intercept\n",
    "    # then compute the residuals (since we are squaring it doesn't matter which order you subtract)\n",
    "    residuals = prediction - output\n",
    "    # square the residuals and add them up\n",
    "    residuals_sum = residuals.sum()\n",
    "    RSS = residuals_sum * residuals_sum\n",
    "    return(RSS)"
   ]
  },
  {
   "cell_type": "markdown",
   "metadata": {},
   "source": [
    "Let's test our get_residual_sum_of_squares function by applying it to the test model where the data lie exactly on a line. Since they lie exactly on a line the residual sum of squares should be zero!"
   ]
  },
  {
   "cell_type": "code",
   "execution_count": 171,
   "metadata": {},
   "outputs": [],
   "source": [
    "test_feature = np.array(range(5))\n",
    "test_output = 1 + 1*test_feature\n",
    "(sqft_intercept,sqft_slope) = simple_linear_regression(X_train,y_train)"
   ]
  },
  {
   "cell_type": "code",
   "execution_count": 172,
   "metadata": {},
   "outputs": [
    {
     "data": {
      "text/plain": [
       "0"
      ]
     },
     "execution_count": 172,
     "metadata": {},
     "output_type": "execute_result"
    }
   ],
   "source": [
    "get_residual_sum_of_squares(test_feature, test_output, test_intercept, test_slope)"
   ]
  },
  {
   "cell_type": "markdown",
   "metadata": {},
   "source": [
    "According to this function and the slope and intercept from the squarefeet model What is the RSS for the simple linear regression using squarefeet to predict prices on TRAINING data?"
   ]
  },
  {
   "cell_type": "code",
   "execution_count": 175,
   "metadata": {
    "scrolled": false
   },
   "outputs": [
    {
     "name": "stdout",
     "output_type": "stream",
     "text": [
      "The RSS of predicting Prices based on Square Feet is : 353099094292777.2\n"
     ]
    }
   ],
   "source": [
    "rss_prices_on_sqft = get_residual_sum_of_squares(X_train, y_train,sqft_intercept,sqft_slope)\n",
    "print ('The RSS of predicting Prices based on Square Feet is : ' + str(rss_prices_on_sqft))"
   ]
  },
  {
   "cell_type": "markdown",
   "metadata": {},
   "source": [
    "# Predict the squarefeet given price"
   ]
  },
  {
   "cell_type": "markdown",
   "metadata": {},
   "source": [
    "What if we want to predict the squarefoot given the price? Since we have an equation y = a + b*x we can solve the function for x. So that if we have the intercept (a) and the slope (b) and the price (y) we can solve for the estimated squarefeet (x).\n",
    "\n",
    "Complete the following function to compute the inverse regression estimate, i.e. predict the input_feature given the output."
   ]
  },
  {
   "cell_type": "code",
   "execution_count": 176,
   "metadata": {},
   "outputs": [],
   "source": [
    "def inverse_regression_predictions(output, intercept, slope):\n",
    "    # solve output = intercept + slope*input_feature for input_feature. Use this equation to compute the inverse predictions:\n",
    "    estimated_feature = (output-intercept)/slope\n",
    "    return estimated_feature"
   ]
  },
  {
   "cell_type": "markdown",
   "metadata": {},
   "source": [
    "Now that we have a function to compute the squarefeet given the price from our simple regression model let's see how big we might expect a house that costs $800,000 to be."
   ]
  },
  {
   "cell_type": "code",
   "execution_count": 184,
   "metadata": {},
   "outputs": [
    {
     "name": "stdout",
     "output_type": "stream",
     "text": [
      "The estimated squarefeet for a house worth $800000.00 is -297266\n"
     ]
    }
   ],
   "source": [
    "my_house_price = 800000\n",
    "estimated_squarefeet = inverse_regression_predictions(800000,sqft_intercept,sqft_slope)\n",
    "print (\"The estimated squarefeet for a house worth $%.2f is %d\" % (my_house_price, estimated_squarefeet))"
   ]
  },
  {
   "cell_type": "code",
   "execution_count": null,
   "metadata": {},
   "outputs": [],
   "source": [
    "## The intercept is above 800000, therefore, the minimum price for a house is 1014940.9653516368, you cannot buy\n",
    "## a house for 800000."
   ]
  },
  {
   "cell_type": "markdown",
   "metadata": {},
   "source": [
    "# New Model: estimate prices from bedrooms"
   ]
  },
  {
   "cell_type": "markdown",
   "metadata": {},
   "source": [
    "We have made one model for predicting house prices using squarefeet, but there are many other features in the sales dataframe. Use your simple linear regression function to estimate the regression parameters from predicting Prices based on number of bedrooms. Use the training data!"
   ]
  },
  {
   "cell_type": "code",
   "execution_count": 189,
   "metadata": {},
   "outputs": [],
   "source": [
    "y = df.PRICE\n",
    "X = df.BEDS"
   ]
  },
  {
   "cell_type": "code",
   "execution_count": 190,
   "metadata": {},
   "outputs": [],
   "source": [
    "X_train,X_test,y_train,y_test = train_test_split(X,y,test_size = 0.2)"
   ]
  },
  {
   "cell_type": "code",
   "execution_count": 192,
   "metadata": {},
   "outputs": [
    {
     "name": "stdout",
     "output_type": "stream",
     "text": [
      "Intercept: 1060375.5764930001\n",
      "Slope: 5.287700625540953e-06\n"
     ]
    }
   ],
   "source": [
    "# Estimate the slope and intercept for predicting 'price' based on 'bedrooms'\n",
    "(bed_intercept,bed_slope) = simple_linear_regression(X_train,y_train)\n",
    "print( \"Intercept: \" + str(bed_intercept))\n",
    "print (\"Slope: \" + str(bed_slope))"
   ]
  },
  {
   "cell_type": "markdown",
   "metadata": {},
   "source": [
    "# Test your Linear Regression Algorithm"
   ]
  },
  {
   "cell_type": "markdown",
   "metadata": {},
   "source": [
    "Now we have two models for predicting the price of a house. How do we know which one is better? Calculate the RSS on the TEST data (remember this data wasn't involved in learning the model). Compute the RSS from predicting prices using bedrooms and from predicting prices using squarefeet.\n",
    "\n",
    "Which model(square feet or bedrooms) has lowest RSS on TEST data? \n",
    "\n",
    "Think about why this maybe the case.\n",
    "\n",
    "How about other features in the dataset?"
   ]
  },
  {
   "cell_type": "code",
   "execution_count": 195,
   "metadata": {},
   "outputs": [
    {
     "data": {
      "text/plain": [
       "605713526495984.8"
      ]
     },
     "execution_count": 195,
     "metadata": {},
     "output_type": "execute_result"
    }
   ],
   "source": [
    "# Compute RSS when using bedrooms on TEST data:\n",
    "rss_prices_on_beds_test = get_residual_sum_of_squares(X_test, y_test,bed_intercept,bed_slope)\n",
    "rss_prices_on_beds_test"
   ]
  },
  {
   "cell_type": "code",
   "execution_count": 196,
   "metadata": {},
   "outputs": [],
   "source": [
    "y = df.PRICE\n",
    "X = df['SQUARE FEET']\n",
    "X_train,X_test,y_train,y_test = train_test_split(X,y,test_size = 0.2)"
   ]
  },
  {
   "cell_type": "code",
   "execution_count": 197,
   "metadata": {},
   "outputs": [
    {
     "data": {
      "text/plain": [
       "68059630999786.62"
      ]
     },
     "execution_count": 197,
     "metadata": {},
     "output_type": "execute_result"
    }
   ],
   "source": [
    "# Compute RSS when using squarefeet on TEST data:\n",
    "rss_prices_on_sqft_test = get_residual_sum_of_squares(X_test, y_test,sqft_intercept,sqft_slope)\n",
    "rss_prices_on_sqft_test"
   ]
  },
  {
   "cell_type": "code",
   "execution_count": null,
   "metadata": {},
   "outputs": [],
   "source": [
    "## The BEDROOMS has the lowest RSS compared to the squarefeet. This means the model is more accurate compared to \n",
    "## another. "
   ]
  },
  {
   "cell_type": "markdown",
   "metadata": {},
   "source": [
    "# New model I: Estimte Price from City."
   ]
  },
  {
   "cell_type": "code",
   "execution_count": 5,
   "metadata": {},
   "outputs": [
    {
     "data": {
      "text/plain": [
       "array(['CUPERTINO', 'SUNNYVALE', 'Cupertino', 'SAN JOSE', 'San Jose',\n",
       "       'Unincorporated', 'Sunnyvale', 'MOUNTAIN VIEW', 'Los Altos',\n",
       "       'Palo Alto', 'Mountain View', 'LOS ALTOS', 'Los Altos Hills',\n",
       "       'LOS ALTOS HILLS', 'PALO ALTO', 'East Palo Alto', 'STANFORD',\n",
       "       'EAST PALO ALTO', 'Menlo Park', 'REDWOOD CITY', 'Redwood City',\n",
       "       'San Carlos', 'Redwood Shores', nan, 'Half Moon Bay', 'WOODSIDE',\n",
       "       'Woodside', 'HALF MOON BAY', 'LA HONDA', 'Emerald Hills',\n",
       "       'La Honda', 'LOS GATOS', 'CAMPBELL', 'Santa Clara', 'SARATOGA',\n",
       "       'MILPITAS', 'SANTA CLARA', 'Hopkinton'], dtype=object)"
      ]
     },
     "execution_count": 5,
     "metadata": {},
     "output_type": "execute_result"
    }
   ],
   "source": [
    "df.CITY.unique()"
   ]
  },
  {
   "cell_type": "code",
   "execution_count": 6,
   "metadata": {},
   "outputs": [],
   "source": [
    "# I noticed that there are same cites but written in different forms. Therefore, I need to change them to the same \n",
    "# form using uppercase format."
   ]
  },
  {
   "cell_type": "code",
   "execution_count": 45,
   "metadata": {},
   "outputs": [],
   "source": [
    "df['CITY'] = df.CITY.str.upper()"
   ]
  },
  {
   "cell_type": "code",
   "execution_count": 46,
   "metadata": {},
   "outputs": [
    {
     "data": {
      "text/plain": [
       "array(['CUPERTINO', 'SUNNYVALE', 'SAN JOSE', 'UNINCORPORATED',\n",
       "       'MOUNTAIN VIEW', 'LOS ALTOS', 'PALO ALTO', 'LOS ALTOS HILLS',\n",
       "       'EAST PALO ALTO', 'STANFORD', 'MENLO PARK', 'REDWOOD CITY',\n",
       "       'SAN CARLOS', 'REDWOOD SHORES', nan, 'HALF MOON BAY', 'WOODSIDE',\n",
       "       'LA HONDA', 'EMERALD HILLS', 'LOS GATOS', 'CAMPBELL',\n",
       "       'SANTA CLARA', 'SARATOGA', 'MILPITAS', 'HOPKINTON'], dtype=object)"
      ]
     },
     "execution_count": 46,
     "metadata": {},
     "output_type": "execute_result"
    }
   ],
   "source": [
    "df.CITY.unique()"
   ]
  },
  {
   "cell_type": "code",
   "execution_count": 47,
   "metadata": {},
   "outputs": [],
   "source": [
    "y = df.PRICE\n",
    "X = df.CITY"
   ]
  },
  {
   "cell_type": "code",
   "execution_count": 19,
   "metadata": {},
   "outputs": [],
   "source": [
    "# Transform City into caterocial data"
   ]
  },
  {
   "cell_type": "code",
   "execution_count": null,
   "metadata": {},
   "outputs": [],
   "source": [
    "from sklearn.preprocessing import LabelEncoder"
   ]
  },
  {
   "cell_type": "code",
   "execution_count": null,
   "metadata": {},
   "outputs": [],
   "source": [
    "labelencoder_X = LabelEncoder()"
   ]
  },
  {
   "cell_type": "code",
   "execution_count": 51,
   "metadata": {},
   "outputs": [],
   "source": [
    "X = labelencoder_X.fit_transform(X.astype(str))"
   ]
  },
  {
   "cell_type": "code",
   "execution_count": 59,
   "metadata": {},
   "outputs": [
    {
     "data": {
      "text/plain": [
       "array([ 1, 21, 17, 22, 12,  7, 13,  8,  2, 20, 10, 14, 16, 15, 24,  4, 23,\n",
       "        6,  3,  9,  0, 18, 19, 11,  5])"
      ]
     },
     "execution_count": 59,
     "metadata": {},
     "output_type": "execute_result"
    }
   ],
   "source": [
    "pd.Series(X).unique()"
   ]
  },
  {
   "cell_type": "code",
   "execution_count": null,
   "metadata": {},
   "outputs": [],
   "source": [
    "# There are 24 unique cities in this dataset(including null-value). Therefore, we have 24 nummbers representing each\n",
    "# city."
   ]
  },
  {
   "cell_type": "code",
   "execution_count": 56,
   "metadata": {},
   "outputs": [],
   "source": [
    "# Split the data into training set and test set"
   ]
  },
  {
   "cell_type": "code",
   "execution_count": 57,
   "metadata": {},
   "outputs": [],
   "source": [
    "from sklearn.model_selection import train_test_split\n",
    "X_train,X_test,y_train,y_test = train_test_split(X,y,test_size = 0.2)"
   ]
  },
  {
   "cell_type": "code",
   "execution_count": 64,
   "metadata": {},
   "outputs": [],
   "source": [
    "# Perform linear regression"
   ]
  },
  {
   "cell_type": "code",
   "execution_count": 65,
   "metadata": {},
   "outputs": [],
   "source": [
    "(city_intercept,city_slope) = simple_linear_regression(X_train,y_train)"
   ]
  },
  {
   "cell_type": "code",
   "execution_count": 66,
   "metadata": {},
   "outputs": [
    {
     "name": "stdout",
     "output_type": "stream",
     "text": [
      "Intercept: 995306.7981013919\n",
      "Slope: -5.3693374041952084e-05\n"
     ]
    }
   ],
   "source": [
    "print (\"Intercept: \" + str(city_intercept))\n",
    "print (\"Slope: \" + str(city_slope))"
   ]
  },
  {
   "cell_type": "code",
   "execution_count": 68,
   "metadata": {},
   "outputs": [],
   "source": [
    "# Calculate the RSS using test set."
   ]
  },
  {
   "cell_type": "code",
   "execution_count": 70,
   "metadata": {},
   "outputs": [
    {
     "name": "stdout",
     "output_type": "stream",
     "text": [
      "The RSS of predicting Prices based on City is : 8488714964729607.0\n"
     ]
    }
   ],
   "source": [
    "rss_prices_on_city = get_residual_sum_of_squares(X_test, y_test,city_intercept,city_slope)\n",
    "print ('The RSS of predicting Prices based on City is : ' + str(rss_prices_on_city))"
   ]
  },
  {
   "cell_type": "code",
   "execution_count": null,
   "metadata": {},
   "outputs": [],
   "source": []
  },
  {
   "cell_type": "markdown",
   "metadata": {},
   "source": [
    "# New Model II: Estimate Prices from House type"
   ]
  },
  {
   "cell_type": "code",
   "execution_count": 74,
   "metadata": {},
   "outputs": [
    {
     "data": {
      "text/plain": [
       "array(['Single Family Residential', 'Townhouse', 'Condo/Co-op',\n",
       "       'Multi-Family (2-4 Unit)', 'Mobile/Manufactured Home',\n",
       "       'Multi-Family (5+ Unit)', 'Unknown', 'Vacant Land', 'Other'],\n",
       "      dtype=object)"
      ]
     },
     "execution_count": 74,
     "metadata": {},
     "output_type": "execute_result"
    }
   ],
   "source": [
    "df['PROPERTY TYPE'].unique()"
   ]
  },
  {
   "cell_type": "code",
   "execution_count": 75,
   "metadata": {},
   "outputs": [],
   "source": [
    "y = df.PRICE\n",
    "X = df['PROPERTY TYPE']"
   ]
  },
  {
   "cell_type": "code",
   "execution_count": 76,
   "metadata": {},
   "outputs": [],
   "source": [
    "# Transform the X data into caterogical data."
   ]
  },
  {
   "cell_type": "code",
   "execution_count": 77,
   "metadata": {},
   "outputs": [],
   "source": [
    "labelencoder_X = LabelEncoder()"
   ]
  },
  {
   "cell_type": "code",
   "execution_count": 78,
   "metadata": {},
   "outputs": [],
   "source": [
    "X = labelencoder_X.fit_transform(X.astype(str))"
   ]
  },
  {
   "cell_type": "code",
   "execution_count": 79,
   "metadata": {},
   "outputs": [
    {
     "data": {
      "text/plain": [
       "array([5, 6, 0, 2, 1, 3, 7, 8, 4])"
      ]
     },
     "execution_count": 79,
     "metadata": {},
     "output_type": "execute_result"
    }
   ],
   "source": [
    "pd.Series(X).unique()"
   ]
  },
  {
   "cell_type": "code",
   "execution_count": 80,
   "metadata": {},
   "outputs": [],
   "source": [
    "# There are 9 types of house in this dataset.\n",
    "# Therefore, we have 9 numbers representing each different type of house."
   ]
  },
  {
   "cell_type": "code",
   "execution_count": 81,
   "metadata": {},
   "outputs": [],
   "source": [
    "# Split the dataset into training set and test size."
   ]
  },
  {
   "cell_type": "code",
   "execution_count": 82,
   "metadata": {},
   "outputs": [],
   "source": [
    "X_train,X_test,y_train,y_test = train_test_split(X,y,test_size = 0.2)"
   ]
  },
  {
   "cell_type": "code",
   "execution_count": 83,
   "metadata": {},
   "outputs": [],
   "source": [
    "# Perform simple linear regression"
   ]
  },
  {
   "cell_type": "code",
   "execution_count": 84,
   "metadata": {},
   "outputs": [],
   "source": [
    "(house_intercept,house_slope) = simple_linear_regression(X_train,y_train)"
   ]
  },
  {
   "cell_type": "code",
   "execution_count": 85,
   "metadata": {},
   "outputs": [
    {
     "name": "stdout",
     "output_type": "stream",
     "text": [
      "Intercept: 1049167.149763268\n",
      "Slope: 2.4105048898925487e-05\n"
     ]
    }
   ],
   "source": [
    "print (\"Intercept: \" + str(house_intercept))\n",
    "print (\"Slope: \" + str(house_slope))"
   ]
  },
  {
   "cell_type": "code",
   "execution_count": 86,
   "metadata": {},
   "outputs": [],
   "source": [
    "# Calculate the SSR using test dataset."
   ]
  },
  {
   "cell_type": "code",
   "execution_count": 88,
   "metadata": {},
   "outputs": [
    {
     "name": "stdout",
     "output_type": "stream",
     "text": [
      "The RSS of predicting Prices based on Housetype is : 68251958390548.26\n"
     ]
    }
   ],
   "source": [
    "rss_prices_on_housetype = get_residual_sum_of_squares(X_test, y_test,house_intercept,house_slope)\n",
    "print ('The RSS of predicting Prices based on Housetype is : ' + str(rss_prices_on_housetype))"
   ]
  },
  {
   "cell_type": "code",
   "execution_count": null,
   "metadata": {},
   "outputs": [],
   "source": []
  },
  {
   "cell_type": "markdown",
   "metadata": {},
   "source": [
    "# Conclusion"
   ]
  },
  {
   "cell_type": "code",
   "execution_count": 89,
   "metadata": {},
   "outputs": [],
   "source": [
    "# From the above models, we have the results as follows:\n",
    "# SSR for bedrooms is 605713526495984.8.\n",
    "# SSR for squarefeet is 68059630999786.62.\n",
    "# SSR for city is 8488714964729607.0.\n",
    "# SSR for housetype is 68251958390548.26."
   ]
  },
  {
   "cell_type": "code",
   "execution_count": 90,
   "metadata": {},
   "outputs": [],
   "source": [
    "# SSR for bedrooms is still the lowest. Meaning the simple regression line could fit the data better.\n",
    "# To know how well the regression fit the data, we need to calculate the SST,SSE and also the R - squared."
   ]
  },
  {
   "cell_type": "code",
   "execution_count": null,
   "metadata": {},
   "outputs": [],
   "source": [
    "# Besides, what I have done is to consider one variable one time. In real life, we cannot consider only one variable \n",
    "# one time. We need to consider all the factors that may influence the results.\n",
    "# Therefore, we need to perform the multivariate regression."
   ]
  }
 ],
 "metadata": {
  "kernelspec": {
   "display_name": "Python 3",
   "language": "python",
   "name": "python3"
  },
  "language_info": {
   "codemirror_mode": {
    "name": "ipython",
    "version": 3
   },
   "file_extension": ".py",
   "mimetype": "text/x-python",
   "name": "python",
   "nbconvert_exporter": "python",
   "pygments_lexer": "ipython3",
   "version": "3.7.5"
  }
 },
 "nbformat": 4,
 "nbformat_minor": 2
}
