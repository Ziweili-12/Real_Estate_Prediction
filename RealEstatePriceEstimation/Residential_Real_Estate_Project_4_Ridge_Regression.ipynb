{
 "cells": [
  {
   "cell_type": "markdown",
   "metadata": {},
   "source": [
    "# Project 4: Ridge Regression"
   ]
  },
  {
   "cell_type": "markdown",
   "metadata": {},
   "source": [
    "In this project, please review L2 regularization first. We will run ridge regression multiple times with different L2 penalties to see which one produces the best fit. We will revisit polynomial regression as a means to see the effect of L2 regularization. In particular, we will:\n",
    "* Use a pre-built implementation of regression to run polynomial regression\n",
    "* Use matplotlib to visualize polynomial regressions\n",
    "* Use a pre-built implementation of regression to run polynomial regression with L2 penalty\n",
    "* Use matplotlib to visualize polynomial regressions under L2 regularization\n",
    "* Choose best L2 penalty using cross-validation.\n",
    "* Assess the final fit using test data.\n",
    "\n",
    "We will continue to use the House data from Redfin. "
   ]
  },
  {
   "cell_type": "code",
   "execution_count": 1,
   "metadata": {},
   "outputs": [],
   "source": [
    "import numpy as np\n",
    "import pandas as pd"
   ]
  },
  {
   "cell_type": "code",
   "execution_count": 2,
   "metadata": {},
   "outputs": [],
   "source": [
    "import matplotlib.pyplot as plt\n",
    "%matplotlib inline"
   ]
  },
  {
   "cell_type": "markdown",
   "metadata": {},
   "source": [
    "# Revisiting Polynomial Regression"
   ]
  },
  {
   "cell_type": "markdown",
   "metadata": {},
   "source": [
    "Copy and paste the function polynomial_df from Project 3"
   ]
  },
  {
   "cell_type": "code",
   "execution_count": 3,
   "metadata": {},
   "outputs": [],
   "source": [
    "def polynomial_df(feature, degree):\n",
    "    # assume that degree >= 1\n",
    "    # initialize the dataframe:\n",
    "    poly_df = pd.DataFrame()\n",
    "    # and set poly_df['power_1'] equal to the passed feature\n",
    "    poly_df['power_1'] = feature\n",
    "    # first check if degree > 1\n",
    "    if degree > 1:\n",
    "        # then loop over the remaining degrees:\n",
    "        # range usually starts at 0 and stops at the endpoint-1. We want it to start at 2 and stop at degree\n",
    "        for i in range(2,degree+1):\n",
    "            # first we'll give the column a name:\n",
    "            column_name = 'power_'+str(i)\n",
    "            # then assign poly_sframe[name] to the appropriate power of feature\n",
    "            poly_df[column_name] = poly_df['power_1'] ** i\n",
    "    return poly_df"
   ]
  },
  {
   "cell_type": "code",
   "execution_count": 4,
   "metadata": {},
   "outputs": [],
   "source": [
    "def coef(coefficients,intercept,input_features):\n",
    "    for x in range(len(input_features)):\n",
    "        print('The coefficient for {} is {}'.format(input_features[x],coefficients[x]))\n",
    "    print('The intercept is {}'.format(intercept))"
   ]
  },
  {
   "cell_type": "markdown",
   "metadata": {},
   "source": [
    "load the data, sort it as we did in Project 3. "
   ]
  },
  {
   "cell_type": "code",
   "execution_count": 5,
   "metadata": {},
   "outputs": [],
   "source": [
    "df = pd.read_csv('merged.csv')\n",
    "df1 = df[['SQUARE FEET','PRICE']]\n",
    "df2 = df1.dropna()\n",
    "df3 = df2.sort_values(['SQUARE FEET','PRICE'])\n",
    "df4 = df3.drop(df3['SQUARE FEET'].idxmax())"
   ]
  },
  {
   "cell_type": "markdown",
   "metadata": {},
   "source": [
    "Let us revisit the 15th-order polynomial model using the 'SQUARE FEET' input. Generate polynomial features up to degree 15 using polynomial_df() and fit a ridge regression model with these features. When fitting the model, use a very small L2 penalty of 1e-5.\n",
    "\n",
    "Note: When we have so many features and so few data points, the solution can become highly numerically unstable, which can sometimes lead to strange unpredictable results. Thus, rather than using no regularization, we will introduce a tiny amount of regularization (alpha=1e-5) to make the solution numerically stable. (Regularization can also help with numerical stability, and here we are seeing a practical example.)\n",
    "With the L2 penalty specified above, fit the model and print out the learned weights.\n",
    "\n",
    "Note: if you want to compare results with that in Project 3, you have to scale feature \"SQAURE FEET\" then you will see the results converge when you set L2 penalty to a very small value close to zero. Please help compare the results when you scale or not scale the feature vs. use normalize =True or not in the Ridge Regression function. Which one makes most senst?"
   ]
  },
  {
   "cell_type": "code",
   "execution_count": 6,
   "metadata": {},
   "outputs": [],
   "source": [
    "poly15_data = polynomial_df(df4['SQUARE FEET'], 15)\n",
    "my_features = list(poly15_data.columns.values)\n",
    "poly15_data['PRICE'] = df4['PRICE']"
   ]
  },
  {
   "cell_type": "code",
   "execution_count": 7,
   "metadata": {},
   "outputs": [],
   "source": [
    "from sklearn.model_selection import train_test_split"
   ]
  },
  {
   "cell_type": "code",
   "execution_count": 8,
   "metadata": {},
   "outputs": [],
   "source": [
    "y = poly15_data['PRICE']\n",
    "X = poly15_data.drop(columns='PRICE')"
   ]
  },
  {
   "cell_type": "code",
   "execution_count": 9,
   "metadata": {},
   "outputs": [],
   "source": [
    "alpha=1e-5"
   ]
  },
  {
   "cell_type": "code",
   "execution_count": 10,
   "metadata": {},
   "outputs": [],
   "source": [
    "# First, try run ridge regression without normalization"
   ]
  },
  {
   "cell_type": "code",
   "execution_count": 13,
   "metadata": {},
   "outputs": [],
   "source": [
    "from sklearn.linear_model import Ridge"
   ]
  },
  {
   "cell_type": "code",
   "execution_count": 14,
   "metadata": {},
   "outputs": [],
   "source": [
    "regressor = Ridge(alpha,normalize=False)"
   ]
  },
  {
   "cell_type": "code",
   "execution_count": 15,
   "metadata": {},
   "outputs": [],
   "source": [
    "model_1 = regressor.fit(X,y)"
   ]
  },
  {
   "cell_type": "code",
   "execution_count": 16,
   "metadata": {},
   "outputs": [
    {
     "name": "stdout",
     "output_type": "stream",
     "text": [
      "The coefficient for power_1 is 4033696.451795556\n",
      "The coefficient for power_2 is -7.63993967090728e-38\n",
      "The coefficient for power_3 is -3.9487219419085744e-33\n",
      "The coefficient for power_4 is -3.3150251474382005e-27\n",
      "The coefficient for power_5 is 3.1733406495065395e-22\n",
      "The coefficient for power_6 is 1.249228747637475e-22\n",
      "The coefficient for power_7 is -8.506585446873584e-17\n",
      "The coefficient for power_8 is 6.650044569547066e-20\n",
      "The coefficient for power_9 is -1.9045912169208906e-23\n",
      "The coefficient for power_10 is 2.8182908646783557e-27\n",
      "The coefficient for power_11 is -2.464391864702022e-31\n",
      "The coefficient for power_12 is 1.3005912487465223e-35\n",
      "The coefficient for power_13 is -3.7908452554752985e-40\n",
      "The coefficient for power_14 is 4.435435529044411e-45\n",
      "The coefficient for power_15 is 8.378624482670369e-51\n",
      "The intercept is -7204769047.910833\n"
     ]
    }
   ],
   "source": [
    "coef(model_1.coef_,model_1.intercept_,my_features)"
   ]
  },
  {
   "cell_type": "code",
   "execution_count": 17,
   "metadata": {},
   "outputs": [
    {
     "data": {
      "text/plain": [
       "[<matplotlib.lines.Line2D at 0x1a244a2190>]"
      ]
     },
     "execution_count": 17,
     "metadata": {},
     "output_type": "execute_result"
    },
    {
     "data": {
      "image/png": "[encoded data removed]",
      "text/plain": [
       "<Figure size 432x288 with 1 Axes>"
      ]
     },
     "metadata": {
      "needs_background": "light"
     },
     "output_type": "display_data"
    }
   ],
   "source": [
    "plt.plot(poly15_data['power_1'],poly15_data['PRICE'],'.')"
   ]
  },
  {
   "cell_type": "code",
   "execution_count": 18,
   "metadata": {},
   "outputs": [
    {
     "data": {
      "text/plain": [
       "[<matplotlib.lines.Line2D at 0x1a23eeb990>]"
      ]
     },
     "execution_count": 18,
     "metadata": {},
     "output_type": "execute_result"
    },
    {
     "data": {
      "image/png": "[encoded data removed]",
      "text/plain": [
       "<Figure size 432x288 with 1 Axes>"
      ]
     },
     "metadata": {
      "needs_background": "light"
     },
     "output_type": "display_data"
    }
   ],
   "source": [
    "plt.plot(poly15_data['power_1'],poly15_data['PRICE'],'.')\n",
    "plt.plot(poly15_data['power_1'], model_1.predict(poly15_data[my_features]),'-')"
   ]
  },
  {
   "cell_type": "code",
   "execution_count": 19,
   "metadata": {},
   "outputs": [],
   "source": [
    "def get_residual_sum_of_squares(model, data, outcome):\n",
    "    predictions = model.predict(data)\n",
    "    residuals = predictions - outcome\n",
    "    residuals_sum = residuals.sum()\n",
    "    RSS = residuals_sum ** 2\n",
    "    return(RSS)  "
   ]
  },
  {
   "cell_type": "code",
   "execution_count": 20,
   "metadata": {},
   "outputs": [
    {
     "data": {
      "text/plain": [
       "1249.3532469272614"
      ]
     },
     "execution_count": 20,
     "metadata": {},
     "output_type": "execute_result"
    }
   ],
   "source": [
    "get_residual_sum_of_squares(model_1, X, y)"
   ]
  },
  {
   "cell_type": "code",
   "execution_count": 21,
   "metadata": {},
   "outputs": [],
   "source": [
    "# Based on the plots, I found that the data points all showed in a line. And the model \n",
    "# cannot well explain this model. And also, in the plot, I noticed that, according to the\n",
    "# model, there might be some negative prices shown in this picture. This was abnormal."
   ]
  },
  {
   "cell_type": "code",
   "execution_count": 22,
   "metadata": {},
   "outputs": [],
   "source": [
    "# Then, try to run the ridge regression with normlization."
   ]
  },
  {
   "cell_type": "code",
   "execution_count": 23,
   "metadata": {},
   "outputs": [],
   "source": [
    "regressor2 = Ridge(alpha,normalize=True)"
   ]
  },
  {
   "cell_type": "code",
   "execution_count": 24,
   "metadata": {},
   "outputs": [],
   "source": [
    "model_2 = regressor2.fit(X,y)"
   ]
  },
  {
   "cell_type": "code",
   "execution_count": 25,
   "metadata": {},
   "outputs": [
    {
     "name": "stdout",
     "output_type": "stream",
     "text": [
      "The coefficient for power_1 is 226.64813710012555\n",
      "The coefficient for power_2 is 0.10084657999569206\n",
      "The coefficient for power_3 is -1.3504175700354324e-05\n",
      "The coefficient for power_4 is -4.837630882731061e-11\n",
      "The coefficient for power_5 is 2.816010194504019e-14\n",
      "The coefficient for power_6 is 1.4667739710107455e-18\n",
      "The coefficient for power_7 is 2.860631496977552e-23\n",
      "The coefficient for power_8 is -1.2066678974669707e-27\n",
      "The coefficient for power_9 is -1.5022367009429452e-31\n",
      "The coefficient for power_10 is -8.888494668617306e-36\n",
      "The coefficient for power_11 is -3.726348019465922e-40\n",
      "The coefficient for power_12 is -1.0176151982481311e-44\n",
      "The coefficient for power_13 is 4.0257123396264956e-50\n",
      "The coefficient for power_14 is 3.09793849107995e-53\n",
      "The coefficient for power_15 is 2.9072644041687164e-57\n",
      "The intercept is -7204769047.910833\n"
     ]
    }
   ],
   "source": [
    "coef(model_2.coef_,model_1.intercept_,my_features)"
   ]
  },
  {
   "cell_type": "code",
   "execution_count": 26,
   "metadata": {},
   "outputs": [
    {
     "data": {
      "text/plain": [
       "[<matplotlib.lines.Line2D at 0x1a244230d0>]"
      ]
     },
     "execution_count": 26,
     "metadata": {},
     "output_type": "execute_result"
    },
    {
     "data": {
      "image/png": "[encoded data removed]",
      "text/plain": [
       "<Figure size 432x288 with 1 Axes>"
      ]
     },
     "metadata": {
      "needs_background": "light"
     },
     "output_type": "display_data"
    }
   ],
   "source": [
    "plt.plot(poly15_data['power_1'],poly15_data['PRICE'],'.')\n",
    "plt.plot(poly15_data['power_1'], model_2.predict(poly15_data[my_features]),'-')"
   ]
  },
  {
   "cell_type": "code",
   "execution_count": 27,
   "metadata": {},
   "outputs": [
    {
     "data": {
      "text/plain": [
       "9.217973606645558e-14"
      ]
     },
     "execution_count": 27,
     "metadata": {},
     "output_type": "execute_result"
    }
   ],
   "source": [
    "get_residual_sum_of_squares(model_2, X, y)"
   ]
  },
  {
   "cell_type": "code",
   "execution_count": 28,
   "metadata": {},
   "outputs": [],
   "source": [
    "# I think this model is better than the previous. I found that more data can be explained\n",
    "# by the model. And all the prices predicted by this model are all above 0. "
   ]
  },
  {
   "cell_type": "markdown",
   "metadata": {},
   "source": [
    "# Observe overfitting"
   ]
  },
  {
   "cell_type": "markdown",
   "metadata": {},
   "source": [
    "Recall from Project 3 that the polynomial fit of degree 15 changed wildly whenever the data changed. In particular, when we split the sales data into four subsets and fit the model of degree 15, the result came out to be very different for each subset. The model had a high variance. We will see in a moment that ridge regression reduces such variance. But first, we must reproduce the experiment we did in Project 3 with very small L2 penalty.\n",
    "\n",
    "First, split the data into split the sales data into four subsets of roughly equal size and call them set_1, set_2, set_3, and set_4."
   ]
  },
  {
   "cell_type": "code",
   "execution_count": 29,
   "metadata": {},
   "outputs": [],
   "source": [
    "data1,data2 = train_test_split(df4,test_size = 0.5)"
   ]
  },
  {
   "cell_type": "code",
   "execution_count": 30,
   "metadata": {},
   "outputs": [],
   "source": [
    "set_1, set_2 = train_test_split(data1,test_size = 0.5)"
   ]
  },
  {
   "cell_type": "code",
   "execution_count": 31,
   "metadata": {},
   "outputs": [],
   "source": [
    "set_3, set_4 = train_test_split(data2,test_size = 0.5)"
   ]
  },
  {
   "cell_type": "code",
   "execution_count": 32,
   "metadata": {},
   "outputs": [],
   "source": [
    "set_1 = set_1.sort_values(['SQUARE FEET','PRICE'])\n",
    "set_2 = set_2.sort_values(['SQUARE FEET','PRICE'])\n",
    "set_3 = set_3.sort_values(['SQUARE FEET','PRICE'])\n",
    "set_4 = set_4.sort_values(['SQUARE FEET','PRICE'])"
   ]
  },
  {
   "cell_type": "markdown",
   "metadata": {},
   "source": [
    "Next, fit a 15th degree polynomial on set_1, set_2, set_3, and set_4, using scaled 'SQUARE FEET' to predict prices. Print the weights and make a plot of the resulting model.\n",
    "Hint: use the same L2 penalty as before (i.e. 1e-5)"
   ]
  },
  {
   "cell_type": "markdown",
   "metadata": {},
   "source": [
    "The four curves should differ from one another a lot, as should the coefficients you learned.\n",
    "\n",
    "There is obvious overfitting here--as the model does not generalize for each sets of data. You can expect poor performance from the test data set too. We have a high variance problem here with our model.\n"
   ]
  },
  {
   "cell_type": "code",
   "execution_count": 33,
   "metadata": {},
   "outputs": [],
   "source": [
    "# For set 1"
   ]
  },
  {
   "cell_type": "code",
   "execution_count": 34,
   "metadata": {},
   "outputs": [],
   "source": [
    "set_1_data = polynomial_df(set_1['SQUARE FEET'], 15)\n",
    "my_features_1 = list(set_1_data.columns.values)\n",
    "set_1_data['PRICE'] = set_1['PRICE']"
   ]
  },
  {
   "cell_type": "code",
   "execution_count": 35,
   "metadata": {},
   "outputs": [
    {
     "name": "stdout",
     "output_type": "stream",
     "text": [
      "The coefficient for power_1 is 100.7307680252531\n",
      "The coefficient for power_2 is 0.158410250493415\n",
      "The coefficient for power_3 is -2.5559507021746413e-05\n",
      "The coefficient for power_4 is -8.013215114156226e-11\n",
      "The coefficient for power_5 is 6.92603891903249e-14\n",
      "The coefficient for power_6 is 4.161191604214671e-18\n",
      "The coefficient for power_7 is 1.0155750569920633e-22\n",
      "The coefficient for power_8 is -4.0277294844339754e-27\n",
      "The coefficient for power_9 is -6.81202374998568e-31\n",
      "The coefficient for power_10 is -5.232560568141079e-35\n",
      "The coefficient for power_11 is -2.916072265617812e-39\n",
      "The coefficient for power_12 is -1.1142944604250769e-43\n",
      "The coefficient for power_13 is -1.5838635786767659e-49\n",
      "The coefficient for power_14 is 5.327298022597683e-52\n",
      "The coefficient for power_15 is 7.318190631975184e-56\n",
      "The intercept is 480321.1804835844\n"
     ]
    }
   ],
   "source": [
    "regressor = Ridge(alpha,normalize=True)\n",
    "model_set_1 = regressor.fit(set_1_data.drop(columns='PRICE'),set_1_data['PRICE'])\n",
    "coef(model_set_1.coef_,model_set_1.intercept_,my_features_1)"
   ]
  },
  {
   "cell_type": "code",
   "execution_count": 36,
   "metadata": {},
   "outputs": [
    {
     "data": {
      "text/plain": [
       "[<matplotlib.lines.Line2D at 0x1a24627f10>]"
      ]
     },
     "execution_count": 36,
     "metadata": {},
     "output_type": "execute_result"
    },
    {
     "data": {
      "image/png": "[encoded data removed]",
      "text/plain": [
       "<Figure size 432x288 with 1 Axes>"
      ]
     },
     "metadata": {
      "needs_background": "light"
     },
     "output_type": "display_data"
    }
   ],
   "source": [
    "plt.plot(set_1_data['power_1'],set_1_data['PRICE'],'.')\n",
    "plt.plot(set_1_data['power_1'], model_set_1.predict(set_1_data[my_features]),'-')"
   ]
  },
  {
   "cell_type": "code",
   "execution_count": 37,
   "metadata": {},
   "outputs": [],
   "source": [
    "# For set 2"
   ]
  },
  {
   "cell_type": "code",
   "execution_count": 38,
   "metadata": {},
   "outputs": [],
   "source": [
    "set_2_data = polynomial_df(set_2['SQUARE FEET'], 15)\n",
    "my_features_2 = list(set_2_data.columns.values)\n",
    "set_2_data['PRICE'] = set_2['PRICE']"
   ]
  },
  {
   "cell_type": "code",
   "execution_count": 39,
   "metadata": {},
   "outputs": [
    {
     "name": "stdout",
     "output_type": "stream",
     "text": [
      "The coefficient for power_1 is 525.4057550670867\n",
      "The coefficient for power_2 is -0.05626484543105909\n",
      "The coefficient for power_3 is 8.277568690666545e-06\n",
      "The coefficient for power_4 is -2.018230982475193e-10\n",
      "The coefficient for power_5 is -2.4771025326831068e-14\n",
      "The coefficient for power_6 is -1.1077106961242095e-18\n",
      "The coefficient for power_7 is -3.3168442619092843e-23\n",
      "The coefficient for power_8 is -4.848255144701044e-28\n",
      "The coefficient for power_9 is 2.692287908798577e-32\n",
      "The coefficient for power_10 is 3.5165877450490776e-36\n",
      "The coefficient for power_11 is 2.718486764129361e-40\n",
      "The coefficient for power_12 is 1.8152122425414542e-44\n",
      "The coefficient for power_13 is 1.1402456188008642e-48\n",
      "The coefficient for power_14 is 6.957636120830625e-53\n",
      "The coefficient for power_15 is 4.1839683421355396e-57\n",
      "The intercept is 159349.9912114069\n"
     ]
    }
   ],
   "source": [
    "regressor = Ridge(alpha,normalize=True)\n",
    "model_set_2 = regressor.fit(set_2_data.drop(columns='PRICE'),set_2_data['PRICE'])\n",
    "coef(model_set_2.coef_,model_set_2.intercept_,my_features_2)"
   ]
  },
  {
   "cell_type": "code",
   "execution_count": 40,
   "metadata": {},
   "outputs": [
    {
     "data": {
      "text/plain": [
       "[<matplotlib.lines.Line2D at 0x1a246e2890>]"
      ]
     },
     "execution_count": 40,
     "metadata": {},
     "output_type": "execute_result"
    },
    {
     "data": {
      "image/png": "[encoded data removed]",
      "text/plain": [
       "<Figure size 432x288 with 1 Axes>"
      ]
     },
     "metadata": {
      "needs_background": "light"
     },
     "output_type": "display_data"
    }
   ],
   "source": [
    "plt.plot(set_2_data['power_1'],set_2_data['PRICE'],'.')\n",
    "plt.plot(set_2_data['power_1'], model_set_2.predict(set_2_data[my_features]),'-')"
   ]
  },
  {
   "cell_type": "code",
   "execution_count": 41,
   "metadata": {},
   "outputs": [],
   "source": [
    "# For set 3"
   ]
  },
  {
   "cell_type": "code",
   "execution_count": 42,
   "metadata": {},
   "outputs": [],
   "source": [
    "set_3_data = polynomial_df(set_3['SQUARE FEET'], 15)\n",
    "my_features_3 = list(set_3_data.columns.values)\n",
    "set_3_data['PRICE'] = set_3['PRICE']"
   ]
  },
  {
   "cell_type": "code",
   "execution_count": 43,
   "metadata": {},
   "outputs": [
    {
     "name": "stdout",
     "output_type": "stream",
     "text": [
      "The coefficient for power_1 is 215.9716518898236\n",
      "The coefficient for power_2 is 0.08032715006381394\n",
      "The coefficient for power_3 is -3.4213284929838705e-06\n",
      "The coefficient for power_4 is 1.1506636027237808e-10\n",
      "The coefficient for power_5 is 9.170122059540741e-15\n",
      "The coefficient for power_6 is 2.877892376383014e-19\n",
      "The coefficient for power_7 is 5.021808075829179e-24\n",
      "The coefficient for power_8 is -4.144525593467663e-29\n",
      "The coefficient for power_9 is -9.268793847577903e-33\n",
      "The coefficient for power_10 is -6.078846691647647e-37\n",
      "The coefficient for power_11 is -3.229713868642488e-41\n",
      "The coefficient for power_12 is -1.5910895492345972e-45\n",
      "The coefficient for power_13 is -7.595061837794277e-50\n",
      "The coefficient for power_14 is -3.575803717612021e-54\n",
      "The coefficient for power_15 is -1.673222961296021e-58\n",
      "The intercept is 406587.6662942646\n"
     ]
    }
   ],
   "source": [
    "regressor = Ridge(alpha,normalize=True)\n",
    "model_set_3 = regressor.fit(set_3_data.drop(columns='PRICE'),set_3_data['PRICE'])\n",
    "coef(model_set_3.coef_,model_set_3.intercept_,my_features_3)"
   ]
  },
  {
   "cell_type": "code",
   "execution_count": 44,
   "metadata": {},
   "outputs": [
    {
     "data": {
      "text/plain": [
       "[<matplotlib.lines.Line2D at 0x1a24203a10>]"
      ]
     },
     "execution_count": 44,
     "metadata": {},
     "output_type": "execute_result"
    },
    {
     "data": {
      "image/png": "[encoded data removed]",
      "text/plain": [
       "<Figure size 432x288 with 1 Axes>"
      ]
     },
     "metadata": {
      "needs_background": "light"
     },
     "output_type": "display_data"
    }
   ],
   "source": [
    "plt.plot(set_3_data['power_1'],set_3_data['PRICE'],'.')\n",
    "plt.plot(set_3_data['power_1'], model_set_3.predict(set_3_data[my_features]),'-')"
   ]
  },
  {
   "cell_type": "code",
   "execution_count": 45,
   "metadata": {},
   "outputs": [],
   "source": [
    "# For set 4"
   ]
  },
  {
   "cell_type": "code",
   "execution_count": 46,
   "metadata": {},
   "outputs": [],
   "source": [
    "set_4_data = polynomial_df(set_4['SQUARE FEET'], 15)\n",
    "my_features_4 = list(set_4_data.columns.values)\n",
    "set_4_data['PRICE'] = set_4['PRICE']"
   ]
  },
  {
   "cell_type": "code",
   "execution_count": 47,
   "metadata": {},
   "outputs": [
    {
     "name": "stdout",
     "output_type": "stream",
     "text": [
      "The coefficient for power_1 is 66.44499130868533\n",
      "The coefficient for power_2 is 0.2539150610554252\n",
      "The coefficient for power_3 is -4.4528890111600534e-05\n",
      "The coefficient for power_4 is -1.6118139725122148e-10\n",
      "The coefficient for power_5 is 1.7055216268143354e-13\n",
      "The coefficient for power_6 is 1.2054158587543837e-17\n",
      "The coefficient for power_7 is 3.640034706499057e-22\n",
      "The coefficient for power_8 is -1.1555017504414808e-26\n",
      "The coefficient for power_9 is -2.5593708003554017e-30\n",
      "The coefficient for power_10 is -2.2558915211407946e-34\n",
      "The coefficient for power_11 is -1.4510251042612642e-38\n",
      "The coefficient for power_12 is -7.0410127769875265e-43\n",
      "The coefficient for power_13 is -1.7986286997339448e-47\n",
      "The coefficient for power_14 is 1.2937056873706511e-51\n",
      "The coefficient for power_15 is 2.8195466777426046e-55\n",
      "The intercept is 312809.6994990787\n"
     ]
    }
   ],
   "source": [
    "regressor = Ridge(alpha,normalize=True)\n",
    "model_set_4 = regressor.fit(set_4_data.drop(columns='PRICE'),set_4_data['PRICE'])\n",
    "coef(model_set_4.coef_,model_set_4.intercept_,my_features_4)"
   ]
  },
  {
   "cell_type": "code",
   "execution_count": 48,
   "metadata": {},
   "outputs": [
    {
     "data": {
      "text/plain": [
       "[<matplotlib.lines.Line2D at 0x1a247cd790>]"
      ]
     },
     "execution_count": 48,
     "metadata": {},
     "output_type": "execute_result"
    },
    {
     "data": {
      "image/png": "[encoded data removed]",
      "text/plain": [
       "<Figure size 432x288 with 1 Axes>"
      ]
     },
     "metadata": {
      "needs_background": "light"
     },
     "output_type": "display_data"
    }
   ],
   "source": [
    "plt.plot(set_4_data['power_1'],set_4_data['PRICE'],'.')\n",
    "plt.plot(set_4_data['power_1'], model_set_4.predict(set_4_data[my_features]),'-')"
   ]
  },
  {
   "cell_type": "markdown",
   "metadata": {},
   "source": [
    "# Ridge regression comes to rescue"
   ]
  },
  {
   "cell_type": "markdown",
   "metadata": {},
   "source": [
    "Generally, whenever we see weights change so much in response to change in data, we believe the variance of our estimate to be large. Ridge regression aims to address this issue by penalizing \"large\" weights.\n",
    "With the argument l2_penalty=1e5, fit a 15th-order polynomial model on set_1, set_2, set_3, and set_4. Other than the change in the l2_penalty parameter, the code should be the same as the experiment above. "
   ]
  },
  {
   "cell_type": "code",
   "execution_count": 49,
   "metadata": {},
   "outputs": [],
   "source": [
    "# For Set 1"
   ]
  },
  {
   "cell_type": "code",
   "execution_count": 50,
   "metadata": {},
   "outputs": [
    {
     "name": "stdout",
     "output_type": "stream",
     "text": [
      "The coefficient for power_1 is 0.0034533027865116185\n",
      "The coefficient for power_2 is 2.513675394902545e-07\n",
      "The coefficient for power_3 is 1.606032900716611e-11\n",
      "The coefficient for power_4 is 1.050905235488272e-15\n",
      "The coefficient for power_5 is 6.969420439137078e-20\n",
      "The coefficient for power_6 is 4.637018941644477e-24\n",
      "The coefficient for power_7 is 3.085586680643395e-28\n",
      "The coefficient for power_8 is 2.0516493843462083e-32\n",
      "The coefficient for power_9 is 1.362733470820268e-36\n",
      "The coefficient for power_10 is 9.041075237171598e-41\n",
      "The coefficient for power_11 is 5.991309110644538e-45\n",
      "The coefficient for power_12 is 3.965719387303824e-49\n",
      "The coefficient for power_13 is 2.622013363256734e-53\n",
      "The coefficient for power_14 is 1.7317252100470772e-57\n",
      "The coefficient for power_15 is 1.1425500278705972e-61\n",
      "The intercept is 1039807.2432719222\n"
     ]
    }
   ],
   "source": [
    "regressor = Ridge(alpha=1e5,normalize=True)\n",
    "model_set_1 = regressor.fit(set_1_data.drop(columns='PRICE'),set_1_data['PRICE'])\n",
    "coef(model_set_1.coef_,model_set_1.intercept_,my_features_1)"
   ]
  },
  {
   "cell_type": "code",
   "execution_count": 51,
   "metadata": {},
   "outputs": [
    {
     "data": {
      "text/plain": [
       "[<matplotlib.lines.Line2D at 0x1171be290>]"
      ]
     },
     "execution_count": 51,
     "metadata": {},
     "output_type": "execute_result"
    },
    {
     "data": {
      "image/png": "[encoded data removed]",
      "text/plain": [
       "<Figure size 432x288 with 1 Axes>"
      ]
     },
     "metadata": {
      "needs_background": "light"
     },
     "output_type": "display_data"
    }
   ],
   "source": [
    "plt.plot(set_1_data['power_1'],set_1_data['PRICE'],'.')\n",
    "plt.plot(set_1_data['power_1'], model_set_1.predict(set_1_data[my_features]),'-')"
   ]
  },
  {
   "cell_type": "code",
   "execution_count": 52,
   "metadata": {},
   "outputs": [],
   "source": [
    "# For set 2"
   ]
  },
  {
   "cell_type": "code",
   "execution_count": 53,
   "metadata": {},
   "outputs": [
    {
     "name": "stdout",
     "output_type": "stream",
     "text": [
      "The coefficient for power_1 is 0.0019945358637848453\n",
      "The coefficient for power_2 is 5.184421539011174e-08\n",
      "The coefficient for power_3 is 5.524614906039411e-13\n",
      "The coefficient for power_4 is -1.3379605045708639e-17\n",
      "The coefficient for power_5 is -1.704369009949569e-21\n",
      "The coefficient for power_6 is -1.2239460012650334e-25\n",
      "The coefficient for power_7 is -7.823933435944326e-30\n",
      "The coefficient for power_8 is -4.79939566957778e-34\n",
      "The coefficient for power_9 is -2.8916275062938e-38\n",
      "The coefficient for power_10 is -1.7272003490582194e-42\n",
      "The coefficient for power_11 is -1.0271824132062843e-46\n",
      "The coefficient for power_12 is -6.09498774397873e-51\n",
      "The coefficient for power_13 is -3.61231693611132e-55\n",
      "The coefficient for power_14 is -2.1395842488413166e-59\n",
      "The coefficient for power_15 is -1.2668662141906763e-63\n",
      "The intercept is 948342.7482810235\n"
     ]
    }
   ],
   "source": [
    "regressor = Ridge(alpha=1e5,normalize=True)\n",
    "model_set_2 = regressor.fit(set_2_data.drop(columns='PRICE'),set_2_data['PRICE'])\n",
    "coef(model_set_2.coef_,model_set_2.intercept_,my_features_2)"
   ]
  },
  {
   "cell_type": "code",
   "execution_count": 54,
   "metadata": {},
   "outputs": [
    {
     "data": {
      "text/plain": [
       "[<matplotlib.lines.Line2D at 0x11729fb90>]"
      ]
     },
     "execution_count": 54,
     "metadata": {},
     "output_type": "execute_result"
    },
    {
     "data": {
      "image/png": "[encoded data removed]",
      "text/plain": [
       "<Figure size 432x288 with 1 Axes>"
      ]
     },
     "metadata": {
      "needs_background": "light"
     },
     "output_type": "display_data"
    }
   ],
   "source": [
    "plt.plot(set_2_data['power_1'],set_2_data['PRICE'],'.')\n",
    "plt.plot(set_2_data['power_1'], model_set_2.predict(set_2_data[my_features]),'-')"
   ]
  },
  {
   "cell_type": "code",
   "execution_count": 55,
   "metadata": {},
   "outputs": [],
   "source": [
    "# For set 3"
   ]
  },
  {
   "cell_type": "code",
   "execution_count": 56,
   "metadata": {},
   "outputs": [
    {
     "name": "stdout",
     "output_type": "stream",
     "text": [
      "The coefficient for power_1 is 0.006012926562075296\n",
      "The coefficient for power_2 is 3.003044015894353e-07\n",
      "The coefficient for power_3 is 1.2484476980828805e-11\n",
      "The coefficient for power_4 is 5.536884093633686e-16\n",
      "The coefficient for power_5 is 2.5314516314682664e-20\n",
      "The coefficient for power_6 is 1.1702350671019106e-24\n",
      "The coefficient for power_7 is 5.432693534548384e-29\n",
      "The coefficient for power_8 is 2.5264168203496862e-33\n",
      "The coefficient for power_9 is 1.1757373146118343e-37\n",
      "The coefficient for power_10 is 5.473327948566824e-42\n",
      "The coefficient for power_11 is 2.5483073216925776e-46\n",
      "The coefficient for power_12 is 1.186528156861854e-50\n",
      "The coefficient for power_13 is 5.5247888523076826e-55\n",
      "The coefficient for power_14 is 2.57251748497336e-59\n",
      "The coefficient for power_15 is 1.1978520926295144e-63\n",
      "The intercept is 1102369.5080309238\n"
     ]
    }
   ],
   "source": [
    "regressor = Ridge(alpha=1e5,normalize=True)\n",
    "model_set_3 = regressor.fit(set_3_data.drop(columns='PRICE'),set_3_data['PRICE'])\n",
    "coef(model_set_3.coef_,model_set_3.intercept_,my_features_3)"
   ]
  },
  {
   "cell_type": "code",
   "execution_count": 57,
   "metadata": {},
   "outputs": [
    {
     "data": {
      "text/plain": [
       "[<matplotlib.lines.Line2D at 0x11741b550>]"
      ]
     },
     "execution_count": 57,
     "metadata": {},
     "output_type": "execute_result"
    },
    {
     "data": {
      "image/png": "[encoded data removed]",
      "text/plain": [
       "<Figure size 432x288 with 1 Axes>"
      ]
     },
     "metadata": {
      "needs_background": "light"
     },
     "output_type": "display_data"
    }
   ],
   "source": [
    "plt.plot(set_3_data['power_1'],set_3_data['PRICE'],'.')\n",
    "plt.plot(set_3_data['power_1'], model_set_3.predict(set_3_data[my_features]),'-')"
   ]
  },
  {
   "cell_type": "code",
   "execution_count": 58,
   "metadata": {},
   "outputs": [],
   "source": [
    "# For set 4"
   ]
  },
  {
   "cell_type": "code",
   "execution_count": 59,
   "metadata": {},
   "outputs": [
    {
     "name": "stdout",
     "output_type": "stream",
     "text": [
      "The coefficient for power_1 is 0.002891418195891807\n",
      "The coefficient for power_2 is 1.6176120581030117e-07\n",
      "The coefficient for power_3 is 4.0372366244821194e-12\n",
      "The coefficient for power_4 is -3.4104014608927285e-17\n",
      "The coefficient for power_5 is -1.468792613645363e-20\n",
      "The coefficient for power_6 is -1.6068495857225999e-24\n",
      "The coefficient for power_7 is -1.4615819842100344e-28\n",
      "The coefficient for power_8 is -1.2498195621075746e-32\n",
      "The coefficient for power_9 is -1.0405408488013197e-36\n",
      "The coefficient for power_10 is -8.548535477980274e-41\n",
      "The coefficient for power_11 is -6.972527516141615e-45\n",
      "The coefficient for power_12 is -5.6635932012895344e-49\n",
      "The coefficient for power_13 is -4.589070569836749e-53\n",
      "The coefficient for power_14 is -3.7128260360356126e-57\n",
      "The coefficient for power_15 is -3.001086170934739e-61\n",
      "The intercept is 969472.4060521068\n"
     ]
    }
   ],
   "source": [
    "regressor = Ridge(alpha=1e5,normalize=True)\n",
    "model_set_4 = regressor.fit(set_4_data.drop(columns='PRICE'),set_4_data['PRICE'])\n",
    "coef(model_set_4.coef_,model_set_4.intercept_,my_features_4)"
   ]
  },
  {
   "cell_type": "code",
   "execution_count": 60,
   "metadata": {},
   "outputs": [
    {
     "data": {
      "text/plain": [
       "[<matplotlib.lines.Line2D at 0x11745ff50>]"
      ]
     },
     "execution_count": 60,
     "metadata": {},
     "output_type": "execute_result"
    },
    {
     "data": {
      "image/png": "[encoded data removed]",
      "text/plain": [
       "<Figure size 432x288 with 1 Axes>"
      ]
     },
     "metadata": {
      "needs_background": "light"
     },
     "output_type": "display_data"
    }
   ],
   "source": [
    "plt.plot(set_4_data['power_1'],set_4_data['PRICE'],'.')\n",
    "plt.plot(set_4_data['power_1'], model_set_4.predict(set_4_data[my_features]),'-')"
   ]
  },
  {
   "cell_type": "markdown",
   "metadata": {},
   "source": [
    "# Selecting an L2 penalty via cross-validation"
   ]
  },
  {
   "cell_type": "markdown",
   "metadata": {},
   "source": [
    "Just like the polynomial degree, the L2 penalty is a \"magic\" parameter we need to select. We could use the validation set approach as we did in the last project, but that approach has a major disadvantage: it leaves fewer observations available for training. Cross-validation seeks to overcome this issue by using all of the training set in a smart way.\n",
    "\n",
    "We will implement a kind of cross-validation called k-fold cross-validation. The method gets its name because it involves dividing the training set into k segments of roughtly equal size. Similar to the validation set method, we measure the validation error with one of the segments designated as the validation set. The major difference is that we repeat the process k times as follows:\n",
    "Set aside segment 0 as the validation set, and fit a model on rest of data, and evalutate it on this validation set\n",
    "Set aside segment 1 as the validation set, and fit a model on rest of data, and evalutate it on this validation set\n",
    "...\n",
    "Set aside segment k-1 as the validation set, and fit a model on rest of data, and evalutate it on this validation set\n",
    "\n",
    "After this process, we compute the average of the k validation errors, and use it as an estimate of the generalization error. Notice that all observations are used for both training and validation, as we iterate over segments of data.\n",
    "To estimate the generalization error well, it is crucial to shuffle the training data before dividing them into segments (use sklearn.utils.shuffle). We reserve 10% of the data as the test set and shuffle the remainder."
   ]
  },
  {
   "cell_type": "code",
   "execution_count": 61,
   "metadata": {},
   "outputs": [],
   "source": [
    "train_valid = df4.sample(frac=0.9,random_state=1)\n",
    "test_data = df4.drop(train_valid.index)\n",
    "from sklearn.utils import shuffle\n",
    "train_valid_shuffled = shuffle(train_valid)"
   ]
  },
  {
   "cell_type": "markdown",
   "metadata": {},
   "source": [
    "Once the data is shuffled, we divide it into equal segments. Each segment should receive `n/k` elements, where `n` is the number of observations in the training set and `k` is the number of segments. Since the segment 0 starts at index 0 and contains `n/k` elements, it ends at index `(n/k)-1`. The segment 1 starts where the segment 0 left off, at index `(n/k)`. With `n/k` elements, the segment 1 ends at index `(n*2/k)-1`. Continuing in this fashion, we deduce that the segment `i` starts at index `(n*i/k)` and ends at `(n*(i+1)/k)-1`.\n",
    "\n",
    "Now we are ready to implement k-fold cross-validation. Write a function that computes k validation errors by designating each of the k segments as the validation set. It accepts as parameters (i) `k`, (ii) `l2_penalty`, (iii) dataframe, (iv) name of output column (e.g. `price`) and (v) list of feature names. The function returns the average validation error using k segments as validation sets.\n",
    "\n",
    "* For each i in [0, 1, ..., k-1]:\n",
    "  * Compute starting and ending indices of segment i and call 'start' and 'end'\n",
    "  * Form validation set by taking a slice (start:end+1) from the data.\n",
    "  * Form training set by appending slice (end+1:n) to the end of slice (0:start).\n",
    "  * Train a linear model using training set just formed, with a given l2_penalty\n",
    "  * Compute validation error using validation set just formed"
   ]
  },
  {
   "cell_type": "code",
   "execution_count": 73,
   "metadata": {},
   "outputs": [],
   "source": [
    "from sklearn.linear_model import Ridge"
   ]
  },
  {
   "cell_type": "code",
   "execution_count": 96,
   "metadata": {},
   "outputs": [],
   "source": [
    "def k_fold_cross_validation(k,l2_penalty,dataframe,output_name,features):\n",
    "    n = len(dataframe)\n",
    "    validation_error = []\n",
    "    for i in range(0,k):\n",
    "        start = int((i*n)/k)\n",
    "        end = int((n*(i+1)/k)-1)\n",
    "        validation_set = dataframe[start:end+1]\n",
    "        training_set = dataframe[0:start].append(dataframe[end+1:n])\n",
    "        model = Ridge(alpha = l2_penalty,normalize=True)\n",
    "        model_1 = model.fit(training_set[features], training_set[output_name])\n",
    "        \n",
    "    prediction = model_1.predict(validation_set[features])\n",
    "    square_error = (prediction - validation_set[output_name]) * (prediction - validation_set[output_name])\n",
    "    sum_square_error = square_error.sum()\n",
    "    \n",
    "    validation_error.append(sum_square_error)\n",
    "    \n",
    "    #avg_validation_error = validation_error / len(validation_error)\n",
    "    \n",
    "    return sum(validation_error)/len(validation_error)\n",
    "        \n",
    "    "
   ]
  },
  {
   "cell_type": "markdown",
   "metadata": {},
   "source": [
    "Once we have a function to compute the average validation error for a model, we can write a loop to find the model that minimizes the average validation error. Write a loop that does the following:\n",
    "* We will again be aiming to fit a 15th-order polynomial model using the `SQUARE FEET` input\n",
    "* For `l2_penalty` in [10^1, 10^1.5, 10^2, 10^2.5, ..., 10^7] (to get this in Python, you can use this Numpy function: `np.logspace(1, 7, num=13)`.)\n",
    "    * Run 10-fold cross-validation with `l2_penalty`\n",
    "* Report which L2 penalty produced the lowest average validation error.\n",
    "\n",
    "Note: since the degree of the polynomial is now fixed to 15, to make things faster, you should generate polynomial features in advance and re-use them throughout the loop. Make sure to use `train_valid_shuffled` when generating polynomial features!"
   ]
  },
  {
   "cell_type": "code",
   "execution_count": 75,
   "metadata": {},
   "outputs": [],
   "source": [
    "data_new = polynomial_df(train_valid_shuffled['SQUARE FEET'],15)\n",
    "my_features_new = list(data_new.columns.values)\n",
    "data_new['PRICE'] = train_valid_shuffled['PRICE']"
   ]
  },
  {
   "cell_type": "code",
   "execution_count": 77,
   "metadata": {},
   "outputs": [],
   "source": [
    "l2_penalty_values = np.logspace(1,7,num=13)"
   ]
  },
  {
   "cell_type": "code",
   "execution_count": 100,
   "metadata": {},
   "outputs": [
    {
     "name": "stdout",
     "output_type": "stream",
     "text": [
      "10.0 162025546063788.75\n"
     ]
    }
   ],
   "source": [
    "errors = []\n",
    "min_error = None\n",
    "best_l2 = None\n",
    "for l2_penalty in l2_penalty_values:\n",
    "    avg_error = k_fold_cross_validation(10,l2_penalty,data_new,'PRICE',my_features_new)\n",
    "    errors.append(avg_error)\n",
    "    if (min_error is None) or (avg_error < min_error):\n",
    "        min_error = avg_error\n",
    "        best_l2 = l2_penalty\n",
    "print(best_l2_penalty,min_error)"
   ]
  },
  {
   "cell_type": "markdown",
   "metadata": {},
   "source": [
    "What is the best value for the L2 penalty according to 10-fold validation? You may find it useful to plot the k-fold cross-validation errors you have obtained to better understand the behavior of the method."
   ]
  },
  {
   "cell_type": "code",
   "execution_count": 106,
   "metadata": {
    "scrolled": false
   },
   "outputs": [
    {
     "data": {
      "image/png": "[encoded data removed]",
      "text/plain": [
       "<Figure size 432x288 with 1 Axes>"
      ]
     },
     "metadata": {
      "needs_background": "light"
     },
     "output_type": "display_data"
    }
   ],
   "source": [
    "# Plot the l2_penalty values in the x axis and the cross-validation error in the y axis.\n",
    "# Using plt.xscale('log') will make your plot more intuitive.\n",
    "plt.plot(l2_penalty_values,errors)\n",
    "plt.xlabel('l2_penalty_values')\n",
    "plt.ylabel('errors')\n",
    "plt.xscale('log')"
   ]
  },
  {
   "cell_type": "markdown",
   "metadata": {},
   "source": [
    "Once you found the best value for the L2 penalty using cross-validation, it is important to retrain a final model on all of the training data using this value of l2_penalty. This way, your final model will be trained on the entire dataset. What is the RSS on the TEST data of the model you learn with this L2 penalty?"
   ]
  },
  {
   "cell_type": "code",
   "execution_count": 109,
   "metadata": {},
   "outputs": [],
   "source": [
    "new_data2 = polynomial_df(df4['SQUARE FEET'],15)\n",
    "my_features_new2 = list(new_data2.columns.values)\n",
    "new_data2['PRICE'] = df4['PRICE']"
   ]
  },
  {
   "cell_type": "code",
   "execution_count": 112,
   "metadata": {},
   "outputs": [],
   "source": [
    "model_new = Ridge(alpha = best_l2,normalize=True)\n",
    "model_new_2 = model_new.fit(new_data2[my_features_new2],new_data2['PRICE'])"
   ]
  },
  {
   "cell_type": "code",
   "execution_count": 113,
   "metadata": {},
   "outputs": [
    {
     "name": "stdout",
     "output_type": "stream",
     "text": [
      "The coefficient for power_1 is 27.834609648824472\n",
      "The coefficient for power_2 is 0.0012919905868476146\n",
      "The coefficient for power_3 is 5.006425900236028e-08\n",
      "The coefficient for power_4 is 2.1923091124508024e-12\n",
      "The coefficient for power_5 is 1.0054051377757595e-16\n",
      "The coefficient for power_6 is 4.646973215446285e-21\n",
      "The coefficient for power_7 is 2.149211097159059e-25\n",
      "The coefficient for power_8 is 9.945775994231777e-30\n",
      "The coefficient for power_9 is 4.607839401123599e-34\n",
      "The coefficient for power_10 is 2.1376685009493842e-38\n",
      "The coefficient for power_11 is 9.929356127306836e-43\n",
      "The coefficient for power_12 is 4.616742988168432e-47\n",
      "The coefficient for power_13 is 2.1481824300887513e-51\n",
      "The coefficient for power_14 is 1.000063895107732e-55\n",
      "The coefficient for power_15 is 4.657216230215676e-60\n",
      "The intercept is 953074.3822201411\n"
     ]
    }
   ],
   "source": [
    "coef(model_new_2.coef_,model_new_2.intercept_,my_features_new2)"
   ]
  },
  {
   "cell_type": "code",
   "execution_count": 115,
   "metadata": {},
   "outputs": [
    {
     "data": {
      "text/plain": [
       "[<matplotlib.lines.Line2D at 0x1a2e5fbe10>]"
      ]
     },
     "execution_count": 115,
     "metadata": {},
     "output_type": "execute_result"
    },
    {
     "data": {
      "image/png": "[encoded data removed]",
      "text/plain": [
       "<Figure size 432x288 with 1 Axes>"
      ]
     },
     "metadata": {
      "needs_background": "light"
     },
     "output_type": "display_data"
    }
   ],
   "source": [
    "plt.plot(new_data2['power_1'],new_data2['PRICE'],'.')\n",
    "plt.plot(new_data2['power_1'], model_new_2.predict(new_data2[my_features]),'-')"
   ]
  },
  {
   "cell_type": "code",
   "execution_count": 116,
   "metadata": {},
   "outputs": [
    {
     "data": {
      "text/plain": [
       "8.881784197001252e-16"
      ]
     },
     "execution_count": 116,
     "metadata": {},
     "output_type": "execute_result"
    }
   ],
   "source": [
    "get_residual_sum_of_squares(model_new_2, new_data2.drop(columns='PRICE'), new_data2['PRICE'])"
   ]
  },
  {
   "cell_type": "markdown",
   "metadata": {},
   "source": [
    "# Implement ridge regression via gradient descent"
   ]
  },
  {
   "cell_type": "markdown",
   "metadata": {},
   "source": [
    "Now we are going to implement ridge regession via gradient descent. We will:\n",
    "* Convert dataframe into a numpy array\n",
    "* Write a Numpy function to compute the derivative of the regression weights with respect to a single feature\n",
    "* Write gradient descent function to compute the regression weights given an initial weight vector, step size, tolerance, and L2 penalty"
   ]
  },
  {
   "cell_type": "markdown",
   "metadata": {},
   "source": [
    "first copy and past get_numpy_data() and predict_output() function from the 2nd project."
   ]
  },
  {
   "cell_type": "code",
   "execution_count": 117,
   "metadata": {},
   "outputs": [],
   "source": [
    "def get_numpy_data(data, features, output):\n",
    "    data['Constant'] = 1\n",
    "    features = ['Constant'] + features\n",
    "    feature_matrix = data[features].values\n",
    "    output_array = data[output].values\n",
    "    return(feature_matrix, output_array)"
   ]
  },
  {
   "cell_type": "code",
   "execution_count": 118,
   "metadata": {},
   "outputs": [],
   "source": [
    "def predict_output(feature_matrix, weights):\n",
    "    # assume feature_matrix is a numpy matrix containing the features as columns and weights is a corresponding numpy array\n",
    "    # create the predictions vector by using np.dot()\n",
    "    predictions = np.dot(feature_matrix,weights)\n",
    "    return(predictions)"
   ]
  },
  {
   "cell_type": "markdown",
   "metadata": {},
   "source": [
    "# Computing the Derivative"
   ]
  },
  {
   "cell_type": "markdown",
   "metadata": {},
   "source": [
    "We are now going to move to computing the derivative of the regression cost function. The cost function is the sum over the data points of the squared difference between an observed output and a predicted output, plus the L2 penalty term.\n",
    "```\n",
    "Cost(w)\n",
    "= SUM[ (prediction - output)^2 ]\n",
    "+ l2_penalty*(w[0]^2 + w[1]^2 + ... + w[k]^2).\n",
    "```\n",
    "\n",
    "Since the derivative of a sum is the sum of the derivatives, we can take the derivative of the first part (the RSS) as we did in the notebook for the unregularized case in Week 2 and add the derivative of the regularization part.  As we saw, the derivative of the RSS with respect to `w[i]` can be written as: \n",
    "```\n",
    "2*SUM[ error*[feature_i] ].\n",
    "```\n",
    "The derivative of the regularization term with respect to `w[i]` is:\n",
    "```\n",
    "2*l2_penalty*w[i].\n",
    "```\n",
    "Summing both, we get\n",
    "```\n",
    "2*SUM[ error*[feature_i] ] + 2*l2_penalty*w[i].\n",
    "```\n",
    "That is, the derivative for the weight for feature i is the sum (over data points) of 2 times the product of the error and the feature itself, plus `2*l2_penalty*w[i]`. \n",
    "\n",
    "**We will not regularize the constant.**  Thus, in the case of the constant, the derivative is just twice the sum of the errors (without the `2*l2_penalty*w[0]` term).\n",
    "\n",
    "Recall that twice the sum of the product of two vectors is just twice the dot product of the two vectors. Therefore the derivative for the weight for feature_i is just two times the dot product between the values of feature_i and the current errors, plus `2*l2_penalty*w[i]`.\n",
    "\n",
    "With this in mind complete the following derivative function which computes the derivative of the weight given the value of the feature (over all data points) and the errors (over all data points).  To decide when to we are dealing with the constant (so we don't regularize it) we added the extra parameter to the call `feature_is_constant` which you should set to `True` when computing the derivative of the constant and `False` otherwise."
   ]
  },
  {
   "cell_type": "code",
   "execution_count": 173,
   "metadata": {},
   "outputs": [],
   "source": [
    "def feature_derivative_ridge(errors, feature, weight, l2_penalty, feature_is_constant):\n",
    "    # If feature_is_constant is True, derivative is twice the dot product of errors and feature\n",
    "    if (feature_is_constant):\n",
    "        derivative = 2 * np.dot(errors,feature)\n",
    "    # Otherwise, derivative is twice the dot product plus 2*l2_penalty*weight\n",
    "    else:\n",
    "        derivative = 2 * np.dot(errors,feature) + 2*l2_penalty*weight\n",
    "    return derivative"
   ]
  },
  {
   "cell_type": "markdown",
   "metadata": {},
   "source": [
    "Let's test the feature derivative function by running the following code:"
   ]
  },
  {
   "cell_type": "code",
   "execution_count": 174,
   "metadata": {},
   "outputs": [
    {
     "name": "stdout",
     "output_type": "stream",
     "text": [
      "-8412802539862.0\n",
      "-8412802539862.0\n",
      "\n",
      "-3626247728.0\n",
      "-3626247728.0\n"
     ]
    }
   ],
   "source": [
    "(example_features, example_output) = get_numpy_data(df4, ['SQUARE FEET'], 'PRICE') \n",
    "my_weights = np.array([1., 10.])\n",
    "test_predictions = predict_output(example_features, my_weights) \n",
    "errors = test_predictions - example_output # prediction errors\n",
    "\n",
    "# next two lines should print the same values\n",
    "print (feature_derivative_ridge(errors, example_features[:,1], my_weights[1], 1, False))\n",
    "print (np.sum(errors*example_features[:,1])*2+20.)\n",
    "print ('')\n",
    "\n",
    "# next two lines should print the same values\n",
    "print (feature_derivative_ridge(errors, example_features[:,0], my_weights[0], 1, True))\n",
    "print (np.sum(errors)*2.)"
   ]
  },
  {
   "cell_type": "markdown",
   "metadata": {},
   "source": [
    "# Gradient Descent"
   ]
  },
  {
   "cell_type": "markdown",
   "metadata": {},
   "source": [
    "Now we will write a function that performs a gradient descent. The basic premise is simple. Given a starting point we update the current weights by moving in the negative gradient direction. Recall that the gradient is the direction of *increase* and therefore the negative gradient is the direction of *decrease* and we're trying to *minimize* a cost function. \n",
    "\n",
    "The amount by which we move in the negative gradient *direction*  is called the 'step size'. We stop when we are 'sufficiently close' to the optimum. Unlike in Project 2, this time we will set a **maximum number of iterations** and take gradient steps until we reach this maximum number. If no maximum number is supplied, the maximum should be set 100 by default. (Use default parameter values in Python.)\n",
    "\n",
    "With this in mind, complete the following gradient descent function below using your derivative function above. For each step in the gradient descent, we update the weight for each feature before computing our stopping criteria."
   ]
  },
  {
   "cell_type": "code",
   "execution_count": 218,
   "metadata": {},
   "outputs": [],
   "source": [
    "def ridge_regression_gradient_descent(feature_matrix, output, initial_weights, step_size, l2_penalty, max_iterations=100):\n",
    "    print ('Starting gradient descent with l2_penalty = ' + str(l2_penalty))\n",
    "    \n",
    "    weights = np.array(initial_weights)\n",
    "    iteration = 0 # iteration counter\n",
    "    print_frequency = 1  # for adjusting frequency of debugging output\n",
    "    while iteration < max_iterations:\n",
    "    #while not reached maximum number of iterations:\n",
    "        # your code  # increment iteration counter\n",
    "        iteration = iteration + 1\n",
    "        ### === code section for adjusting frequency of debugging output. ===\n",
    "        if iteration == 10:\n",
    "            print_frequency = 10\n",
    "        if iteration == 100:\n",
    "            print_frequency = 100\n",
    "        if iteration%print_frequency==0:\n",
    "            print('Iteration = ' + str(iteration))\n",
    "        ### === end code section ===\n",
    "        \n",
    "        # compute the predictions based on feature_matrix and weights using your predict_output() function\n",
    "        predictions = predict_output(feature_matrix, weights)\n",
    "        # compute the errors as predictions - output\n",
    "        errors = predictions - output\n",
    "        # from time to time, print the value of the cost function\n",
    "        if iteration%print_frequency==0:\n",
    "            print ('Cost function = ' ,str(np.dot(errors,errors) + l2_penalty*(np.dot(weights,weights) - weights[0]**2)))\n",
    "        \n",
    "        for i in range(len(weights)):\n",
    "            \n",
    "            # loop over each weight\n",
    "            # Recall that feature_matrix[:,i] is the feature column associated with weights[i]\n",
    "            # compute the derivative for weight[i].\n",
    "            #(Remember: when i=0, you are computing the derivative of the constant!)\n",
    "            if (i==0):\n",
    "                derivative = feature_derivative_ridge(errors, feature_matrix[:,i], weights[i], l2_penalty, True)\n",
    "            else:\n",
    "                derivative = feature_derivative_ridge(errors, feature_matrix[:,i], weights[i], l2_penalty, False)\n",
    "            # subtract the step size times the derivative from the current weight\n",
    "            weights[i] = weights[i] - (step_size * derivative)\n",
    "    print ('Done with gradient descent at iteration ', iteration)\n",
    "    print ('Learned weights = ', str(weights))\n",
    "    return weights"
   ]
  },
  {
   "cell_type": "markdown",
   "metadata": {},
   "source": [
    "# Visualizing effect of L2 penalty"
   ]
  },
  {
   "cell_type": "markdown",
   "metadata": {},
   "source": [
    "The L2 penalty gets its name because it causes weights to have small L2 norms than otherwise. Let's see how large weights get penalized. Let us consider a simple model with 1 feature:"
   ]
  },
  {
   "cell_type": "code",
   "execution_count": 131,
   "metadata": {},
   "outputs": [],
   "source": [
    "simple_features = ['SQUARE FEET']\n",
    "my_output = 'PRICE'"
   ]
  },
  {
   "cell_type": "markdown",
   "metadata": {},
   "source": [
    "Let us split the dataset into training set and test set with 80/20:"
   ]
  },
  {
   "cell_type": "code",
   "execution_count": 211,
   "metadata": {},
   "outputs": [],
   "source": [
    "from sklearn.model_selection import train_test_split\n",
    "training_set,test_set = train_test_split(df4,test_size=0.2)"
   ]
  },
  {
   "cell_type": "markdown",
   "metadata": {},
   "source": [
    "In this part, we will only use 'SQUARE FEET' to predict 'PRICE'. Use the get_numpy_data function to get a Numpy versions of your data with only this feature, for both the train_data and the test_data."
   ]
  },
  {
   "cell_type": "code",
   "execution_count": 212,
   "metadata": {},
   "outputs": [
    {
     "name": "stderr",
     "output_type": "stream",
     "text": [
      "/Users/liziwei/anaconda3/lib/python3.7/site-packages/ipykernel_launcher.py:2: SettingWithCopyWarning: \n",
      "A value is trying to be set on a copy of a slice from a DataFrame.\n",
      "Try using .loc[row_indexer,col_indexer] = value instead\n",
      "\n",
      "See the caveats in the documentation: http://pandas.pydata.org/pandas-docs/stable/user_guide/indexing.html#returning-a-view-versus-a-copy\n",
      "  \n"
     ]
    }
   ],
   "source": [
    "(training_feature,training_output) = get_numpy_data(training_set, simple_features, my_output)\n",
    "(testing_feature,testing_output) = get_numpy_data(test_set, simple_features, my_output)"
   ]
  },
  {
   "cell_type": "markdown",
   "metadata": {},
   "source": [
    "Let's set the parameters for our optimization:"
   ]
  },
  {
   "cell_type": "code",
   "execution_count": 213,
   "metadata": {},
   "outputs": [],
   "source": [
    "initial_weights = np.array([0., 0.])\n",
    "step_size = 1e-12\n",
    "max_iterations=1000"
   ]
  },
  {
   "cell_type": "markdown",
   "metadata": {},
   "source": [
    "First, let's consider no regularization. Set the l2_penalty to 0.0 and run your ridge regression algorithm to learn the weights of your model. Call your weights:\n",
    "simple_weights_0_penalty\n",
    "we'll use them later."
   ]
  },
  {
   "cell_type": "code",
   "execution_count": 222,
   "metadata": {},
   "outputs": [
    {
     "name": "stdout",
     "output_type": "stream",
     "text": [
      "Starting gradient descent with l2_penalty = 0.0\n",
      "Iteration = 1\n",
      "Cost function =  2973632282966886.0\n",
      "Iteration = 2\n",
      "Cost function =  2927152390679965.5\n",
      "Iteration = 3\n",
      "Cost function =  2881939560763116.5\n",
      "Iteration = 4\n",
      "Cost function =  2837959252537070.5\n",
      "Iteration = 5\n",
      "Cost function =  2795177866916710.0\n",
      "Iteration = 6\n",
      "Cost function =  2753562720742808.0\n",
      "Iteration = 7\n",
      "Cost function =  2713082021813476.5\n",
      "Iteration = 8\n",
      "Cost function =  2673704844596275.5\n",
      "Iteration = 9\n",
      "Cost function =  2635401106602433.5\n",
      "Iteration = 10\n",
      "Cost function =  2598141545405085.5\n",
      "Iteration = 20\n",
      "Cost function =  2277081286780931.5\n",
      "Iteration = 30\n",
      "Cost function =  2033551364568262.5\n",
      "Iteration = 40\n",
      "Cost function =  1848829582806548.0\n",
      "Iteration = 50\n",
      "Cost function =  1708714822545997.8\n",
      "Iteration = 60\n",
      "Cost function =  1602435282238792.8\n",
      "Iteration = 70\n",
      "Cost function =  1521820358639100.8\n",
      "Iteration = 80\n",
      "Cost function =  1460672503722628.2\n",
      "Iteration = 90\n",
      "Cost function =  1414290766977179.0\n",
      "Iteration = 100\n",
      "Cost function =  1379109393747609.8\n",
      "Iteration = 200\n",
      "Cost function =  1275568544894621.5\n",
      "Iteration = 300\n",
      "Cost function =  1269040698296768.2\n",
      "Iteration = 400\n",
      "Cost function =  1268629136929060.5\n",
      "Iteration = 500\n",
      "Cost function =  1268603183100002.5\n",
      "Iteration = 600\n",
      "Cost function =  1268601540297699.0\n",
      "Iteration = 700\n",
      "Cost function =  1268601430209263.0\n",
      "Iteration = 800\n",
      "Cost function =  1268601416752363.8\n",
      "Iteration = 900\n",
      "Cost function =  1268601409387699.8\n",
      "Iteration = 1000\n",
      "Cost function =  1268601402407128.0\n",
      "Done with gradient descent at iteration  1000\n",
      "Learned weights =  [4.57411876e-01 4.98464085e+02]\n"
     ]
    }
   ],
   "source": [
    "simple_weights_0_penalty = ridge_regression_gradient_descent(training_feature, training_output, initial_weights, step_size, 0.0, max_iterations)"
   ]
  },
  {
   "cell_type": "markdown",
   "metadata": {},
   "source": [
    "Next, let's consider high regularization. Set the l2_penalty to 3.e9 and run your ridge regression algorithm to learn the weights of your model. Call your weights:\n",
    "simple_weights_high_penalty\n",
    "we'll use them later."
   ]
  },
  {
   "cell_type": "code",
   "execution_count": 223,
   "metadata": {},
   "outputs": [
    {
     "name": "stdout",
     "output_type": "stream",
     "text": [
      "Starting gradient descent with l2_penalty = 3000000000.0\n",
      "Iteration = 1\n",
      "Cost function =  2973632282966886.0\n",
      "Iteration = 2\n",
      "Cost function =  2927292793805728.5\n",
      "Iteration = 3\n",
      "Cost function =  2882763313331189.5\n",
      "Iteration = 4\n",
      "Cost function =  2839973143061557.5\n",
      "Iteration = 5\n",
      "Cost function =  2798854345979946.0\n",
      "Iteration = 6\n",
      "Cost function =  2759341638672169.0\n",
      "Iteration = 7\n",
      "Cost function =  2721372287677698.5\n",
      "Iteration = 8\n",
      "Cost function =  2684886009889111.5\n",
      "Iteration = 9\n",
      "Cost function =  2649824876841924.0\n",
      "Iteration = 10\n",
      "Cost function =  2616133222742828.5\n",
      "Iteration = 20\n",
      "Cost function =  2343742343008081.5\n",
      "Iteration = 30\n",
      "Cost function =  2160866462369990.8\n",
      "Iteration = 40\n",
      "Cost function =  2038088533498040.0\n",
      "Iteration = 50\n",
      "Cost function =  1955658745640820.2\n",
      "Iteration = 60\n",
      "Cost function =  1900317609484733.2\n",
      "Iteration = 70\n",
      "Cost function =  1863163062165973.0\n",
      "Iteration = 80\n",
      "Cost function =  1838218499204762.0\n",
      "Iteration = 90\n",
      "Cost function =  1821471389836697.8\n",
      "Iteration = 100\n",
      "Cost function =  1810227829322096.2\n",
      "Iteration = 200\n",
      "Cost function =  1787684923513004.0\n",
      "Iteration = 300\n",
      "Cost function =  1787265391282238.5\n",
      "Iteration = 400\n",
      "Cost function =  1787257472868661.5\n",
      "Iteration = 500\n",
      "Cost function =  1787257212687434.5\n",
      "Iteration = 600\n",
      "Cost function =  1787257094990579.2\n",
      "Iteration = 700\n",
      "Cost function =  1787256979944733.0\n",
      "Iteration = 800\n",
      "Cost function =  1787256864948243.0\n",
      "Iteration = 900\n",
      "Cost function =  1787256749952704.5\n",
      "Iteration = 1000\n",
      "Cost function =  1787256634957216.8\n",
      "Done with gradient descent at iteration  1000\n",
      "Learned weights =  [  1.16613686 346.83556454]\n"
     ]
    }
   ],
   "source": [
    "simple_weights_high_penalty = ridge_regression_gradient_descent(training_feature, training_output, initial_weights, step_size, 3e9, max_iterations)"
   ]
  },
  {
   "cell_type": "markdown",
   "metadata": {},
   "source": [
    "Use the code below to plot the two learned models. (The blue line is for the model with no regularization and the red line is for the one with high regularization.)"
   ]
  },
  {
   "cell_type": "code",
   "execution_count": 157,
   "metadata": {},
   "outputs": [],
   "source": [
    "import matplotlib.pyplot as plt\n",
    "%matplotlib inline"
   ]
  },
  {
   "cell_type": "code",
   "execution_count": 231,
   "metadata": {},
   "outputs": [
    {
     "data": {
      "text/plain": [
       "[<matplotlib.lines.Line2D at 0x1a2d18f210>,\n",
       " <matplotlib.lines.Line2D at 0x1a2d18fdd0>]"
      ]
     },
     "execution_count": 231,
     "metadata": {},
     "output_type": "execute_result"
    },
    {
     "data": {
      "image/png": "[encoded data removed]",
      "text/plain": [
       "<Figure size 432x288 with 1 Axes>"
      ]
     },
     "metadata": {
      "needs_background": "light"
     },
     "output_type": "display_data"
    }
   ],
   "source": [
    "plt.plot(training_feature,training_output,'.')\n",
    "plt.plot(training_feature,predict_output(training_feature, simple_weights_0_penalty) ,'-',color='blue')\n",
    "plt.plot(training_feature,predict_output(training_feature, simple_weights_high_penalty) ,'-',color='red')"
   ]
  },
  {
   "cell_type": "markdown",
   "metadata": {},
   "source": [
    "Compute the RSS on the TEST data for the following three sets of weights:\n",
    "The initial weights (all zeros)\n",
    "The weights learned with no regularization\n",
    "The weights learned with high regularization\n",
    "Which weights perform best?"
   ]
  },
  {
   "cell_type": "code",
   "execution_count": 232,
   "metadata": {},
   "outputs": [
    {
     "name": "stdout",
     "output_type": "stream",
     "text": [
      "RSS for test data on initial weights is: 798125082165935.0\n"
     ]
    }
   ],
   "source": [
    "predictions_1 = predict_output(testing_feature, initial_weights)\n",
    "errors_square_1 = (predictions_1 - testing_output) ** 2\n",
    "RSS_1 = errors_square_1.sum()\n",
    "print('RSS for test data on initial weights is:',RSS_1)"
   ]
  },
  {
   "cell_type": "code",
   "execution_count": 240,
   "metadata": {},
   "outputs": [
    {
     "name": "stdout",
     "output_type": "stream",
     "text": [
      "RSS for test data on weights learned with no regularization is: 326216002380153.94\n"
     ]
    }
   ],
   "source": [
    "predictions_2 = predict_output(testing_feature, simple_weights_0_penalty)\n",
    "errors_square_2 = (predictions_2 - testing_output) ** 2\n",
    "RSS_2 = errors_square_2.sum()\n",
    "print('RSS for test data on weights learned with no regularization is:',RSS_2)"
   ]
  },
  {
   "cell_type": "code",
   "execution_count": 241,
   "metadata": {},
   "outputs": [
    {
     "name": "stdout",
     "output_type": "stream",
     "text": [
      "RSS for test data on weights learned with high regularization is: 385989709634229.94\n"
     ]
    }
   ],
   "source": [
    "predictions_3 = predict_output(testing_feature, simple_weights_high_penalty)\n",
    "errors_square_3 = (predictions_3 - testing_output) ** 2\n",
    "RSS_3 = errors_square_3.sum()\n",
    "print('RSS for test data on weights learned with high regularization is:',RSS_3)"
   ]
  },
  {
   "cell_type": "markdown",
   "metadata": {},
   "source": [
    "why do you think the RSS for test sets are in this way?"
   ]
  },
  {
   "cell_type": "code",
   "execution_count": null,
   "metadata": {},
   "outputs": [],
   "source": [
    "# I find that Rss for the test data on weights learned with no regularization is\n",
    "# smaller than the learned with regularization one."
   ]
  },
  {
   "cell_type": "markdown",
   "metadata": {},
   "source": [
    "# Running a multiple regression with L2 penalty"
   ]
  },
  {
   "cell_type": "markdown",
   "metadata": {},
   "source": [
    "Now do some research on a model with multiple features. For example, you can explore \"SQUARE FEET\" and number of bedrooms and bathrooms. Remember to re-initialize your weights since now you have multiple parameters. First consider no regularization and then run it with regularization. \n",
    "\n",
    "Compute the RSS on the TEST data for the following three sets of weights:\n",
    "1. The initial weights (all zeros)\n",
    "2. The weights learned with no regularization\n",
    "3. The weights learned with high regularization\n",
    "\n",
    "Which weights perform best?"
   ]
  },
  {
   "cell_type": "code",
   "execution_count": 248,
   "metadata": {},
   "outputs": [],
   "source": [
    "multiple_features = ['SQUARE FEET','BEDS','BATHS']\n",
    "output = 'PRICE'"
   ]
  },
  {
   "cell_type": "code",
   "execution_count": 259,
   "metadata": {},
   "outputs": [],
   "source": [
    "data = df[['SQUARE FEET','BEDS','BATHS','PRICE']]"
   ]
  },
  {
   "cell_type": "code",
   "execution_count": 261,
   "metadata": {},
   "outputs": [],
   "source": [
    "data2 = data.dropna()"
   ]
  },
  {
   "cell_type": "code",
   "execution_count": 262,
   "metadata": {},
   "outputs": [],
   "source": [
    "(multi_train,multi_test) = train_test_split(data2,test_size=0.2)"
   ]
  },
  {
   "cell_type": "code",
   "execution_count": 274,
   "metadata": {},
   "outputs": [
    {
     "name": "stderr",
     "output_type": "stream",
     "text": [
      "/Users/liziwei/anaconda3/lib/python3.7/site-packages/ipykernel_launcher.py:2: SettingWithCopyWarning: \n",
      "A value is trying to be set on a copy of a slice from a DataFrame.\n",
      "Try using .loc[row_indexer,col_indexer] = value instead\n",
      "\n",
      "See the caveats in the documentation: http://pandas.pydata.org/pandas-docs/stable/user_guide/indexing.html#returning-a-view-versus-a-copy\n",
      "  \n"
     ]
    }
   ],
   "source": [
    "(multi_train_feature,multi_train_output) = get_numpy_data(multi_train, multiple_features, output)"
   ]
  },
  {
   "cell_type": "code",
   "execution_count": 281,
   "metadata": {},
   "outputs": [
    {
     "name": "stderr",
     "output_type": "stream",
     "text": [
      "/Users/liziwei/anaconda3/lib/python3.7/site-packages/ipykernel_launcher.py:2: SettingWithCopyWarning: \n",
      "A value is trying to be set on a copy of a slice from a DataFrame.\n",
      "Try using .loc[row_indexer,col_indexer] = value instead\n",
      "\n",
      "See the caveats in the documentation: http://pandas.pydata.org/pandas-docs/stable/user_guide/indexing.html#returning-a-view-versus-a-copy\n",
      "  \n"
     ]
    }
   ],
   "source": [
    "(multi_test_feature,multi_test_output) = get_numpy_data(multi_test, multiple_features, output)"
   ]
  },
  {
   "cell_type": "code",
   "execution_count": 276,
   "metadata": {},
   "outputs": [],
   "source": [
    "initial_weights = np.array([0., 0.,0.,0.])\n",
    "step_size = 1e-12\n",
    "max_iterations=1000"
   ]
  },
  {
   "cell_type": "code",
   "execution_count": 278,
   "metadata": {},
   "outputs": [
    {
     "name": "stdout",
     "output_type": "stream",
     "text": [
      "Starting gradient descent with l2_penalty = 0.0\n",
      "Iteration = 1\n",
      "Cost function =  592375251526563.0\n",
      "Iteration = 2\n",
      "Cost function =  590484801765438.2\n",
      "Iteration = 3\n",
      "Cost function =  588604194298071.6\n",
      "Iteration = 4\n",
      "Cost function =  586733377882294.0\n",
      "Iteration = 5\n",
      "Cost function =  584872301542719.5\n",
      "Iteration = 6\n",
      "Cost function =  583020914569356.0\n",
      "Iteration = 7\n",
      "Cost function =  581179166516225.0\n",
      "Iteration = 8\n",
      "Cost function =  579347007199985.2\n",
      "Iteration = 9\n",
      "Cost function =  577524386698566.5\n",
      "Iteration = 10\n",
      "Cost function =  575711255349809.5\n",
      "Iteration = 20\n",
      "Cost function =  558091102731436.56\n",
      "Iteration = 30\n",
      "Cost function =  541367115635020.0\n",
      "Iteration = 40\n",
      "Cost function =  525493714850001.8\n",
      "Iteration = 50\n",
      "Cost function =  510427639336278.0\n",
      "Iteration = 60\n",
      "Cost function =  496127828321449.4\n",
      "Iteration = 70\n",
      "Cost function =  482555309394635.75\n",
      "Iteration = 80\n",
      "Cost function =  469673092291868.25\n",
      "Iteration = 90\n",
      "Cost function =  457446068083584.25\n",
      "Iteration = 100\n",
      "Cost function =  445840913489472.3\n",
      "Iteration = 200\n",
      "Cost function =  357769094524284.75\n",
      "Iteration = 300\n",
      "Cost function =  305512807576817.1\n",
      "Iteration = 400\n",
      "Cost function =  274507208182447.38\n",
      "Iteration = 500\n",
      "Cost function =  256110432279962.8\n",
      "Iteration = 600\n",
      "Cost function =  245194940427807.1\n",
      "Iteration = 700\n",
      "Cost function =  238718372720931.56\n",
      "Iteration = 800\n",
      "Cost function =  234875583846004.78\n",
      "Iteration = 900\n",
      "Cost function =  232595513933734.12\n",
      "Iteration = 1000\n",
      "Cost function =  231242663318171.84\n",
      "Done with gradient descent at iteration  1000\n",
      "Learned weights =  [2.72335503e-01 4.89018178e+02 8.67323326e-01 6.36635276e-01]\n"
     ]
    }
   ],
   "source": [
    "multiple_weights_0_penalty = ridge_regression_gradient_descent(mutlti_test_feature, multi_test_output, initial_weights, step_size, 0.0, max_iterations)"
   ]
  },
  {
   "cell_type": "code",
   "execution_count": 279,
   "metadata": {},
   "outputs": [
    {
     "name": "stdout",
     "output_type": "stream",
     "text": [
      "Starting gradient descent with l2_penalty = 3000000000.0\n",
      "Iteration = 1\n",
      "Cost function =  592375251526563.0\n",
      "Iteration = 2\n",
      "Cost function =  590490480514287.5\n",
      "Iteration = 3\n",
      "Cost function =  588638012671858.1\n",
      "Iteration = 4\n",
      "Cost function =  586817294353813.4\n",
      "Iteration = 5\n",
      "Cost function =  585027781403645.2\n",
      "Iteration = 6\n",
      "Cost function =  583268938991168.6\n",
      "Iteration = 7\n",
      "Cost function =  581540241452676.4\n",
      "Iteration = 8\n",
      "Cost function =  579841172133835.2\n",
      "Iteration = 9\n",
      "Cost function =  578171223235273.5\n",
      "Iteration = 10\n",
      "Cost function =  576529895660815.4\n",
      "Iteration = 20\n",
      "Cost function =  561586923270247.3\n",
      "Iteration = 30\n",
      "Cost function =  549016270307087.75\n",
      "Iteration = 40\n",
      "Cost function =  538441311543064.25\n",
      "Iteration = 50\n",
      "Cost function =  529545214103733.5\n",
      "Iteration = 60\n",
      "Cost function =  522061444940343.25\n",
      "Iteration = 70\n",
      "Cost function =  515765785318640.1\n",
      "Iteration = 80\n",
      "Cost function =  510469613073283.06\n",
      "Iteration = 90\n",
      "Cost function =  506014251359643.25\n",
      "Iteration = 100\n",
      "Cost function =  502266214587752.6\n",
      "Iteration = 200\n",
      "Cost function =  485931085948377.9\n",
      "Iteration = 300\n",
      "Cost function =  483031514152256.0\n",
      "Iteration = 400\n",
      "Cost function =  482516808276188.4\n",
      "Iteration = 500\n",
      "Cost function =  482425425790288.75\n",
      "Iteration = 600\n",
      "Cost function =  482409184926381.56\n",
      "Iteration = 700\n",
      "Cost function =  482406282005829.6\n",
      "Iteration = 800\n",
      "Cost function =  482405746624474.25\n",
      "Iteration = 900\n",
      "Cost function =  482405631490966.75\n",
      "Iteration = 1000\n",
      "Cost function =  482405590953167.94\n",
      "Done with gradient descent at iteration  1000\n",
      "Learned weights =  [  0.51722029 159.83006921   0.27210148   0.20304517]\n"
     ]
    }
   ],
   "source": [
    "multiple_weights_high_penalty = ridge_regression_gradient_descent(mutlti_test_feature, multi_test_output, initial_weights, step_size, 3e9, max_iterations)"
   ]
  },
  {
   "cell_type": "code",
   "execution_count": 282,
   "metadata": {},
   "outputs": [
    {
     "name": "stdout",
     "output_type": "stream",
     "text": [
      "RSS for test data on initial weights is: 592375251526563.0\n"
     ]
    }
   ],
   "source": [
    "predictions_multi_1 = predict_output(multi_test_feature, initial_weights)\n",
    "errors_square_multi_1 = (predictions_multi_1 - multi_test_output) ** 2\n",
    "RSS_multi_1 = errors_square_multi_1.sum()\n",
    "print('RSS for test data on initial weights is:',RSS_multi_1)"
   ]
  },
  {
   "cell_type": "code",
   "execution_count": 285,
   "metadata": {},
   "outputs": [
    {
     "name": "stdout",
     "output_type": "stream",
     "text": [
      "RSS for test data on weights learned with no regularization is: 231232386746841.5\n"
     ]
    }
   ],
   "source": [
    "predictions_multi_2 = predict_output(multi_test_feature, multiple_weights_0_penalty)\n",
    "errors_square_multi_2 = (predictions_multi_2 - multi_test_output) ** 2\n",
    "RSS_multi_2 = errors_square_multi_2.sum()\n",
    "print('RSS for test data on weights learned with no regularization is:',RSS_multi_2)"
   ]
  },
  {
   "cell_type": "code",
   "execution_count": 286,
   "metadata": {},
   "outputs": [
    {
     "name": "stdout",
     "output_type": "stream",
     "text": [
      "RSS for test data on weights learned with high regularization is: 405768291777737.9\n"
     ]
    }
   ],
   "source": [
    "predictions_multi_3 = predict_output(multi_test_feature, multiple_weights_high_penalty)\n",
    "errors_square_multi_3 = (predictions_multi_3 - multi_test_output) ** 2\n",
    "RSS_multi_3 = errors_square_multi_3.sum()\n",
    "print('RSS for test data on weights learned with high regularization is:',RSS_multi_3)"
   ]
  },
  {
   "cell_type": "code",
   "execution_count": null,
   "metadata": {},
   "outputs": [],
   "source": []
  }
 ],
 "metadata": {
  "kernelspec": {
   "display_name": "Python 3",
   "language": "python",
   "name": "python3"
  },
  "language_info": {
   "codemirror_mode": {
    "name": "ipython",
    "version": 3
   },
   "file_extension": ".py",
   "mimetype": "text/x-python",
   "name": "python",
   "nbconvert_exporter": "python",
   "pygments_lexer": "ipython3",
   "version": "3.7.5"
  }
 },
 "nbformat": 4,
 "nbformat_minor": 1
}
